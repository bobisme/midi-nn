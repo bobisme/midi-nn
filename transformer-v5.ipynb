{
 "cells": [
  {
   "cell_type": "code",
   "execution_count": 1,
   "id": "ce61c533-2231-4f2c-8f4a-d5fd077f9905",
   "metadata": {},
   "outputs": [],
   "source": [
    "import random\n",
    "import glob\n",
    "import math\n",
    "from dataclasses import dataclass\n",
    "from typing import Literal\n",
    "\n",
    "import torch\n",
    "import torch.nn as nn\n",
    "import torch.nn.functional as F\n",
    "import matplotlib.pyplot as plt\n",
    "from torch.utils.tensorboard import SummaryWriter\n",
    "import cbor2\n",
    "\n",
    "assert torch.cuda.is_available()\n",
    "random.seed(42)\n",
    "torch.manual_seed(42)\n",
    "RUN_KEY = \"attention-v5\"\n",
    "summary = SummaryWriter(f\"runs/{RUN_KEY}\")"
   ]
  },
  {
   "cell_type": "code",
   "execution_count": 2,
   "id": "c272b853-a3f5-4a8f-9aaf-e2f026a04339",
   "metadata": {},
   "outputs": [],
   "source": [
    "BATCH_SIZE = 32"
   ]
  },
  {
   "cell_type": "code",
   "execution_count": 3,
   "id": "e88efede-b487-49c3-969f-af286715054d",
   "metadata": {},
   "outputs": [],
   "source": [
    "@dataclass\n",
    "class ModelConfig:\n",
    "    context_len: int = 512\n",
    "    n_layers: int = 12\n",
    "    n_heads: int = 8\n",
    "    n_embeds: int = 32\n",
    "    n_tokens: int = 128\n",
    "    n_added_params: int = 3\n",
    "    dropout: float = 0.0\n",
    "    bias: bool = True\n",
    "    @property\n",
    "    def n_embed_and_added(self):\n",
    "        return self.n_embeds + self.n_added_params\n",
    "    @property\n",
    "    def n_tokens_and_added(self):\n",
    "        return self.n_tokens + self.n_added_params"
   ]
  },
  {
   "cell_type": "code",
   "execution_count": 4,
   "id": "3aff63cf-a906-4e18-b939-4302c6a44242",
   "metadata": {},
   "outputs": [],
   "source": [
    "track_paths = glob.glob('moonlight.tokens')\n",
    "#display(track_paths)\n",
    "tracks = []\n",
    "for path in track_paths:\n",
    "    with open(path, 'rb') as f:\n",
    "        track_data = cbor2.load(f)\n",
    "        if len(track_data) < 100:\n",
    "            print(\"too short:\", path)\n",
    "        tracks.append([x for x in track_data if x[1] > 0.05])"
   ]
  },
  {
   "cell_type": "code",
   "execution_count": 5,
   "id": "b2d10b79-a6f0-43e9-9675-2b85c7cd9afa",
   "metadata": {},
   "outputs": [
    {
     "name": "stdout",
     "output_type": "stream",
     "text": [
      "[[37, 2.6666666666666665, 0.0, 0.29133858267716534], [49, 3.3333333333333335, 0.0, 0.2283464566929134], [56, 0.3333333333333333, 0.0, 0.36220472440944884], [61, 0.3333333333333333, 0.3333333333333333, 0.23622047244094488], [64, 0.6666666666666666, 0.3333333333333333, 0.33858267716535434]]\n",
      "1\n"
     ]
    }
   ],
   "source": [
    "print(tracks[0][0:5])\n",
    "print(len(tracks))"
   ]
  },
  {
   "cell_type": "code",
   "execution_count": 6,
   "id": "049fe1ac-2fda-4709-8948-88139476e1c8",
   "metadata": {},
   "outputs": [],
   "source": [
    "data = torch.tensor([event for track in tracks for event in track])\n",
    "split_n = int(0.9 * len(data))\n",
    "train_data = data[:split_n]\n",
    "eval_data = data[split_n:]"
   ]
  },
  {
   "cell_type": "code",
   "execution_count": 7,
   "id": "fb7f9cae-8dda-42b4-9bec-451f26b381ec",
   "metadata": {},
   "outputs": [],
   "source": [
    "def get_batch(split: Literal['train', 'eval'], config: ModelConfig, batch_size=BATCH_SIZE):\n",
    "    data = train_data if split == 'train' else eval_data\n",
    "    ix = torch.randint(len(data) - config.context_len, (batch_size,))\n",
    "    x = torch.stack([data[i:i+config.context_len] for i in ix])\n",
    "    y = torch.stack([data[i+1:i+config.context_len+1] for i in ix])\n",
    "    return x.cuda(), y.cuda()"
   ]
  },
  {
   "cell_type": "code",
   "execution_count": 8,
   "id": "07a08b27-4403-4603-b45c-9275af874383",
   "metadata": {},
   "outputs": [
    {
     "data": {
      "text/plain": [
       "torch.Size([32, 512, 4])"
      ]
     },
     "execution_count": 8,
     "metadata": {},
     "output_type": "execute_result"
    }
   ],
   "source": [
    "get_batch('train', ModelConfig())[0].shape"
   ]
  },
  {
   "cell_type": "code",
   "execution_count": 9,
   "id": "4d97a66e-bdd2-4567-8bf9-31a37b88e134",
   "metadata": {},
   "outputs": [],
   "source": [
    "class SelfAttention(nn.Module):\n",
    "    def __init__(self, config: ModelConfig):\n",
    "        super().__init__()\n",
    "        assert config.n_embeds % config.n_heads == 0\n",
    "        self.config = config\n",
    "        head_size = config.n_embeds // config.n_heads\n",
    "        self.key = nn.Linear(config.n_embeds, head_size, bias=config.bias)\n",
    "        self.query = nn.Linear(config.n_embeds, head_size, bias=config.bias)\n",
    "        self.value = nn.Linear(config.n_embeds, head_size, bias=config.bias)\n",
    "        self.dropout = nn.Dropout(config.dropout)\n",
    "        self.register_buffer('tril', torch.tril(torch.ones(config.context_len, config.context_len)))\n",
    "\n",
    "    def forward(self, x):\n",
    "        B, T, C = x.shape\n",
    "        k = self.key(x)\n",
    "        q = self.query(x)\n",
    "        w = q @ k.transpose(-2, -1) * C**-0.5\n",
    "        w = w.masked_fill(self.tril[:T, :T] == 0, float('-inf'))\n",
    "        w = F.softmax(w, dim=-1)\n",
    "        w = self.dropout(w)\n",
    "        v = self.value(x)\n",
    "        out = w @ v\n",
    "        return out\n",
    "\n",
    "class MultiHeadAttention(nn.Module):\n",
    "    def __init__(self, config: ModelConfig):\n",
    "        super().__init__()\n",
    "        self.config = config\n",
    "        head_size = config.n_embeds // config.n_heads\n",
    "        self.heads = nn.ModuleList([SelfAttention(config) for _ in range(config.n_heads)])\n",
    "        self.projection = nn.Linear(config.n_heads * head_size, config.n_embeds, bias=False)\n",
    "        self.dropout = nn.Dropout(config.dropout)\n",
    "    def forward(self, x):\n",
    "        out = torch.cat([h(x) for h in self.heads], dim=-1)\n",
    "        out = self.projection(out)\n",
    "        out = self.dropout(out)\n",
    "        return out\n",
    "\n",
    "class FeedForward(nn.Module):\n",
    "    def __init__(self, config: ModelConfig):\n",
    "        super().__init__()\n",
    "        self.config = config\n",
    "        self.net = nn.Sequential(\n",
    "            nn.Linear(config.n_embeds, 4 * config.n_embeds),\n",
    "            nn.ReLU(), # TODO: GELU\n",
    "            nn.Linear(4 * config.n_embeds, config.n_embeds),\n",
    "            nn.Dropout(config.dropout),\n",
    "        )\n",
    "    def forward(self, x):\n",
    "        return self.net(x)\n",
    "\n",
    "class SABlock(nn.Module):\n",
    "    def __init__(self, config: ModelConfig):\n",
    "        super().__init__()\n",
    "        head_size = config.n_embeds // config.n_heads\n",
    "        self.sa = MultiHeadAttention(config)\n",
    "        self.ffwd = FeedForward(config)\n",
    "        self.ln1 = nn.LayerNorm(config.n_embeds)\n",
    "        self.ln2 = nn.LayerNorm(config.n_embeds)\n",
    "\n",
    "    def forward(self, x):\n",
    "        x = x + self.sa(self.ln1(x))\n",
    "        x = x + self.ffwd(self.ln2(x))\n",
    "        return x"
   ]
  },
  {
   "cell_type": "code",
   "execution_count": 10,
   "id": "4823ed7d-46c4-4d71-88a9-e8400508dbee",
   "metadata": {},
   "outputs": [],
   "source": [
    "class Model(nn.Module):\n",
    "    def __init__(self, config: ModelConfig):\n",
    "        super().__init__()\n",
    "        self.config = config\n",
    "        self.token_embedding_table = nn.Embedding(config.n_tokens, config.n_embeds)\n",
    "        self.position_embedding_table = nn.Embedding(config.context_len, config.n_embeds)\n",
    "        self.drop = nn.Dropout(config.dropout)\n",
    "        self.blocks = nn.Sequential(*[SABlock(config) for _ in range(config.n_layers)])\n",
    "        self.layer_norm = nn.LayerNorm(config.n_embed_and_added, bias=config.bias)\n",
    "        self.lm_head = nn.Linear(config.n_embed_and_added, config.n_tokens_and_added, bias=False)\n",
    "        # Tie weights\n",
    "        print(f\"{self.token_embedding_table.weight.shape=}\")\n",
    "        print(f\"{self.lm_head.weight.shape=}\")\n",
    "        tie_weights = torch.nn.Parameter(self.lm_head.weight[:config.n_tokens, :config.n_embeds])\n",
    "        print(f\"{tie_weights.shape=}\")\n",
    "        self.token_embedding_table.weight = tie_weights\n",
    "        self.apply(self._init_weights)\n",
    "        # We scale the weights of residual layers at initialization by a factor of 1/√N\n",
    "        # where N is the number of residual layers.\n",
    "        # Language Models are Unsupervised Multitask Learners\n",
    "        for name, p in self.named_parameters():\n",
    "            if name.endswith('projection.weight'):\n",
    "                torch.nn.init.normal_(p, mean=0.0, std=0.02/math.sqrt(2 * config.n_layers)) \n",
    "                \n",
    "    def _init_weights(self, module):\n",
    "        if isinstance(module, nn.Linear):\n",
    "            torch.nn.init.normal_(module.weight, mean=0.0, std=0.02)\n",
    "            if module.bias is not None:\n",
    "                torch.nn.init.zeros_(module.bias)\n",
    "        elif isinstance(module, nn.Embedding):\n",
    "            torch.nn.init.normal_(module.weight, mean=0.0, std=0.02)\n",
    "        \n",
    "    def forward(self, x, targets=None):\n",
    "        device = x.device\n",
    "        B, T, C = x.shape\n",
    "        assert T <= self.config.context_len, T\n",
    "        tokens = x[:,:,0].long()\n",
    "        added = x[:,:,1:].view(-1, self.config.context_len, self.config.n_added_params)\n",
    "        tok_emb = self.token_embedding_table(tokens)\n",
    "        pos_emb = self.position_embedding_table(torch.arange(T, dtype=torch.long, device=device))\n",
    "        x = tok_emb + pos_emb\n",
    "        x = self.drop(x)\n",
    "        x = self.blocks(x)\n",
    "        x = torch.cat((x, added), dim=2)\n",
    "        x = self.layer_norm(x)\n",
    "        if targets is None:\n",
    "            # only use last position for generation\n",
    "            logits = self.lm_head(x[:, [-1], :])\n",
    "            return logits, None, None, None\n",
    "        logits = self.lm_head(x)\n",
    "        B, T, C = logits.shape\n",
    "        classes = targets[:, :, 0].long()\n",
    "        added_params = targets[:, :, 1:]\n",
    "        label_loss = F.cross_entropy(logits.view(B*T, C), classes.view(B*T))\n",
    "        sq_err = ((added_params[:, :, -self.config.n_added_params:] - logits[:, :, -self.config.n_added_params:]) ** 2)\n",
    "        added_param_loss = sq_err.mean(dim=1).mean(dim=0).sum()\n",
    "        loss = label_loss + added_param_loss\n",
    "        return logits, loss, label_loss, added_param_loss\n",
    "    \n",
    "    @torch.no_grad()\n",
    "    def generate(self, idx, max_new_tokens, temperature=1.0, top_k=None):\n",
    "        model.eval()\n",
    "        out = []\n",
    "        for _ in range(max_new_tokens):\n",
    "            idx = idx[:, -self.config.context_len:] # truncate context\n",
    "            logits, _, _, _ = self(idx)\n",
    "            # TODO: temperature and top-k\n",
    "            probs = F.softmax(logits[:, -1, :self.config.n_tokens], dim=-1)\n",
    "            next_token = torch.multinomial(probs, num_samples=1) # B, 1\n",
    "            token = next_token.int().item()\n",
    "            added_params = logits[:,-1,-self.config.n_added_params:].view(1, self.config.n_added_params)\n",
    "            next_idx = torch.cat((next_token, added_params), dim=-1) # B, 3\n",
    "            out.append([token] + added_params.tolist()[0])\n",
    "            idx = torch.cat((idx, next_idx.view(1, -1, 1 + self.config.n_added_params)), dim=1)\n",
    "            if next_token.item() == 3:\n",
    "                break\n",
    "        return out\n"
   ]
  },
  {
   "cell_type": "code",
   "execution_count": 11,
   "id": "e0ab234d-c40b-4ce0-9189-2c7203567978",
   "metadata": {},
   "outputs": [],
   "source": [
    "class ModelStats:\n",
    "    def __init__(self, model: Model):\n",
    "        self.model = model\n",
    "\n",
    "    def estimate_flops(self):\n",
    "        pass\n",
    "        \n",
    "    def num_parameters(self):\n",
    "        n_elements = sum(p.numel() for p in self.model.parameters())\n",
    "        return n_elements"
   ]
  },
  {
   "cell_type": "code",
   "execution_count": 12,
   "id": "59797891-dff7-4de0-932c-2771dffae70c",
   "metadata": {},
   "outputs": [
    {
     "name": "stdout",
     "output_type": "stream",
     "text": [
      "self.token_embedding_table.weight.shape=torch.Size([128, 32])\n",
      "self.lm_head.weight.shape=torch.Size([131, 35])\n",
      "tie_weights.shape=torch.Size([128, 32])\n"
     ]
    },
    {
     "name": "stderr",
     "output_type": "stream",
     "text": [
      "/tmp/ipykernel_292730/2605964146.py:36: TracerWarning: Converting a tensor to a Python boolean might cause the trace to be incorrect. We can't record the data flow of Python values, so this value will be treated as a constant in the future. This means that the trace might not generalize to other inputs!\n",
      "  assert T <= self.config.context_len, T\n"
     ]
    },
    {
     "data": {
      "text/plain": [
       "177199"
      ]
     },
     "metadata": {},
     "output_type": "display_data"
    }
   ],
   "source": [
    "config = ModelConfig()\n",
    "model = Model(config).cuda()\n",
    "summary.add_graph(model, get_batch('train', config))\n",
    "global_training_steps = 0\n",
    "stats = ModelStats(model)\n",
    "display(stats.num_parameters())"
   ]
  },
  {
   "cell_type": "code",
   "execution_count": 13,
   "id": "41e8b53b-5dda-46c3-a421-2de783e5c796",
   "metadata": {},
   "outputs": [],
   "source": [
    "torch.backends.cuda.matmul.allow_tf32 = True\n",
    "torch.backends.cudnn.allow_tf32 = True\n",
    "dtype = torch.bfloat16 if torch.cuda.is_available() and torch.cuda.is_bf16_supported() else torch.float16\n",
    "autocast_ctx = torch.autocast(device_type='cuda', dtype=dtype)"
   ]
  },
  {
   "cell_type": "code",
   "execution_count": 14,
   "id": "b1d872ba-d518-407e-b379-1ab1ca4b4b23",
   "metadata": {},
   "outputs": [],
   "source": [
    "eval_iters = 100\n",
    "@torch.no_grad()\n",
    "def estimate_loss():\n",
    "    out = {}\n",
    "    model.eval()\n",
    "    for split in ['train']:#, 'eval']:\n",
    "        losses = torch.zeros(eval_iters)\n",
    "        for k in range(eval_iters):\n",
    "            X, Y = get_batch(split, config)\n",
    "            with autocast_ctx:\n",
    "                logits, loss, _, _ = model(X, Y)\n",
    "            losses[k] = loss.item()\n",
    "        out[split] = losses.mean()\n",
    "    model.train()\n",
    "    return out"
   ]
  },
  {
   "cell_type": "code",
   "execution_count": 15,
   "id": "2d6d4462-6ab6-4845-a04b-e75469c623cc",
   "metadata": {},
   "outputs": [
    {
     "data": {
      "text/plain": [
       "{'train': tensor(7.1638)}"
      ]
     },
     "execution_count": 15,
     "metadata": {},
     "output_type": "execute_result"
    }
   ],
   "source": [
    "estimate_loss()"
   ]
  },
  {
   "cell_type": "code",
   "execution_count": 16,
   "id": "ad5e7acd-d020-4e22-b3cd-5189603fdb05",
   "metadata": {},
   "outputs": [
    {
     "name": "stdout",
     "output_type": "stream",
     "text": [
      "      0/ 100000: 7.1725, lr=[0.001]\n",
      "    100/ 100000: 4.3534, lr=[0.001]\n",
      "    200/ 100000: 3.4749, lr=[0.001]\n",
      "    300/ 100000: 2.3091, lr=[0.001]\n",
      "    400/ 100000: 1.4322, lr=[0.001]\n",
      "    500/ 100000: 0.8878, lr=[0.0002]\n",
      "    600/ 100000: 0.6025, lr=[0.0002]\n",
      "    700/ 100000: 0.5173, lr=[0.0002]\n",
      "    800/ 100000: 0.4074, lr=[0.0002]\n",
      "    900/ 100000: 0.3618, lr=[0.0002]\n",
      "   1000/ 100000: 0.2988, lr=[4e-05]\n",
      "   1100/ 100000: 0.2709, lr=[4e-05]\n",
      "   1200/ 100000: 0.2565, lr=[4e-05]\n",
      "   1300/ 100000: 0.2493, lr=[4e-05]\n",
      "   1400/ 100000: 0.2341, lr=[4e-05]\n",
      "   1500/ 100000: 0.2287, lr=[8.000000000000001e-06]\n",
      "   1600/ 100000: 0.2181, lr=[8.000000000000001e-06]\n",
      "   1700/ 100000: 0.2145, lr=[8.000000000000001e-06]\n",
      "   1800/ 100000: 0.2233, lr=[8.000000000000001e-06]\n",
      "   1900/ 100000: 0.2222, lr=[8.000000000000001e-06]\n",
      "   2000/ 100000: 0.2156, lr=[1.6000000000000004e-06]\n",
      "   2100/ 100000: 0.2089, lr=[1.6000000000000004e-06]\n"
     ]
    },
    {
     "ename": "KeyboardInterrupt",
     "evalue": "",
     "output_type": "error",
     "traceback": [
      "\u001b[1;31m---------------------------------------------------------------------------\u001b[0m",
      "\u001b[1;31mKeyboardInterrupt\u001b[0m                         Traceback (most recent call last)",
      "Cell \u001b[1;32mIn[16], line 13\u001b[0m\n\u001b[0;32m     11\u001b[0m optimizer\u001b[38;5;241m.\u001b[39mzero_grad(set_to_none\u001b[38;5;241m=\u001b[39m\u001b[38;5;28;01mTrue\u001b[39;00m)\n\u001b[0;32m     12\u001b[0m \u001b[38;5;28;01mwith\u001b[39;00m autocast_ctx:\n\u001b[1;32m---> 13\u001b[0m     logits, loss, label_loss, added_param_loss \u001b[38;5;241m=\u001b[39m \u001b[40mmodel\u001b[49m\u001b[40m(\u001b[49m\u001b[40mXb\u001b[49m\u001b[40m,\u001b[49m\u001b[40m \u001b[49m\u001b[40mYb\u001b[49m\u001b[40m)\u001b[49m\n\u001b[0;32m     14\u001b[0m \u001b[38;5;28;01mif\u001b[39;00m i \u001b[38;5;241m%\u001b[39m \u001b[38;5;241m10\u001b[39m \u001b[38;5;241m==\u001b[39m \u001b[38;5;241m0\u001b[39m:\n\u001b[0;32m     15\u001b[0m     summary\u001b[38;5;241m.\u001b[39madd_scalar(\u001b[38;5;124m'\u001b[39m\u001b[38;5;124mloss\u001b[39m\u001b[38;5;124m'\u001b[39m, loss\u001b[38;5;241m.\u001b[39mitem(), global_training_steps)\n",
      "File \u001b[1;32m~/src/midi-tokenizer/.venv/lib/python3.11/site-packages/torch/nn/modules/module.py:1518\u001b[0m, in \u001b[0;36mModule._wrapped_call_impl\u001b[1;34m(self, *args, **kwargs)\u001b[0m\n\u001b[0;32m   1516\u001b[0m     \u001b[38;5;28;01mreturn\u001b[39;00m \u001b[38;5;28mself\u001b[39m\u001b[38;5;241m.\u001b[39m_compiled_call_impl(\u001b[38;5;241m*\u001b[39margs, \u001b[38;5;241m*\u001b[39m\u001b[38;5;241m*\u001b[39mkwargs)  \u001b[38;5;66;03m# type: ignore[misc]\u001b[39;00m\n\u001b[0;32m   1517\u001b[0m \u001b[38;5;28;01melse\u001b[39;00m:\n\u001b[1;32m-> 1518\u001b[0m     \u001b[38;5;28;01mreturn\u001b[39;00m \u001b[38;5;28;40mself\u001b[39;49m\u001b[38;5;241;40m.\u001b[39;49m\u001b[40m_call_impl\u001b[49m\u001b[40m(\u001b[49m\u001b[38;5;241;40m*\u001b[39;49m\u001b[40margs\u001b[49m\u001b[40m,\u001b[49m\u001b[40m \u001b[49m\u001b[38;5;241;40m*\u001b[39;49m\u001b[38;5;241;40m*\u001b[39;49m\u001b[40mkwargs\u001b[49m\u001b[40m)\u001b[49m\n",
      "File \u001b[1;32m~/src/midi-tokenizer/.venv/lib/python3.11/site-packages/torch/nn/modules/module.py:1527\u001b[0m, in \u001b[0;36mModule._call_impl\u001b[1;34m(self, *args, **kwargs)\u001b[0m\n\u001b[0;32m   1522\u001b[0m \u001b[38;5;66;03m# If we don't have any hooks, we want to skip the rest of the logic in\u001b[39;00m\n\u001b[0;32m   1523\u001b[0m \u001b[38;5;66;03m# this function, and just call forward.\u001b[39;00m\n\u001b[0;32m   1524\u001b[0m \u001b[38;5;28;01mif\u001b[39;00m \u001b[38;5;129;01mnot\u001b[39;00m (\u001b[38;5;28mself\u001b[39m\u001b[38;5;241m.\u001b[39m_backward_hooks \u001b[38;5;129;01mor\u001b[39;00m \u001b[38;5;28mself\u001b[39m\u001b[38;5;241m.\u001b[39m_backward_pre_hooks \u001b[38;5;129;01mor\u001b[39;00m \u001b[38;5;28mself\u001b[39m\u001b[38;5;241m.\u001b[39m_forward_hooks \u001b[38;5;129;01mor\u001b[39;00m \u001b[38;5;28mself\u001b[39m\u001b[38;5;241m.\u001b[39m_forward_pre_hooks\n\u001b[0;32m   1525\u001b[0m         \u001b[38;5;129;01mor\u001b[39;00m _global_backward_pre_hooks \u001b[38;5;129;01mor\u001b[39;00m _global_backward_hooks\n\u001b[0;32m   1526\u001b[0m         \u001b[38;5;129;01mor\u001b[39;00m _global_forward_hooks \u001b[38;5;129;01mor\u001b[39;00m _global_forward_pre_hooks):\n\u001b[1;32m-> 1527\u001b[0m     \u001b[38;5;28;01mreturn\u001b[39;00m \u001b[40mforward_call\u001b[49m\u001b[40m(\u001b[49m\u001b[38;5;241;40m*\u001b[39;49m\u001b[40margs\u001b[49m\u001b[40m,\u001b[49m\u001b[40m \u001b[49m\u001b[38;5;241;40m*\u001b[39;49m\u001b[38;5;241;40m*\u001b[39;49m\u001b[40mkwargs\u001b[49m\u001b[40m)\u001b[49m\n\u001b[0;32m   1529\u001b[0m \u001b[38;5;28;01mtry\u001b[39;00m:\n\u001b[0;32m   1530\u001b[0m     result \u001b[38;5;241m=\u001b[39m \u001b[38;5;28;01mNone\u001b[39;00m\n",
      "Cell \u001b[1;32mIn[10], line 43\u001b[0m, in \u001b[0;36mModel.forward\u001b[1;34m(self, x, targets)\u001b[0m\n\u001b[0;32m     41\u001b[0m x \u001b[38;5;241m=\u001b[39m tok_emb \u001b[38;5;241m+\u001b[39m pos_emb\n\u001b[0;32m     42\u001b[0m x \u001b[38;5;241m=\u001b[39m \u001b[38;5;28mself\u001b[39m\u001b[38;5;241m.\u001b[39mdrop(x)\n\u001b[1;32m---> 43\u001b[0m x \u001b[38;5;241m=\u001b[39m \u001b[38;5;28;40mself\u001b[39;49m\u001b[38;5;241;40m.\u001b[39;49m\u001b[40mblocks\u001b[49m\u001b[40m(\u001b[49m\u001b[40mx\u001b[49m\u001b[40m)\u001b[49m\n\u001b[0;32m     44\u001b[0m x \u001b[38;5;241m=\u001b[39m torch\u001b[38;5;241m.\u001b[39mcat((x, added), dim\u001b[38;5;241m=\u001b[39m\u001b[38;5;241m2\u001b[39m)\n\u001b[0;32m     45\u001b[0m x \u001b[38;5;241m=\u001b[39m \u001b[38;5;28mself\u001b[39m\u001b[38;5;241m.\u001b[39mlayer_norm(x)\n",
      "File \u001b[1;32m~/src/midi-tokenizer/.venv/lib/python3.11/site-packages/torch/nn/modules/module.py:1518\u001b[0m, in \u001b[0;36mModule._wrapped_call_impl\u001b[1;34m(self, *args, **kwargs)\u001b[0m\n\u001b[0;32m   1516\u001b[0m     \u001b[38;5;28;01mreturn\u001b[39;00m \u001b[38;5;28mself\u001b[39m\u001b[38;5;241m.\u001b[39m_compiled_call_impl(\u001b[38;5;241m*\u001b[39margs, \u001b[38;5;241m*\u001b[39m\u001b[38;5;241m*\u001b[39mkwargs)  \u001b[38;5;66;03m# type: ignore[misc]\u001b[39;00m\n\u001b[0;32m   1517\u001b[0m \u001b[38;5;28;01melse\u001b[39;00m:\n\u001b[1;32m-> 1518\u001b[0m     \u001b[38;5;28;01mreturn\u001b[39;00m \u001b[38;5;28;40mself\u001b[39;49m\u001b[38;5;241;40m.\u001b[39;49m\u001b[40m_call_impl\u001b[49m\u001b[40m(\u001b[49m\u001b[38;5;241;40m*\u001b[39;49m\u001b[40margs\u001b[49m\u001b[40m,\u001b[49m\u001b[40m \u001b[49m\u001b[38;5;241;40m*\u001b[39;49m\u001b[38;5;241;40m*\u001b[39;49m\u001b[40mkwargs\u001b[49m\u001b[40m)\u001b[49m\n",
      "File \u001b[1;32m~/src/midi-tokenizer/.venv/lib/python3.11/site-packages/torch/nn/modules/module.py:1527\u001b[0m, in \u001b[0;36mModule._call_impl\u001b[1;34m(self, *args, **kwargs)\u001b[0m\n\u001b[0;32m   1522\u001b[0m \u001b[38;5;66;03m# If we don't have any hooks, we want to skip the rest of the logic in\u001b[39;00m\n\u001b[0;32m   1523\u001b[0m \u001b[38;5;66;03m# this function, and just call forward.\u001b[39;00m\n\u001b[0;32m   1524\u001b[0m \u001b[38;5;28;01mif\u001b[39;00m \u001b[38;5;129;01mnot\u001b[39;00m (\u001b[38;5;28mself\u001b[39m\u001b[38;5;241m.\u001b[39m_backward_hooks \u001b[38;5;129;01mor\u001b[39;00m \u001b[38;5;28mself\u001b[39m\u001b[38;5;241m.\u001b[39m_backward_pre_hooks \u001b[38;5;129;01mor\u001b[39;00m \u001b[38;5;28mself\u001b[39m\u001b[38;5;241m.\u001b[39m_forward_hooks \u001b[38;5;129;01mor\u001b[39;00m \u001b[38;5;28mself\u001b[39m\u001b[38;5;241m.\u001b[39m_forward_pre_hooks\n\u001b[0;32m   1525\u001b[0m         \u001b[38;5;129;01mor\u001b[39;00m _global_backward_pre_hooks \u001b[38;5;129;01mor\u001b[39;00m _global_backward_hooks\n\u001b[0;32m   1526\u001b[0m         \u001b[38;5;129;01mor\u001b[39;00m _global_forward_hooks \u001b[38;5;129;01mor\u001b[39;00m _global_forward_pre_hooks):\n\u001b[1;32m-> 1527\u001b[0m     \u001b[38;5;28;01mreturn\u001b[39;00m \u001b[40mforward_call\u001b[49m\u001b[40m(\u001b[49m\u001b[38;5;241;40m*\u001b[39;49m\u001b[40margs\u001b[49m\u001b[40m,\u001b[49m\u001b[40m \u001b[49m\u001b[38;5;241;40m*\u001b[39;49m\u001b[38;5;241;40m*\u001b[39;49m\u001b[40mkwargs\u001b[49m\u001b[40m)\u001b[49m\n\u001b[0;32m   1529\u001b[0m \u001b[38;5;28;01mtry\u001b[39;00m:\n\u001b[0;32m   1530\u001b[0m     result \u001b[38;5;241m=\u001b[39m \u001b[38;5;28;01mNone\u001b[39;00m\n",
      "File \u001b[1;32m~/src/midi-tokenizer/.venv/lib/python3.11/site-packages/torch/nn/modules/container.py:215\u001b[0m, in \u001b[0;36mSequential.forward\u001b[1;34m(self, input)\u001b[0m\n\u001b[0;32m    213\u001b[0m \u001b[38;5;28;01mdef\u001b[39;00m \u001b[38;5;21mforward\u001b[39m(\u001b[38;5;28mself\u001b[39m, \u001b[38;5;28minput\u001b[39m):\n\u001b[0;32m    214\u001b[0m     \u001b[38;5;28;01mfor\u001b[39;00m module \u001b[38;5;129;01min\u001b[39;00m \u001b[38;5;28mself\u001b[39m:\n\u001b[1;32m--> 215\u001b[0m         \u001b[38;5;28minput\u001b[39m \u001b[38;5;241m=\u001b[39m \u001b[40mmodule\u001b[49m\u001b[40m(\u001b[49m\u001b[38;5;28;40minput\u001b[39;49m\u001b[40m)\u001b[49m\n\u001b[0;32m    216\u001b[0m     \u001b[38;5;28;01mreturn\u001b[39;00m \u001b[38;5;28minput\u001b[39m\n",
      "File \u001b[1;32m~/src/midi-tokenizer/.venv/lib/python3.11/site-packages/torch/nn/modules/module.py:1518\u001b[0m, in \u001b[0;36mModule._wrapped_call_impl\u001b[1;34m(self, *args, **kwargs)\u001b[0m\n\u001b[0;32m   1516\u001b[0m     \u001b[38;5;28;01mreturn\u001b[39;00m \u001b[38;5;28mself\u001b[39m\u001b[38;5;241m.\u001b[39m_compiled_call_impl(\u001b[38;5;241m*\u001b[39margs, \u001b[38;5;241m*\u001b[39m\u001b[38;5;241m*\u001b[39mkwargs)  \u001b[38;5;66;03m# type: ignore[misc]\u001b[39;00m\n\u001b[0;32m   1517\u001b[0m \u001b[38;5;28;01melse\u001b[39;00m:\n\u001b[1;32m-> 1518\u001b[0m     \u001b[38;5;28;01mreturn\u001b[39;00m \u001b[38;5;28;40mself\u001b[39;49m\u001b[38;5;241;40m.\u001b[39;49m\u001b[40m_call_impl\u001b[49m\u001b[40m(\u001b[49m\u001b[38;5;241;40m*\u001b[39;49m\u001b[40margs\u001b[49m\u001b[40m,\u001b[49m\u001b[40m \u001b[49m\u001b[38;5;241;40m*\u001b[39;49m\u001b[38;5;241;40m*\u001b[39;49m\u001b[40mkwargs\u001b[49m\u001b[40m)\u001b[49m\n",
      "File \u001b[1;32m~/src/midi-tokenizer/.venv/lib/python3.11/site-packages/torch/nn/modules/module.py:1527\u001b[0m, in \u001b[0;36mModule._call_impl\u001b[1;34m(self, *args, **kwargs)\u001b[0m\n\u001b[0;32m   1522\u001b[0m \u001b[38;5;66;03m# If we don't have any hooks, we want to skip the rest of the logic in\u001b[39;00m\n\u001b[0;32m   1523\u001b[0m \u001b[38;5;66;03m# this function, and just call forward.\u001b[39;00m\n\u001b[0;32m   1524\u001b[0m \u001b[38;5;28;01mif\u001b[39;00m \u001b[38;5;129;01mnot\u001b[39;00m (\u001b[38;5;28mself\u001b[39m\u001b[38;5;241m.\u001b[39m_backward_hooks \u001b[38;5;129;01mor\u001b[39;00m \u001b[38;5;28mself\u001b[39m\u001b[38;5;241m.\u001b[39m_backward_pre_hooks \u001b[38;5;129;01mor\u001b[39;00m \u001b[38;5;28mself\u001b[39m\u001b[38;5;241m.\u001b[39m_forward_hooks \u001b[38;5;129;01mor\u001b[39;00m \u001b[38;5;28mself\u001b[39m\u001b[38;5;241m.\u001b[39m_forward_pre_hooks\n\u001b[0;32m   1525\u001b[0m         \u001b[38;5;129;01mor\u001b[39;00m _global_backward_pre_hooks \u001b[38;5;129;01mor\u001b[39;00m _global_backward_hooks\n\u001b[0;32m   1526\u001b[0m         \u001b[38;5;129;01mor\u001b[39;00m _global_forward_hooks \u001b[38;5;129;01mor\u001b[39;00m _global_forward_pre_hooks):\n\u001b[1;32m-> 1527\u001b[0m     \u001b[38;5;28;01mreturn\u001b[39;00m \u001b[40mforward_call\u001b[49m\u001b[40m(\u001b[49m\u001b[38;5;241;40m*\u001b[39;49m\u001b[40margs\u001b[49m\u001b[40m,\u001b[49m\u001b[40m \u001b[49m\u001b[38;5;241;40m*\u001b[39;49m\u001b[38;5;241;40m*\u001b[39;49m\u001b[40mkwargs\u001b[49m\u001b[40m)\u001b[49m\n\u001b[0;32m   1529\u001b[0m \u001b[38;5;28;01mtry\u001b[39;00m:\n\u001b[0;32m   1530\u001b[0m     result \u001b[38;5;241m=\u001b[39m \u001b[38;5;28;01mNone\u001b[39;00m\n",
      "Cell \u001b[1;32mIn[9], line 62\u001b[0m, in \u001b[0;36mSABlock.forward\u001b[1;34m(self, x)\u001b[0m\n\u001b[0;32m     61\u001b[0m \u001b[38;5;28;01mdef\u001b[39;00m \u001b[38;5;21mforward\u001b[39m(\u001b[38;5;28mself\u001b[39m, x):\n\u001b[1;32m---> 62\u001b[0m     x \u001b[38;5;241m=\u001b[39m x \u001b[38;5;241m+\u001b[39m \u001b[38;5;28;40mself\u001b[39;49m\u001b[38;5;241;40m.\u001b[39;49m\u001b[40msa\u001b[49m\u001b[40m(\u001b[49m\u001b[38;5;28;40mself\u001b[39;49m\u001b[38;5;241;40m.\u001b[39;49m\u001b[40mln1\u001b[49m\u001b[40m(\u001b[49m\u001b[40mx\u001b[49m\u001b[40m)\u001b[49m\u001b[40m)\u001b[49m\n\u001b[0;32m     63\u001b[0m     x \u001b[38;5;241m=\u001b[39m x \u001b[38;5;241m+\u001b[39m \u001b[38;5;28mself\u001b[39m\u001b[38;5;241m.\u001b[39mffwd(\u001b[38;5;28mself\u001b[39m\u001b[38;5;241m.\u001b[39mln2(x))\n\u001b[0;32m     64\u001b[0m     \u001b[38;5;28;01mreturn\u001b[39;00m x\n",
      "File \u001b[1;32m~/src/midi-tokenizer/.venv/lib/python3.11/site-packages/torch/nn/modules/module.py:1518\u001b[0m, in \u001b[0;36mModule._wrapped_call_impl\u001b[1;34m(self, *args, **kwargs)\u001b[0m\n\u001b[0;32m   1516\u001b[0m     \u001b[38;5;28;01mreturn\u001b[39;00m \u001b[38;5;28mself\u001b[39m\u001b[38;5;241m.\u001b[39m_compiled_call_impl(\u001b[38;5;241m*\u001b[39margs, \u001b[38;5;241m*\u001b[39m\u001b[38;5;241m*\u001b[39mkwargs)  \u001b[38;5;66;03m# type: ignore[misc]\u001b[39;00m\n\u001b[0;32m   1517\u001b[0m \u001b[38;5;28;01melse\u001b[39;00m:\n\u001b[1;32m-> 1518\u001b[0m     \u001b[38;5;28;01mreturn\u001b[39;00m \u001b[38;5;28;40mself\u001b[39;49m\u001b[38;5;241;40m.\u001b[39;49m\u001b[40m_call_impl\u001b[49m\u001b[40m(\u001b[49m\u001b[38;5;241;40m*\u001b[39;49m\u001b[40margs\u001b[49m\u001b[40m,\u001b[49m\u001b[40m \u001b[49m\u001b[38;5;241;40m*\u001b[39;49m\u001b[38;5;241;40m*\u001b[39;49m\u001b[40mkwargs\u001b[49m\u001b[40m)\u001b[49m\n",
      "File \u001b[1;32m~/src/midi-tokenizer/.venv/lib/python3.11/site-packages/torch/nn/modules/module.py:1527\u001b[0m, in \u001b[0;36mModule._call_impl\u001b[1;34m(self, *args, **kwargs)\u001b[0m\n\u001b[0;32m   1522\u001b[0m \u001b[38;5;66;03m# If we don't have any hooks, we want to skip the rest of the logic in\u001b[39;00m\n\u001b[0;32m   1523\u001b[0m \u001b[38;5;66;03m# this function, and just call forward.\u001b[39;00m\n\u001b[0;32m   1524\u001b[0m \u001b[38;5;28;01mif\u001b[39;00m \u001b[38;5;129;01mnot\u001b[39;00m (\u001b[38;5;28mself\u001b[39m\u001b[38;5;241m.\u001b[39m_backward_hooks \u001b[38;5;129;01mor\u001b[39;00m \u001b[38;5;28mself\u001b[39m\u001b[38;5;241m.\u001b[39m_backward_pre_hooks \u001b[38;5;129;01mor\u001b[39;00m \u001b[38;5;28mself\u001b[39m\u001b[38;5;241m.\u001b[39m_forward_hooks \u001b[38;5;129;01mor\u001b[39;00m \u001b[38;5;28mself\u001b[39m\u001b[38;5;241m.\u001b[39m_forward_pre_hooks\n\u001b[0;32m   1525\u001b[0m         \u001b[38;5;129;01mor\u001b[39;00m _global_backward_pre_hooks \u001b[38;5;129;01mor\u001b[39;00m _global_backward_hooks\n\u001b[0;32m   1526\u001b[0m         \u001b[38;5;129;01mor\u001b[39;00m _global_forward_hooks \u001b[38;5;129;01mor\u001b[39;00m _global_forward_pre_hooks):\n\u001b[1;32m-> 1527\u001b[0m     \u001b[38;5;28;01mreturn\u001b[39;00m \u001b[40mforward_call\u001b[49m\u001b[40m(\u001b[49m\u001b[38;5;241;40m*\u001b[39;49m\u001b[40margs\u001b[49m\u001b[40m,\u001b[49m\u001b[40m \u001b[49m\u001b[38;5;241;40m*\u001b[39;49m\u001b[38;5;241;40m*\u001b[39;49m\u001b[40mkwargs\u001b[49m\u001b[40m)\u001b[49m\n\u001b[0;32m   1529\u001b[0m \u001b[38;5;28;01mtry\u001b[39;00m:\n\u001b[0;32m   1530\u001b[0m     result \u001b[38;5;241m=\u001b[39m \u001b[38;5;28;01mNone\u001b[39;00m\n",
      "Cell \u001b[1;32mIn[9], line 34\u001b[0m, in \u001b[0;36mMultiHeadAttention.forward\u001b[1;34m(self, x)\u001b[0m\n\u001b[0;32m     33\u001b[0m \u001b[38;5;28;01mdef\u001b[39;00m \u001b[38;5;21mforward\u001b[39m(\u001b[38;5;28mself\u001b[39m, x):\n\u001b[1;32m---> 34\u001b[0m     out \u001b[38;5;241m=\u001b[39m torch\u001b[38;5;241m.\u001b[39mcat(\u001b[40m[\u001b[49m\u001b[40mh\u001b[49m\u001b[40m(\u001b[49m\u001b[40mx\u001b[49m\u001b[40m)\u001b[49m\u001b[40m \u001b[49m\u001b[38;5;28;40;01mfor\u001b[39;49;00m\u001b[40m \u001b[49m\u001b[40mh\u001b[49m\u001b[40m \u001b[49m\u001b[38;5;129;40;01min\u001b[39;49;00m\u001b[40m \u001b[49m\u001b[38;5;28;40mself\u001b[39;49m\u001b[38;5;241;40m.\u001b[39;49m\u001b[40mheads\u001b[49m\u001b[40m]\u001b[49m, dim\u001b[38;5;241m=\u001b[39m\u001b[38;5;241m-\u001b[39m\u001b[38;5;241m1\u001b[39m)\n\u001b[0;32m     35\u001b[0m     out \u001b[38;5;241m=\u001b[39m \u001b[38;5;28mself\u001b[39m\u001b[38;5;241m.\u001b[39mprojection(out)\n\u001b[0;32m     36\u001b[0m     out \u001b[38;5;241m=\u001b[39m \u001b[38;5;28mself\u001b[39m\u001b[38;5;241m.\u001b[39mdropout(out)\n",
      "Cell \u001b[1;32mIn[9], line 34\u001b[0m, in \u001b[0;36m<listcomp>\u001b[1;34m(.0)\u001b[0m\n\u001b[0;32m     33\u001b[0m \u001b[38;5;28;01mdef\u001b[39;00m \u001b[38;5;21mforward\u001b[39m(\u001b[38;5;28mself\u001b[39m, x):\n\u001b[1;32m---> 34\u001b[0m     out \u001b[38;5;241m=\u001b[39m torch\u001b[38;5;241m.\u001b[39mcat([\u001b[40mh\u001b[49m\u001b[40m(\u001b[49m\u001b[40mx\u001b[49m\u001b[40m)\u001b[49m \u001b[38;5;28;01mfor\u001b[39;00m h \u001b[38;5;129;01min\u001b[39;00m \u001b[38;5;28mself\u001b[39m\u001b[38;5;241m.\u001b[39mheads], dim\u001b[38;5;241m=\u001b[39m\u001b[38;5;241m-\u001b[39m\u001b[38;5;241m1\u001b[39m)\n\u001b[0;32m     35\u001b[0m     out \u001b[38;5;241m=\u001b[39m \u001b[38;5;28mself\u001b[39m\u001b[38;5;241m.\u001b[39mprojection(out)\n\u001b[0;32m     36\u001b[0m     out \u001b[38;5;241m=\u001b[39m \u001b[38;5;28mself\u001b[39m\u001b[38;5;241m.\u001b[39mdropout(out)\n",
      "File \u001b[1;32m~/src/midi-tokenizer/.venv/lib/python3.11/site-packages/torch/nn/modules/module.py:1518\u001b[0m, in \u001b[0;36mModule._wrapped_call_impl\u001b[1;34m(self, *args, **kwargs)\u001b[0m\n\u001b[0;32m   1516\u001b[0m     \u001b[38;5;28;01mreturn\u001b[39;00m \u001b[38;5;28mself\u001b[39m\u001b[38;5;241m.\u001b[39m_compiled_call_impl(\u001b[38;5;241m*\u001b[39margs, \u001b[38;5;241m*\u001b[39m\u001b[38;5;241m*\u001b[39mkwargs)  \u001b[38;5;66;03m# type: ignore[misc]\u001b[39;00m\n\u001b[0;32m   1517\u001b[0m \u001b[38;5;28;01melse\u001b[39;00m:\n\u001b[1;32m-> 1518\u001b[0m     \u001b[38;5;28;01mreturn\u001b[39;00m \u001b[38;5;28;40mself\u001b[39;49m\u001b[38;5;241;40m.\u001b[39;49m\u001b[40m_call_impl\u001b[49m\u001b[40m(\u001b[49m\u001b[38;5;241;40m*\u001b[39;49m\u001b[40margs\u001b[49m\u001b[40m,\u001b[49m\u001b[40m \u001b[49m\u001b[38;5;241;40m*\u001b[39;49m\u001b[38;5;241;40m*\u001b[39;49m\u001b[40mkwargs\u001b[49m\u001b[40m)\u001b[49m\n",
      "File \u001b[1;32m~/src/midi-tokenizer/.venv/lib/python3.11/site-packages/torch/nn/modules/module.py:1527\u001b[0m, in \u001b[0;36mModule._call_impl\u001b[1;34m(self, *args, **kwargs)\u001b[0m\n\u001b[0;32m   1522\u001b[0m \u001b[38;5;66;03m# If we don't have any hooks, we want to skip the rest of the logic in\u001b[39;00m\n\u001b[0;32m   1523\u001b[0m \u001b[38;5;66;03m# this function, and just call forward.\u001b[39;00m\n\u001b[0;32m   1524\u001b[0m \u001b[38;5;28;01mif\u001b[39;00m \u001b[38;5;129;01mnot\u001b[39;00m (\u001b[38;5;28mself\u001b[39m\u001b[38;5;241m.\u001b[39m_backward_hooks \u001b[38;5;129;01mor\u001b[39;00m \u001b[38;5;28mself\u001b[39m\u001b[38;5;241m.\u001b[39m_backward_pre_hooks \u001b[38;5;129;01mor\u001b[39;00m \u001b[38;5;28mself\u001b[39m\u001b[38;5;241m.\u001b[39m_forward_hooks \u001b[38;5;129;01mor\u001b[39;00m \u001b[38;5;28mself\u001b[39m\u001b[38;5;241m.\u001b[39m_forward_pre_hooks\n\u001b[0;32m   1525\u001b[0m         \u001b[38;5;129;01mor\u001b[39;00m _global_backward_pre_hooks \u001b[38;5;129;01mor\u001b[39;00m _global_backward_hooks\n\u001b[0;32m   1526\u001b[0m         \u001b[38;5;129;01mor\u001b[39;00m _global_forward_hooks \u001b[38;5;129;01mor\u001b[39;00m _global_forward_pre_hooks):\n\u001b[1;32m-> 1527\u001b[0m     \u001b[38;5;28;01mreturn\u001b[39;00m \u001b[40mforward_call\u001b[49m\u001b[40m(\u001b[49m\u001b[38;5;241;40m*\u001b[39;49m\u001b[40margs\u001b[49m\u001b[40m,\u001b[49m\u001b[40m \u001b[49m\u001b[38;5;241;40m*\u001b[39;49m\u001b[38;5;241;40m*\u001b[39;49m\u001b[40mkwargs\u001b[49m\u001b[40m)\u001b[49m\n\u001b[0;32m   1529\u001b[0m \u001b[38;5;28;01mtry\u001b[39;00m:\n\u001b[0;32m   1530\u001b[0m     result \u001b[38;5;241m=\u001b[39m \u001b[38;5;28;01mNone\u001b[39;00m\n",
      "Cell \u001b[1;32mIn[9], line 18\u001b[0m, in \u001b[0;36mSelfAttention.forward\u001b[1;34m(self, x)\u001b[0m\n\u001b[0;32m     16\u001b[0m q \u001b[38;5;241m=\u001b[39m \u001b[38;5;28mself\u001b[39m\u001b[38;5;241m.\u001b[39mquery(x)\n\u001b[0;32m     17\u001b[0m w \u001b[38;5;241m=\u001b[39m q \u001b[38;5;241m@\u001b[39m k\u001b[38;5;241m.\u001b[39mtranspose(\u001b[38;5;241m-\u001b[39m\u001b[38;5;241m2\u001b[39m, \u001b[38;5;241m-\u001b[39m\u001b[38;5;241m1\u001b[39m) \u001b[38;5;241m*\u001b[39m C\u001b[38;5;241m*\u001b[39m\u001b[38;5;241m*\u001b[39m\u001b[38;5;241m-\u001b[39m\u001b[38;5;241m0.5\u001b[39m\n\u001b[1;32m---> 18\u001b[0m w \u001b[38;5;241m=\u001b[39m w\u001b[38;5;241m.\u001b[39mmasked_fill(\u001b[38;5;28;40mself\u001b[39;49m\u001b[38;5;241;40m.\u001b[39;49m\u001b[40mtril\u001b[49m[:T, :T] \u001b[38;5;241m==\u001b[39m \u001b[38;5;241m0\u001b[39m, \u001b[38;5;28mfloat\u001b[39m(\u001b[38;5;124m'\u001b[39m\u001b[38;5;124m-inf\u001b[39m\u001b[38;5;124m'\u001b[39m))\n\u001b[0;32m     19\u001b[0m w \u001b[38;5;241m=\u001b[39m F\u001b[38;5;241m.\u001b[39msoftmax(w, dim\u001b[38;5;241m=\u001b[39m\u001b[38;5;241m-\u001b[39m\u001b[38;5;241m1\u001b[39m)\n\u001b[0;32m     20\u001b[0m w \u001b[38;5;241m=\u001b[39m \u001b[38;5;28mself\u001b[39m\u001b[38;5;241m.\u001b[39mdropout(w)\n",
      "File \u001b[1;32m~/src/midi-tokenizer/.venv/lib/python3.11/site-packages/torch/nn/modules/module.py:1682\u001b[0m, in \u001b[0;36mModule.__getattr__\u001b[1;34m(self, name)\u001b[0m\n\u001b[0;32m   1673\u001b[0m         \u001b[38;5;28mself\u001b[39m\u001b[38;5;241m.\u001b[39m_backward_pre_hooks \u001b[38;5;241m=\u001b[39m OrderedDict()\n\u001b[0;32m   1675\u001b[0m \u001b[38;5;66;03m# On the return type:\u001b[39;00m\n\u001b[0;32m   1676\u001b[0m \u001b[38;5;66;03m# We choose to return `Any` in the `__getattr__` type signature instead of a more strict `Union[Tensor, Module]`.\u001b[39;00m\n\u001b[0;32m   1677\u001b[0m \u001b[38;5;66;03m# This is done for better interop with various type checkers for the end users.\u001b[39;00m\n\u001b[1;32m   (...)\u001b[0m\n\u001b[0;32m   1680\u001b[0m \u001b[38;5;66;03m# See full discussion on the problems with returning `Union` here\u001b[39;00m\n\u001b[0;32m   1681\u001b[0m \u001b[38;5;66;03m# https://github.com/microsoft/pyright/issues/4213\u001b[39;00m\n\u001b[1;32m-> 1682\u001b[0m \u001b[38;5;28;01mdef\u001b[39;00m \u001b[38;5;21m__getattr__\u001b[39m(\u001b[38;5;28mself\u001b[39m, name: \u001b[38;5;28mstr\u001b[39m) \u001b[38;5;241m-\u001b[39m\u001b[38;5;241m>\u001b[39m Any:\n\u001b[0;32m   1683\u001b[0m     \u001b[38;5;28;01mif\u001b[39;00m \u001b[38;5;124m'\u001b[39m\u001b[38;5;124m_parameters\u001b[39m\u001b[38;5;124m'\u001b[39m \u001b[38;5;129;01min\u001b[39;00m \u001b[38;5;28mself\u001b[39m\u001b[38;5;241m.\u001b[39m\u001b[38;5;18m__dict__\u001b[39m:\n\u001b[0;32m   1684\u001b[0m         _parameters \u001b[38;5;241m=\u001b[39m \u001b[38;5;28mself\u001b[39m\u001b[38;5;241m.\u001b[39m\u001b[38;5;18m__dict__\u001b[39m[\u001b[38;5;124m'\u001b[39m\u001b[38;5;124m_parameters\u001b[39m\u001b[38;5;124m'\u001b[39m]\n",
      "\u001b[1;31mKeyboardInterrupt\u001b[0m: "
     ]
    }
   ],
   "source": [
    "lossi = []\n",
    "model.train()\n",
    "optimizer = torch.optim.AdamW(model.parameters(), lr=1e-3)\n",
    "scheduler = torch.optim.lr_scheduler.StepLR(optimizer, step_size=500, gamma=0.2)\n",
    "scaler = torch.cuda.amp.GradScaler()\n",
    "max_steps = 100_000\n",
    "\n",
    "for i in range(max_steps+1):\n",
    "    global_training_steps += 1\n",
    "    Xb, Yb = get_batch('train', config)\n",
    "    optimizer.zero_grad(set_to_none=True)\n",
    "    with autocast_ctx:\n",
    "        logits, loss, label_loss, added_param_loss = model(Xb, Yb)\n",
    "    if i % 10 == 0:\n",
    "        summary.add_scalar('loss', loss.item(), global_training_steps)\n",
    "        summary.add_scalar('label_loss', label_loss.item(), global_training_steps)\n",
    "        summary.add_scalar('added_param_loss', added_param_loss.item(), global_training_steps)\n",
    "    scaler.scale(loss).backward()\n",
    "    scaler.step(optimizer)\n",
    "    scaler.update()\n",
    "    # loss.backward()\n",
    "    # optimizer.step()\n",
    "    # track\n",
    "    scheduler.step()\n",
    "    if i % 100 == 0:\n",
    "        print(f\"{i:7d}/{max_steps:7d}: {loss.item():.4f}, lr={scheduler.get_last_lr()}\")\n",
    "    lossi.append(loss.log10().item())"
   ]
  },
  {
   "cell_type": "code",
   "execution_count": 17,
   "id": "36f1bbef-28fb-4770-871d-e89eb09e9ef8",
   "metadata": {},
   "outputs": [
    {
     "data": {
      "text/plain": [
       "[<matplotlib.lines.Line2D at 0x7efc44997690>]"
      ]
     },
     "execution_count": 17,
     "metadata": {},
     "output_type": "execute_result"
    },
    {
     "data": {
      "image/png": "[encoded data removed]",
      "text/plain": [
       "<Figure size 1600x600 with 1 Axes>"
      ]
     },
     "metadata": {},
     "output_type": "display_data"
    }
   ],
   "source": [
    "plt.figure(figsize=(16, 6))\n",
    "# instead, average across 1_000 points\n",
    "r = (len(lossi) // 100) * 100\n",
    "plt.plot(torch.tensor(lossi)[:r].view(-1, 100).mean(1))\n"
   ]
  },
  {
   "cell_type": "code",
   "execution_count": 24,
   "id": "cc6531a8-93c7-4044-9415-30a04ee4f954",
   "metadata": {},
   "outputs": [
    {
     "ename": "RuntimeError",
     "evalue": "shape '[-1, 512, 3]' is invalid for input of size 6",
     "output_type": "error",
     "traceback": [
      "\u001b[1;31m---------------------------------------------------------------------------\u001b[0m",
      "\u001b[1;31mRuntimeError\u001b[0m                              Traceback (most recent call last)",
      "Cell \u001b[1;32mIn[24], line 3\u001b[0m\n\u001b[0;32m      1\u001b[0m \u001b[38;5;28;01mfor\u001b[39;00m sample \u001b[38;5;129;01min\u001b[39;00m \u001b[38;5;28mrange\u001b[39m(\u001b[38;5;241m1\u001b[39m):\n\u001b[0;32m      2\u001b[0m     gen_ctx \u001b[38;5;241m=\u001b[39m torch\u001b[38;5;241m.\u001b[39mtensor([[[\u001b[38;5;241m1\u001b[39m, \u001b[38;5;241m0.0\u001b[39m, \u001b[38;5;241m0.0\u001b[39m, \u001b[38;5;241m0.0\u001b[39m]] \u001b[38;5;241m*\u001b[39m (\u001b[38;5;241m1\u001b[39m) \u001b[38;5;241m+\u001b[39m [[\u001b[38;5;241m2\u001b[39m, \u001b[38;5;241m0.0\u001b[39m, \u001b[38;5;241m0.0\u001b[39m, \u001b[38;5;241m0.0\u001b[39m]]], device\u001b[38;5;241m=\u001b[39m\u001b[38;5;124m'\u001b[39m\u001b[38;5;124mcuda\u001b[39m\u001b[38;5;124m'\u001b[39m)\n\u001b[1;32m----> 3\u001b[0m     generated \u001b[38;5;241m=\u001b[39m \u001b[40mmodel\u001b[49m\u001b[38;5;241;40m.\u001b[39;49m\u001b[40mgenerate\u001b[49m\u001b[40m(\u001b[49m\u001b[40mgen_ctx\u001b[49m\u001b[40m,\u001b[49m\u001b[40m \u001b[49m\u001b[40mmax_new_tokens\u001b[49m\u001b[38;5;241;40m=\u001b[39;49m\u001b[38;5;241;40m1_000\u001b[39;49m\u001b[40m)\u001b[49m\n\u001b[0;32m      4\u001b[0m     \u001b[38;5;28;01mwith\u001b[39;00m \u001b[38;5;28mopen\u001b[39m(\u001b[38;5;124mf\u001b[39m\u001b[38;5;124m\"\u001b[39m\u001b[38;5;124msample-\u001b[39m\u001b[38;5;132;01m{\u001b[39;00msample\u001b[38;5;132;01m}\u001b[39;00m\u001b[38;5;124m.tokens\u001b[39m\u001b[38;5;124m\"\u001b[39m, \u001b[38;5;124m'\u001b[39m\u001b[38;5;124mwb\u001b[39m\u001b[38;5;124m'\u001b[39m) \u001b[38;5;28;01mas\u001b[39;00m f:\n\u001b[0;32m      5\u001b[0m         cbor2\u001b[38;5;241m.\u001b[39mdump(generated, f)\n",
      "File \u001b[1;32m~/src/midi-tokenizer/.venv/lib/python3.11/site-packages/torch/utils/_contextlib.py:115\u001b[0m, in \u001b[0;36mcontext_decorator.<locals>.decorate_context\u001b[1;34m(*args, **kwargs)\u001b[0m\n\u001b[0;32m    112\u001b[0m \u001b[38;5;129m@functools\u001b[39m\u001b[38;5;241m.\u001b[39mwraps(func)\n\u001b[0;32m    113\u001b[0m \u001b[38;5;28;01mdef\u001b[39;00m \u001b[38;5;21mdecorate_context\u001b[39m(\u001b[38;5;241m*\u001b[39margs, \u001b[38;5;241m*\u001b[39m\u001b[38;5;241m*\u001b[39mkwargs):\n\u001b[0;32m    114\u001b[0m     \u001b[38;5;28;01mwith\u001b[39;00m ctx_factory():\n\u001b[1;32m--> 115\u001b[0m         \u001b[38;5;28;01mreturn\u001b[39;00m \u001b[40mfunc\u001b[49m\u001b[40m(\u001b[49m\u001b[38;5;241;40m*\u001b[39;49m\u001b[40margs\u001b[49m\u001b[40m,\u001b[49m\u001b[40m \u001b[49m\u001b[38;5;241;40m*\u001b[39;49m\u001b[38;5;241;40m*\u001b[39;49m\u001b[40mkwargs\u001b[49m\u001b[40m)\u001b[49m\n",
      "Cell \u001b[1;32mIn[10], line 66\u001b[0m, in \u001b[0;36mModel.generate\u001b[1;34m(self, idx, max_new_tokens, temperature, top_k)\u001b[0m\n\u001b[0;32m     64\u001b[0m \u001b[38;5;28;01mfor\u001b[39;00m _ \u001b[38;5;129;01min\u001b[39;00m \u001b[38;5;28mrange\u001b[39m(max_new_tokens):\n\u001b[0;32m     65\u001b[0m     idx \u001b[38;5;241m=\u001b[39m idx[:, \u001b[38;5;241m-\u001b[39m\u001b[38;5;28mself\u001b[39m\u001b[38;5;241m.\u001b[39mconfig\u001b[38;5;241m.\u001b[39mcontext_len:] \u001b[38;5;66;03m# truncate context\u001b[39;00m\n\u001b[1;32m---> 66\u001b[0m     logits, _, _, _ \u001b[38;5;241m=\u001b[39m \u001b[38;5;28;40mself\u001b[39;49m\u001b[40m(\u001b[49m\u001b[40midx\u001b[49m\u001b[40m)\u001b[49m\n\u001b[0;32m     67\u001b[0m     \u001b[38;5;66;03m# TODO: temperature and top-k\u001b[39;00m\n\u001b[0;32m     68\u001b[0m     probs \u001b[38;5;241m=\u001b[39m F\u001b[38;5;241m.\u001b[39msoftmax(logits[:, \u001b[38;5;241m-\u001b[39m\u001b[38;5;241m1\u001b[39m, :\u001b[38;5;28mself\u001b[39m\u001b[38;5;241m.\u001b[39mconfig\u001b[38;5;241m.\u001b[39mn_tokens], dim\u001b[38;5;241m=\u001b[39m\u001b[38;5;241m-\u001b[39m\u001b[38;5;241m1\u001b[39m)\n",
      "File \u001b[1;32m~/src/midi-tokenizer/.venv/lib/python3.11/site-packages/torch/nn/modules/module.py:1518\u001b[0m, in \u001b[0;36mModule._wrapped_call_impl\u001b[1;34m(self, *args, **kwargs)\u001b[0m\n\u001b[0;32m   1516\u001b[0m     \u001b[38;5;28;01mreturn\u001b[39;00m \u001b[38;5;28mself\u001b[39m\u001b[38;5;241m.\u001b[39m_compiled_call_impl(\u001b[38;5;241m*\u001b[39margs, \u001b[38;5;241m*\u001b[39m\u001b[38;5;241m*\u001b[39mkwargs)  \u001b[38;5;66;03m# type: ignore[misc]\u001b[39;00m\n\u001b[0;32m   1517\u001b[0m \u001b[38;5;28;01melse\u001b[39;00m:\n\u001b[1;32m-> 1518\u001b[0m     \u001b[38;5;28;01mreturn\u001b[39;00m \u001b[38;5;28;40mself\u001b[39;49m\u001b[38;5;241;40m.\u001b[39;49m\u001b[40m_call_impl\u001b[49m\u001b[40m(\u001b[49m\u001b[38;5;241;40m*\u001b[39;49m\u001b[40margs\u001b[49m\u001b[40m,\u001b[49m\u001b[40m \u001b[49m\u001b[38;5;241;40m*\u001b[39;49m\u001b[38;5;241;40m*\u001b[39;49m\u001b[40mkwargs\u001b[49m\u001b[40m)\u001b[49m\n",
      "File \u001b[1;32m~/src/midi-tokenizer/.venv/lib/python3.11/site-packages/torch/nn/modules/module.py:1527\u001b[0m, in \u001b[0;36mModule._call_impl\u001b[1;34m(self, *args, **kwargs)\u001b[0m\n\u001b[0;32m   1522\u001b[0m \u001b[38;5;66;03m# If we don't have any hooks, we want to skip the rest of the logic in\u001b[39;00m\n\u001b[0;32m   1523\u001b[0m \u001b[38;5;66;03m# this function, and just call forward.\u001b[39;00m\n\u001b[0;32m   1524\u001b[0m \u001b[38;5;28;01mif\u001b[39;00m \u001b[38;5;129;01mnot\u001b[39;00m (\u001b[38;5;28mself\u001b[39m\u001b[38;5;241m.\u001b[39m_backward_hooks \u001b[38;5;129;01mor\u001b[39;00m \u001b[38;5;28mself\u001b[39m\u001b[38;5;241m.\u001b[39m_backward_pre_hooks \u001b[38;5;129;01mor\u001b[39;00m \u001b[38;5;28mself\u001b[39m\u001b[38;5;241m.\u001b[39m_forward_hooks \u001b[38;5;129;01mor\u001b[39;00m \u001b[38;5;28mself\u001b[39m\u001b[38;5;241m.\u001b[39m_forward_pre_hooks\n\u001b[0;32m   1525\u001b[0m         \u001b[38;5;129;01mor\u001b[39;00m _global_backward_pre_hooks \u001b[38;5;129;01mor\u001b[39;00m _global_backward_hooks\n\u001b[0;32m   1526\u001b[0m         \u001b[38;5;129;01mor\u001b[39;00m _global_forward_hooks \u001b[38;5;129;01mor\u001b[39;00m _global_forward_pre_hooks):\n\u001b[1;32m-> 1527\u001b[0m     \u001b[38;5;28;01mreturn\u001b[39;00m \u001b[40mforward_call\u001b[49m\u001b[40m(\u001b[49m\u001b[38;5;241;40m*\u001b[39;49m\u001b[40margs\u001b[49m\u001b[40m,\u001b[49m\u001b[40m \u001b[49m\u001b[38;5;241;40m*\u001b[39;49m\u001b[38;5;241;40m*\u001b[39;49m\u001b[40mkwargs\u001b[49m\u001b[40m)\u001b[49m\n\u001b[0;32m   1529\u001b[0m \u001b[38;5;28;01mtry\u001b[39;00m:\n\u001b[0;32m   1530\u001b[0m     result \u001b[38;5;241m=\u001b[39m \u001b[38;5;28;01mNone\u001b[39;00m\n",
      "Cell \u001b[1;32mIn[10], line 38\u001b[0m, in \u001b[0;36mModel.forward\u001b[1;34m(self, x, targets)\u001b[0m\n\u001b[0;32m     36\u001b[0m \u001b[38;5;28;01massert\u001b[39;00m T \u001b[38;5;241m<\u001b[39m\u001b[38;5;241m=\u001b[39m \u001b[38;5;28mself\u001b[39m\u001b[38;5;241m.\u001b[39mconfig\u001b[38;5;241m.\u001b[39mcontext_len, T\n\u001b[0;32m     37\u001b[0m tokens \u001b[38;5;241m=\u001b[39m x[:,:,\u001b[38;5;241m0\u001b[39m]\u001b[38;5;241m.\u001b[39mlong()\n\u001b[1;32m---> 38\u001b[0m added \u001b[38;5;241m=\u001b[39m \u001b[40mx\u001b[49m\u001b[40m[\u001b[49m\u001b[40m:\u001b[49m\u001b[40m,\u001b[49m\u001b[40m:\u001b[49m\u001b[40m,\u001b[49m\u001b[38;5;241;40m1\u001b[39;49m\u001b[40m:\u001b[49m\u001b[40m]\u001b[49m\u001b[38;5;241;40m.\u001b[39;49m\u001b[40mview\u001b[49m\u001b[40m(\u001b[49m\u001b[38;5;241;40m-\u001b[39;49m\u001b[38;5;241;40m1\u001b[39;49m\u001b[40m,\u001b[49m\u001b[40m \u001b[49m\u001b[38;5;28;40mself\u001b[39;49m\u001b[38;5;241;40m.\u001b[39;49m\u001b[40mconfig\u001b[49m\u001b[38;5;241;40m.\u001b[39;49m\u001b[40mcontext_len\u001b[49m\u001b[40m,\u001b[49m\u001b[40m \u001b[49m\u001b[38;5;28;40mself\u001b[39;49m\u001b[38;5;241;40m.\u001b[39;49m\u001b[40mconfig\u001b[49m\u001b[38;5;241;40m.\u001b[39;49m\u001b[40mn_added_params\u001b[49m\u001b[40m)\u001b[49m\n\u001b[0;32m     39\u001b[0m tok_emb \u001b[38;5;241m=\u001b[39m \u001b[38;5;28mself\u001b[39m\u001b[38;5;241m.\u001b[39mtoken_embedding_table(tokens)\n\u001b[0;32m     40\u001b[0m pos_emb \u001b[38;5;241m=\u001b[39m \u001b[38;5;28mself\u001b[39m\u001b[38;5;241m.\u001b[39mposition_embedding_table(torch\u001b[38;5;241m.\u001b[39marange(T, dtype\u001b[38;5;241m=\u001b[39mtorch\u001b[38;5;241m.\u001b[39mlong, device\u001b[38;5;241m=\u001b[39mdevice))\n",
      "\u001b[1;31mRuntimeError\u001b[0m: shape '[-1, 512, 3]' is invalid for input of size 6"
     ]
    }
   ],
   "source": [
    "for sample in range(1):\n",
    "    gen_ctx = torch.tensor([[[1, 0.0, 0.0, 0.0]] * (config.context_len - 1) + [[2, 0.0, 0.0, 0.0]]], device='cuda')\n",
    "    generated = model.generate(gen_ctx, max_new_tokens=1_000)\n",
    "    with open(f\"sample-{sample}.tokens\", 'wb') as f:\n",
    "        cbor2.dump(generated, f)\n",
    "        print(\"wrote\", f.name)"
   ]
  },
  {
   "cell_type": "code",
   "execution_count": 23,
   "id": "e955a731-5552-4b8c-a1be-5b7c3e33047a",
   "metadata": {},
   "outputs": [
    {
     "data": {
      "text/plain": [
       "[[44, 5.128375053405762, 0.2053591012954712, 0.312602162361145],\n",
       " [48, 1.2680975198745728, 0.16892729699611664, 0.30966809391975403],\n",
       " [52, 0.1487143337726593, 0.4600341320037842, 0.44265007972717285],\n",
       " [44, 3.559011936187744, 0.19095751643180847, 0.2573602795600891],\n",
       " [48, 1.131675362586975, 0.19380924105644226, 0.31454986333847046],\n",
       " [51, 0.09191866219043732, 0.4648793637752533, 0.4293871521949768],\n",
       " [63, -0.19657158851623535, 0.8193220496177673, 0.47589045763015747],\n",
       " [44, 5.699105262756348, 0.4226289987564087, 0.31427955627441406],\n",
       " [60, 1.3957886695861816, 0.1819189190864563, 0.2973012924194336],\n",
       " [60, 0.4579460024833679, 0.498224139213562, 0.4220420718193054],\n",
       " [60, -0.05084109306335449, 0.6404372453689575, 0.40330371260643005],\n",
       " [60, -0.25005584955215454, 0.6891573667526245, 0.37092331051826477],\n",
       " [60, -0.2855437099933624, 0.7029449939727783, 0.35469958186149597],\n",
       " [60, -0.24737219512462616, 0.7107375860214233, 0.35518765449523926],\n",
       " [60, -0.16425855457782745, 0.7206411361694336, 0.36730054020881653],\n",
       " [60, -0.01650094985961914, 0.7296096086502075, 0.38484179973602295],\n",
       " [63, 0.26402127742767334, 0.7569500207901001, 0.4191909432411194],\n",
       " [44, 3.9081344604492188, 0.2357121706008911, 0.24241721630096436],\n",
       " [48, 1.5445729494094849, 0.18374377489089966, 0.3173239231109619],\n",
       " [51, 0.2584969699382782, 0.40977489948272705, 0.39595821499824524],\n",
       " [60, 0.00686192512512207, 0.8173570036888123, 0.5179677605628967],\n",
       " [32, 5.503998756408691, 0.6178967952728271, 0.33870333433151245],\n",
       " [44, 3.8639917373657227, 0.02730920910835266, 0.2408367395401001],\n",
       " [48, 1.6012210845947266, 0.15813350677490234, 0.3302396535873413],\n",
       " [52, 0.29828059673309326, 0.400837242603302, 0.3911077380180359],\n",
       " [44, 3.292147636413574, 0.14705684781074524, 0.23789536952972412],\n",
       " [48, 1.6194214820861816, 0.18588784337043762, 0.3307066559791565],\n",
       " [51, 0.2716144621372223, 0.40518876910209656, 0.3840729594230652],\n",
       " [56, 0.00765836238861084, 0.8052322268486023, 0.4946368336677551],\n",
       " [44, 4.22715425491333, 0.27004894614219666, 0.28122299909591675],\n",
       " [50, 1.7877389192581177, 0.18749740719795227, 0.3278430700302124],\n",
       " [51, 0.15215030312538147, 0.4903131425380707, 0.389500230550766],\n",
       " [73, -0.06645217537879944, 0.8228328824043274, 0.4756377339363098],\n",
       " [64, -0.49879229068756104, 0.703667402267456, 0.30393683910369873],\n",
       " [68, -0.3697326183319092, 0.7575459480285645, 0.344136118888855],\n",
       " [44, 5.679347991943359, 0.39149874448776245, 0.32955747842788696],\n",
       " [48, 1.7675176858901978, 0.17783334851264954, 0.3138826787471771],\n",
       " [51, 0.3749788701534271, 0.39464277029037476, 0.37639954686164856],\n",
       " [56, 0.07117903232574463, 0.8017807006835938, 0.4961501359939575],\n",
       " [44, 4.08458137512207, 0.25737449526786804, 0.27497225999832153],\n",
       " [48, 1.8225010633468628, 0.19204987585544586, 0.33285287022590637],\n",
       " [51, 0.39847782254219055, 0.3951030969619751, 0.3725060820579529],\n",
       " [56, 0.08427250385284424, 0.796678900718689, 0.4899756908416748],\n",
       " [44, 4.012106418609619, 0.25283685326576233, 0.27097368240356445],\n",
       " [48, 1.8613865375518799, 0.19609446823596954, 0.3335401713848114],\n",
       " [51, 0.41305845975875854, 0.3954038918018341, 0.36782777309417725],\n",
       " [66, 0.09604990482330322, 0.7916377782821655, 0.4837440848350525],\n",
       " [61, -0.26806405186653137, 0.7082313299179077, 0.35315999388694763],\n",
       " [44, 2.9054555892944336, 0.12252813577651978, 0.21048617362976074],\n",
       " [48, 1.786406397819519, 0.20537309348583221, 0.34184539318084717],\n",
       " [51, 0.40801337361335754, 0.4005511999130249, 0.3643312454223633],\n",
       " [54, 0.10611340403556824, 0.7905446290969849, 0.47965776920318604],\n",
       " [60, -0.4949859082698822, 0.7322484850883484, 0.351463258266449],\n",
       " [44, 3.5971767902374268, 0.2864828407764435, 0.22967801988124847],\n",
       " [44, 1.9829225540161133, 0.21132729947566986, 0.3331065773963928],\n",
       " [51, 1.8527522087097168, 0.23768749833106995, 0.3464205265045166],\n",
       " [73, 0.808323860168457, 0.6220868825912476, 0.48584598302841187],\n",
       " [64, -0.18840166926383972, 0.637330174446106, 0.3342265188694],\n",
       " [68, -0.15284357964992523, 0.7513588666915894, 0.3869779407978058],\n",
       " [44, 4.459383010864258, 0.2777365446090698, 0.27504193782806396],\n",
       " [48, 1.8850845098495483, 0.19889812171459198, 0.32947272062301636],\n",
       " [52, 0.5668196082115173, 0.4032518267631531, 0.36081939935684204],\n",
       " [44, 3.2190961837768555, 0.13097047805786133, 0.22741973400115967],\n",
       " [51, 1.9745877981185913, 0.20591264963150024, 0.3414342403411865],\n",
       " [57, 0.8188334703445435, 0.6016933917999268, 0.4702998101711273],\n",
       " [37, -0.06653878092765808, 0.6259372234344482, 0.4113757908344269],\n",
       " [44, 3.3439855575561523, 0.11084020137786865, 0.22785980999469757],\n",
       " [46, 1.999659776687622, 0.2014094740152359, 0.33969029784202576],\n",
       " [44, 2.428734302520752, 0.08278927206993103, 0.27394092082977295],\n",
       " [44, 1.8318449258804321, 0.22374732792377472, 0.34531328082084656],\n",
       " [51, 1.7577853202819824, 0.25826016068458557, 0.3384220004081726],\n",
       " [56, 0.7032971382141113, 0.6338617205619812, 0.4603591561317444],\n",
       " [44, 3.5953896045684814, 0.19243115186691284, 0.25208017230033875],\n",
       " [48, 2.0541634559631348, 0.2142580896615982, 0.332181453704834],\n",
       " [51, 0.43954604864120483, 0.39572674036026, 0.3413209319114685],\n",
       " [68, 0.13554024696350098, 0.7731266617774963, 0.4432860016822815],\n",
       " [44, 4.139739990234375, 0.24782970547676086, 0.2638525068759918],\n",
       " [51, 2.004070520401001, 0.2123524248600006, 0.3244292736053467],\n",
       " [73, 0.8065853118896484, 0.5942574739456177, 0.4468468427658081],\n",
       " [64, -0.2141912281513214, 0.625011146068573, 0.30735284090042114]]"
      ]
     },
     "metadata": {},
     "output_type": "display_data"
    }
   ],
   "source": [
    "display(generated[:80])"
   ]
  },
  {
   "cell_type": "code",
   "execution_count": null,
   "id": "6661ae5a-db53-495d-93ca-27f63bfb7249",
   "metadata": {
    "scrolled": true
   },
   "outputs": [],
   "source": [
    "@torch.no_grad()\n",
    "def split_loss(split):\n",
    "    model.eval()\n",
    "    data = {\n",
    "        \"train\": train_data,\n",
    "        \"eval\": eval_data,\n",
    "    }[split]\n",
    "    ix = torch.randint(len(data) - CONTEXT_LEN, (BATCH_SIZE,))\n",
    "    x = torch.stack([data[i:i+CONTEXT_LEN] for i in ix]).cuda()\n",
    "    y = torch.stack([data[i+1:i+CONTEXT_LEN+1] for i in ix]).cuda()\n",
    "    logits, loss = model(x, y)\n",
    "    print(split, loss.item())\n",
    "    model.train()\n",
    "\n",
    "split_loss(\"train\")\n",
    "split_loss(\"eval\")"
   ]
  },
  {
   "cell_type": "code",
   "execution_count": 84,
   "id": "80577faf-3600-40d2-8e5a-1a38293716dc",
   "metadata": {},
   "outputs": [],
   "source": [
    "torch.save(model, \"\")"
   ]
  },
  {
   "cell_type": "code",
   "execution_count": 17,
   "id": "9a9e3406-855e-43d4-822c-e4b03a0d7a28",
   "metadata": {},
   "outputs": [],
   "source": [
    "torch.cuda.empty_cache()"
   ]
  },
  {
   "cell_type": "code",
   "execution_count": null,
   "id": "a7f0f043-50af-4818-bc4d-c6071aa6c915",
   "metadata": {},
   "outputs": [],
   "source": []
  }
 ],
 "metadata": {
  "kernelspec": {
   "display_name": "Python 3 (ipykernel)",
   "language": "python",
   "name": "python3"
  },
  "language_info": {
   "codemirror_mode": {
    "name": "ipython",
    "version": 3
   },
   "file_extension": ".py",
   "mimetype": "text/x-python",
   "name": "python",
   "nbconvert_exporter": "python",
   "pygments_lexer": "ipython3",
   "version": "3.11.5"
  }
 },
 "nbformat": 4,
 "nbformat_minor": 5
}
