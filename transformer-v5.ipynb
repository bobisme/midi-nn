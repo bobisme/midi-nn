{
 "cells": [
  {
   "cell_type": "code",
   "execution_count": 1,
   "id": "ce61c533-2231-4f2c-8f4a-d5fd077f9905",
   "metadata": {},
   "outputs": [],
   "source": [
    "import random\n",
    "import glob\n",
    "import math\n",
    "from dataclasses import dataclass\n",
    "from typing import Literal\n",
    "\n",
    "import torch\n",
    "import torch.nn as nn\n",
    "import torch.nn.functional as F\n",
    "import matplotlib.pyplot as plt\n",
    "from torch.utils.tensorboard import SummaryWriter\n",
    "import cbor2\n",
    "\n",
    "assert torch.cuda.is_available()\n",
    "random.seed(42)\n",
    "torch.manual_seed(42)\n",
    "RUN_KEY = \"attention-v5\"\n",
    "summary = SummaryWriter(f\"runs/{RUN_KEY}\")"
   ]
  },
  {
   "cell_type": "code",
   "execution_count": 2,
   "id": "c272b853-a3f5-4a8f-9aaf-e2f026a04339",
   "metadata": {},
   "outputs": [],
   "source": [
    "BATCH_SIZE = 32"
   ]
  },
  {
   "cell_type": "code",
   "execution_count": 3,
   "id": "e88efede-b487-49c3-969f-af286715054d",
   "metadata": {},
   "outputs": [],
   "source": [
    "@dataclass\n",
    "class ModelConfig:\n",
    "    context_len: int = 512\n",
    "    n_layers: int = 12\n",
    "    n_heads: int = 8\n",
    "    n_embeds: int = 32\n",
    "    n_tokens: int = 128\n",
    "    n_added_params: int = 3\n",
    "    dropout: float = 0.0\n",
    "    bias: bool = True\n",
    "    @property\n",
    "    def n_embed_and_added(self):\n",
    "        return self.n_embeds + self.n_added_params\n",
    "    @property\n",
    "    def n_tokens_and_added(self):\n",
    "        return self.n_tokens + self.n_added_params"
   ]
  },
  {
   "cell_type": "code",
   "execution_count": 4,
   "id": "3aff63cf-a906-4e18-b939-4302c6a44242",
   "metadata": {},
   "outputs": [],
   "source": [
    "track_paths = glob.glob('moonlight.tokens')\n",
    "#display(track_paths)\n",
    "tracks = []\n",
    "for path in track_paths:\n",
    "    with open(path, 'rb') as f:\n",
    "        track_data = cbor2.load(f)\n",
    "        if len(track_data) < 100:\n",
    "            print(\"too short:\", path)\n",
    "        tracks.append([x for x in track_data if x[1] > 0.05])"
   ]
  },
  {
   "cell_type": "code",
   "execution_count": 5,
   "id": "b2d10b79-a6f0-43e9-9675-2b85c7cd9afa",
   "metadata": {},
   "outputs": [
    {
     "name": "stdout",
     "output_type": "stream",
     "text": [
      "[[37, 2.6666666666666665, 0.0, 0.29133858267716534], [49, 3.3333333333333335, 0.0, 0.2283464566929134], [56, 0.3333333333333333, 0.0, 0.36220472440944884], [61, 0.3333333333333333, 0.3333333333333333, 0.23622047244094488], [64, 0.6666666666666666, 0.3333333333333333, 0.33858267716535434]]\n",
      "1\n"
     ]
    }
   ],
   "source": [
    "print(tracks[0][0:5])\n",
    "print(len(tracks))"
   ]
  },
  {
   "cell_type": "code",
   "execution_count": 6,
   "id": "049fe1ac-2fda-4709-8948-88139476e1c8",
   "metadata": {},
   "outputs": [],
   "source": [
    "data = torch.tensor([event for track in tracks for event in track])\n",
    "split_n = int(0.9 * len(data))\n",
    "train_data = data[:split_n]\n",
    "eval_data = data[split_n:]"
   ]
  },
  {
   "cell_type": "code",
   "execution_count": 22,
   "id": "fb7f9cae-8dda-42b4-9bec-451f26b381ec",
   "metadata": {},
   "outputs": [],
   "source": [
    "def get_batch(split: Literal['train', 'eval'], config: ModelConfig, batch_size=BATCH_SIZE):\n",
    "    data = train_data if split == 'train' else eval_data\n",
    "    ix = torch.randint(len(data) - config.context_len, (batch_size,))\n",
    "    x = torch.stack([data[i:i+config.context_len] for i in ix])\n",
    "    y = torch.stack([data[i+1:i+config.context_len+1] for i in ix])\n",
    "    return x.cuda(), y.cuda()"
   ]
  },
  {
   "cell_type": "code",
   "execution_count": 21,
   "id": "07a08b27-4403-4603-b45c-9275af874383",
   "metadata": {},
   "outputs": [
    {
     "data": {
      "text/plain": [
       "torch.Size([32, 512, 4])"
      ]
     },
     "execution_count": 21,
     "metadata": {},
     "output_type": "execute_result"
    }
   ],
   "source": [
    "get_batch('train', ModelConfig())[0].shape"
   ]
  },
  {
   "cell_type": "code",
   "execution_count": 9,
   "id": "4d97a66e-bdd2-4567-8bf9-31a37b88e134",
   "metadata": {},
   "outputs": [],
   "source": [
    "class SelfAttention(nn.Module):\n",
    "    def __init__(self, config: ModelConfig):\n",
    "        super().__init__()\n",
    "        assert config.n_embeds % config.n_heads == 0\n",
    "        self.config = config\n",
    "        head_size = config.n_embeds // config.n_heads\n",
    "        self.key = nn.Linear(config.n_embeds, head_size, bias=config.bias)\n",
    "        self.query = nn.Linear(config.n_embeds, head_size, bias=config.bias)\n",
    "        self.value = nn.Linear(config.n_embeds, head_size, bias=config.bias)\n",
    "        self.dropout = nn.Dropout(config.dropout)\n",
    "        self.register_buffer('tril', torch.tril(torch.ones(config.context_len, config.context_len)))\n",
    "\n",
    "    def forward(self, x):\n",
    "        B, T, C = x.shape\n",
    "        k = self.key(x)\n",
    "        q = self.query(x)\n",
    "        w = q @ k.transpose(-2, -1) * C**-0.5\n",
    "        w = w.masked_fill(self.tril[:T, :T] == 0, float('-inf'))\n",
    "        w = F.softmax(w, dim=-1)\n",
    "        w = self.dropout(w)\n",
    "        v = self.value(x)\n",
    "        out = w @ v\n",
    "        return out\n",
    "\n",
    "class MultiHeadAttention(nn.Module):\n",
    "    def __init__(self, config: ModelConfig):\n",
    "        super().__init__()\n",
    "        self.config = config\n",
    "        head_size = config.n_embeds // config.n_heads\n",
    "        self.heads = nn.ModuleList([SelfAttention(config) for _ in range(config.n_heads)])\n",
    "        self.projection = nn.Linear(config.n_heads * head_size, config.n_embeds, bias=False)\n",
    "        self.dropout = nn.Dropout(config.dropout)\n",
    "    def forward(self, x):\n",
    "        out = torch.cat([h(x) for h in self.heads], dim=-1)\n",
    "        out = self.projection(out)\n",
    "        out = self.dropout(out)\n",
    "        return out\n",
    "\n",
    "class FeedForward(nn.Module):\n",
    "    def __init__(self, config: ModelConfig):\n",
    "        super().__init__()\n",
    "        self.config = config\n",
    "        self.net = nn.Sequential(\n",
    "            nn.Linear(config.n_embeds, 4 * config.n_embeds),\n",
    "            nn.ReLU(), # TODO: GELU\n",
    "            nn.Linear(4 * config.n_embeds, config.n_embeds),\n",
    "            nn.Dropout(config.dropout),\n",
    "        )\n",
    "    def forward(self, x):\n",
    "        return self.net(x)\n",
    "\n",
    "class SABlock(nn.Module):\n",
    "    def __init__(self, config: ModelConfig):\n",
    "        super().__init__()\n",
    "        head_size = config.n_embeds // config.n_heads\n",
    "        self.sa = MultiHeadAttention(config)\n",
    "        self.ffwd = FeedForward(config)\n",
    "        self.ln1 = nn.LayerNorm(config.n_embeds)\n",
    "        self.ln2 = nn.LayerNorm(config.n_embeds)\n",
    "\n",
    "    def forward(self, x):\n",
    "        x = x + self.sa(self.ln1(x))\n",
    "        x = x + self.ffwd(self.ln2(x))\n",
    "        return x"
   ]
  },
  {
   "cell_type": "code",
   "execution_count": 10,
   "id": "4823ed7d-46c4-4d71-88a9-e8400508dbee",
   "metadata": {},
   "outputs": [],
   "source": [
    "class Model(nn.Module):\n",
    "    def __init__(self, config: ModelConfig):\n",
    "        super().__init__()\n",
    "        self.config = config\n",
    "        self.token_embedding_table = nn.Embedding(config.n_tokens, config.n_embeds)\n",
    "        self.position_embedding_table = nn.Embedding(config.context_len, config.n_embeds)\n",
    "        self.drop = nn.Dropout(config.dropout)\n",
    "        self.blocks = nn.Sequential(*[SABlock(config) for _ in range(config.n_layers)])\n",
    "        self.layer_norm = nn.LayerNorm(config.n_embed_and_added, bias=config.bias)\n",
    "        self.lm_head = nn.Linear(config.n_embed_and_added, config.n_tokens_and_added, bias=False)\n",
    "        # We scale the weights of residual layers at initialization by a factor of 1/√N\n",
    "        # where N is the number of residual layers.\n",
    "        # Language Models are Unsupervised Multitask Learners\n",
    "        for name, p in self.named_parameters():\n",
    "            if name.endswith('projection.weight'):\n",
    "                torch.nn.init.normal_(p, mean=0.0, std=0.02/math.sqrt(2 * config.n_layers)) \n",
    "        \n",
    "    def forward(self, x, targets=None):\n",
    "        device = x.device\n",
    "        B, T, C = x.shape\n",
    "        assert T <= self.config.context_len, T\n",
    "        tokens = x[:,:,0].long()\n",
    "        added = x[:,:,1:].view(-1, self.config.context_len, self.config.n_added_params)\n",
    "        tok_emb = self.token_embedding_table(tokens)\n",
    "        pos_emb = self.position_embedding_table(torch.arange(T, dtype=torch.long, device=device))\n",
    "        x = tok_emb + pos_emb\n",
    "        x = self.drop(x)\n",
    "        x = self.blocks(x)\n",
    "        x = torch.cat((x, added), dim=2)\n",
    "        x = self.layer_norm(x)\n",
    "        if targets is None:\n",
    "            # only use last position for generation\n",
    "            logits = self.lm_head(x[:, [-1], :])\n",
    "            return logits, None, None, None\n",
    "        logits = self.lm_head(x)\n",
    "        B, T, C = logits.shape\n",
    "        classes = targets[:, :, 0].long()\n",
    "        added_params = targets[:, :, 1:]\n",
    "        label_loss = F.cross_entropy(logits.view(B*T, C), classes.view(B*T))\n",
    "        sq_err = ((added_params[:, :, -self.config.n_added_params:] - logits[:, :, -self.config.n_added_params:]) ** 2)\n",
    "        added_param_loss = sq_err.mean(dim=1).mean(dim=0).sum()\n",
    "        loss = label_loss + added_param_loss\n",
    "        return logits, loss, label_loss, added_param_loss\n",
    "    \n",
    "    @torch.no_grad()\n",
    "    def generate(self, idx, max_new_tokens, temperature=1.0, top_k=None):\n",
    "        model.eval()\n",
    "        out = []\n",
    "        for _ in range(max_new_tokens):\n",
    "            idx = idx[:, -self.config.context_len:] # truncate context\n",
    "            logits, _, _, _ = self(idx)\n",
    "            # TODO: temperature and top-k\n",
    "            probs = F.softmax(logits[:, -1, :self.config.n_tokens], dim=-1)\n",
    "            next_token = torch.multinomial(probs, num_samples=1) # B, 1\n",
    "            token = next_token.int().item()\n",
    "            added_params = logits[:,-1,-self.config.n_added_params:].view(1, self.config.n_added_params)\n",
    "            next_idx = torch.cat((next_token, added_params), dim=-1) # B, 3\n",
    "            out.append([token] + added_params.tolist()[0])\n",
    "            idx = torch.cat((idx, next_idx.view(1, -1, 1 + self.config.n_added_params)), dim=1)\n",
    "            if next_token.item() == 3:\n",
    "                break\n",
    "        return out\n"
   ]
  },
  {
   "cell_type": "code",
   "execution_count": 25,
   "id": "e0ab234d-c40b-4ce0-9189-2c7203567978",
   "metadata": {},
   "outputs": [],
   "source": [
    "class ModelStats:\n",
    "    def __init__(self, model: Model):\n",
    "        self.model = model\n",
    "\n",
    "    def estimate_flops(self):\n",
    "        pass\n",
    "        \n",
    "    def num_parameters(self):\n",
    "        n_elements = sum(p.numel() for p in self.model.parameters())\n",
    "        return n_elements"
   ]
  },
  {
   "cell_type": "code",
   "execution_count": 26,
   "id": "59797891-dff7-4de0-932c-2771dffae70c",
   "metadata": {},
   "outputs": [
    {
     "name": "stderr",
     "output_type": "stream",
     "text": [
      "/tmp/ipykernel_198293/2056760182.py:21: TracerWarning: Converting a tensor to a Python boolean might cause the trace to be incorrect. We can't record the data flow of Python values, so this value will be treated as a constant in the future. This means that the trace might not generalize to other inputs!\n",
      "  assert T <= self.config.context_len, T\n"
     ]
    },
    {
     "data": {
      "text/plain": [
       "177199"
      ]
     },
     "metadata": {},
     "output_type": "display_data"
    }
   ],
   "source": [
    "config = ModelConfig()\n",
    "model = Model(config).cuda()\n",
    "summary.add_graph(model, get_batch('train', config))\n",
    "global_training_steps = 0\n",
    "stats = ModelStats(model)\n",
    "display(stats.num_parameters())"
   ]
  },
  {
   "cell_type": "code",
   "execution_count": 31,
   "id": "41e8b53b-5dda-46c3-a421-2de783e5c796",
   "metadata": {},
   "outputs": [],
   "source": [
    "dtype = torch.bfloat16 if torch.cuda.is_available() and torch.cuda.is_bf16_supported() else torch.float16\n",
    "autocast_ctx = torch.autocast(device_type='cuda', dtype=dtype)"
   ]
  },
  {
   "cell_type": "code",
   "execution_count": 32,
   "id": "b1d872ba-d518-407e-b379-1ab1ca4b4b23",
   "metadata": {},
   "outputs": [],
   "source": [
    "eval_iters = 100\n",
    "@torch.no_grad()\n",
    "def estimate_loss():\n",
    "    out = {}\n",
    "    model.eval()\n",
    "    for split in ['train']:#, 'eval']:\n",
    "        losses = torch.zeros(eval_iters)\n",
    "        for k in range(eval_iters):\n",
    "            X, Y = get_batch(split, config)\n",
    "            with autocast_ctx:\n",
    "                logits, loss, _, _ = model(X, Y)\n",
    "            losses[k] = loss.item()\n",
    "        out[split] = losses.mean()\n",
    "    model.train()\n",
    "    return out"
   ]
  },
  {
   "cell_type": "code",
   "execution_count": 33,
   "id": "2d6d4462-6ab6-4845-a04b-e75469c623cc",
   "metadata": {},
   "outputs": [
    {
     "data": {
      "text/plain": [
       "{'train': tensor(8.6981)}"
      ]
     },
     "execution_count": 33,
     "metadata": {},
     "output_type": "execute_result"
    }
   ],
   "source": [
    "estimate_loss()"
   ]
  },
  {
   "cell_type": "code",
   "execution_count": null,
   "id": "ad5e7acd-d020-4e22-b3cd-5189603fdb05",
   "metadata": {},
   "outputs": [
    {
     "name": "stdout",
     "output_type": "stream",
     "text": [
      "      0/ 100000: 8.7119, lr=[0.001]\n",
      "    100/ 100000: 4.0606, lr=[0.001]\n",
      "    200/ 100000: 3.0276, lr=[0.001]\n"
     ]
    }
   ],
   "source": [
    "lossi = []\n",
    "model.train()\n",
    "optimizer = torch.optim.AdamW(model.parameters(), lr=1e-3)\n",
    "scheduler = torch.optim.lr_scheduler.StepLR(optimizer, step_size=500, gamma=0.2)\n",
    "scaler = torch.cuda.amp.GradScaler()\n",
    "max_steps = 100_000\n",
    "\n",
    "for i in range(max_steps+1):\n",
    "    global_training_steps += 1\n",
    "    Xb, Yb = get_batch('train', config)\n",
    "    optimizer.zero_grad(set_to_none=True)\n",
    "    with autocast_ctx:\n",
    "        logits, loss, label_loss, added_param_loss = model(Xb, Yb)\n",
    "    if i % 10 == 0:\n",
    "        summary.add_scalar('loss', loss.item(), global_training_steps)\n",
    "        summary.add_scalar('label_loss', label_loss.item(), global_training_steps)\n",
    "        summary.add_scalar('added_param_loss', added_param_loss.item(), global_training_steps)\n",
    "    scaler.scale(loss).backward()\n",
    "    scaler.step(optimizer)\n",
    "    scaler.update()\n",
    "    # loss.backward()\n",
    "    # optimizer.step()\n",
    "    # track\n",
    "    scheduler.step()\n",
    "    if i % 100 == 0:\n",
    "        print(f\"{i:7d}/{max_steps:7d}: {loss.item():.4f}, lr={scheduler.get_last_lr()}\")\n",
    "    lossi.append(loss.log10().item())"
   ]
  },
  {
   "cell_type": "code",
   "execution_count": 50,
   "id": "36f1bbef-28fb-4770-871d-e89eb09e9ef8",
   "metadata": {},
   "outputs": [
    {
     "data": {
      "text/plain": [
       "[<matplotlib.lines.Line2D at 0x7f27e89df190>]"
      ]
     },
     "execution_count": 50,
     "metadata": {},
     "output_type": "execute_result"
    },
    {
     "data": {
      "image/png": "[encoded data removed]",
      "text/plain": [
       "<Figure size 1600x600 with 1 Axes>"
      ]
     },
     "metadata": {},
     "output_type": "display_data"
    }
   ],
   "source": [
    "plt.figure(figsize=(16, 6))\n",
    "# instead, average across 1_000 points\n",
    "r = (len(lossi) // 100) * 100\n",
    "plt.plot(torch.tensor(lossi)[:r].view(-1, 100).mean(1))\n"
   ]
  },
  {
   "cell_type": "code",
   "execution_count": 14,
   "id": "cc6531a8-93c7-4044-9415-30a04ee4f954",
   "metadata": {},
   "outputs": [
    {
     "name": "stdout",
     "output_type": "stream",
     "text": [
      "wrote sample-0.tokens\n"
     ]
    }
   ],
   "source": [
    "for sample in range(1):\n",
    "    gen_ctx = torch.tensor([[[1, 0.0, 0.0, 0.0]] * (config.context_len - 1) + [[2, 0.0, 0.0, 0.0]]], device='cuda')\n",
    "    generated = model.generate(gen_ctx, max_new_tokens=1_000)\n",
    "    with open(f\"sample-{sample}.tokens\", 'wb') as f:\n",
    "        cbor2.dump(generated, f)\n",
    "        print(\"wrote\", f.name)"
   ]
  },
  {
   "cell_type": "code",
   "execution_count": 37,
   "id": "e955a731-5552-4b8c-a1be-5b7c3e33047a",
   "metadata": {},
   "outputs": [
    {
     "data": {
      "text/plain": [
       "tensor([[37.0000,  2.6667,  0.0000,  0.2913],\n",
       "        [49.0000,  3.3333,  0.0000,  0.2283],\n",
       "        [56.0000,  0.3333,  0.0000,  0.3622],\n",
       "        [61.0000,  0.3333,  0.3333,  0.2362],\n",
       "        [64.0000,  0.6667,  0.3333,  0.3386],\n",
       "        [56.0000,  0.3333,  0.3333,  0.2992],\n",
       "        [61.0000,  0.3333,  0.3333,  0.2283],\n",
       "        [64.0000,  0.6667,  0.3333,  0.2520],\n",
       "        [56.0000,  0.3333,  0.3333,  0.2520],\n",
       "        [61.0000,  0.3333,  0.3333,  0.1969],\n",
       "        [64.0000,  0.6667,  0.3333,  0.1969],\n",
       "        [56.0000,  0.3333,  0.3333,  0.2598],\n",
       "        [61.0000,  0.3333,  0.3333,  0.2283],\n",
       "        [64.0000,  0.2188,  0.3333,  0.2283],\n",
       "        [35.0000,  3.9792,  0.3333,  0.3307],\n",
       "        [47.0000,  4.0000,  0.0000,  0.2992],\n",
       "        [56.0000,  1.6667,  0.0000,  0.1969],\n",
       "        [61.0000,  0.3333,  0.3333,  0.2126],\n",
       "        [64.0000,  0.6667,  0.3333,  0.2126],\n",
       "        [56.0000,  0.3333,  0.3333,  0.2362],\n",
       "        [61.0000,  0.3333,  0.3333,  0.2283],\n",
       "        [64.0000,  0.6667,  0.3333,  0.2126],\n",
       "        [56.0000,  0.3333,  0.3333,  0.2126],\n",
       "        [61.0000,  0.3333,  0.3333,  0.1969],\n",
       "        [64.0000,  0.6667,  0.3333,  0.2677],\n",
       "        [56.0000,  0.3333,  0.3333,  0.2913],\n",
       "        [61.0000,  0.3333,  0.3333,  0.2441],\n",
       "        [64.0000,  1.0000,  0.3333,  0.2913],\n",
       "        [33.0000,  2.0000,  0.3333,  0.2913],\n",
       "        [45.0000,  2.0000,  0.0000,  0.3071],\n",
       "        [57.0000,  1.0000,  0.0000,  0.3228],\n",
       "        [61.0000,  0.3333,  0.3333,  0.1969],\n",
       "        [64.0000,  0.6667,  0.3333,  0.2598],\n",
       "        [57.0000,  0.3333,  0.3333,  0.2205],\n",
       "        [61.0000,  0.3333,  0.3333,  0.2598],\n",
       "        [64.0000,  1.0000,  0.3333,  0.2520],\n",
       "        [30.0000,  2.0000,  0.3333,  0.2126],\n",
       "        [42.0000,  2.0417,  0.0000,  0.2283],\n",
       "        [57.0000,  1.0000,  0.0000,  0.2835],\n",
       "        [62.0000,  0.3333,  0.3333,  0.2913]])"
      ]
     },
     "metadata": {},
     "output_type": "display_data"
    }
   ],
   "source": [
    "display(data[:40])"
   ]
  },
  {
   "cell_type": "code",
   "execution_count": null,
   "id": "6661ae5a-db53-495d-93ca-27f63bfb7249",
   "metadata": {
    "scrolled": true
   },
   "outputs": [],
   "source": [
    "@torch.no_grad()\n",
    "def split_loss(split):\n",
    "    model.eval()\n",
    "    data = {\n",
    "        \"train\": train_data,\n",
    "        \"eval\": eval_data,\n",
    "    }[split]\n",
    "    ix = torch.randint(len(data) - CONTEXT_LEN, (BATCH_SIZE,))\n",
    "    x = torch.stack([data[i:i+CONTEXT_LEN] for i in ix]).cuda()\n",
    "    y = torch.stack([data[i+1:i+CONTEXT_LEN+1] for i in ix]).cuda()\n",
    "    logits, loss = model(x, y)\n",
    "    print(split, loss.item())\n",
    "    model.train()\n",
    "\n",
    "split_loss(\"train\")\n",
    "split_loss(\"eval\")"
   ]
  },
  {
   "cell_type": "code",
   "execution_count": 84,
   "id": "80577faf-3600-40d2-8e5a-1a38293716dc",
   "metadata": {},
   "outputs": [],
   "source": [
    "torch.save(model, \"\")"
   ]
  },
  {
   "cell_type": "code",
   "execution_count": 17,
   "id": "9a9e3406-855e-43d4-822c-e4b03a0d7a28",
   "metadata": {},
   "outputs": [],
   "source": [
    "torch.cuda.empty_cache()"
   ]
  },
  {
   "cell_type": "code",
   "execution_count": null,
   "id": "a7f0f043-50af-4818-bc4d-c6071aa6c915",
   "metadata": {},
   "outputs": [],
   "source": []
  }
 ],
 "metadata": {
  "kernelspec": {
   "display_name": "Python 3 (ipykernel)",
   "language": "python",
   "name": "python3"
  },
  "language_info": {
   "codemirror_mode": {
    "name": "ipython",
    "version": 3
   },
   "file_extension": ".py",
   "mimetype": "text/x-python",
   "name": "python",
   "nbconvert_exporter": "python",
   "pygments_lexer": "ipython3",
   "version": "3.11.5"
  }
 },
 "nbformat": 4,
 "nbformat_minor": 5
}
