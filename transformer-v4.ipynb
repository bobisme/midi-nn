{
 "cells": [
  {
   "cell_type": "code",
   "execution_count": 1,
   "id": "ce61c533-2231-4f2c-8f4a-d5fd077f9905",
   "metadata": {},
   "outputs": [],
   "source": [
    "import random\n",
    "import glob\n",
    "import torch\n",
    "import torch.nn as nn\n",
    "import torch.nn.functional as F\n",
    "import matplotlib.pyplot as plt\n",
    "from torch.utils.tensorboard import SummaryWriter\n",
    "import cbor2\n",
    "\n",
    "assert torch.cuda.is_available()\n",
    "random.seed(42)\n",
    "torch.manual_seed(42)\n",
    "summary = SummaryWriter(\"runs/attention-v4\")"
   ]
  },
  {
   "cell_type": "code",
   "execution_count": 2,
   "id": "5ee65534-6984-41ce-8299-bdf67ac2cd22",
   "metadata": {},
   "outputs": [],
   "source": [
    "# CONSTANTS\n",
    "CONTEXT_LEN = 1024\n",
    "BATCH_SIZE = 32\n",
    "EMBED_LEN = 32\n",
    "ADDED_PARAM_LEN = 3 # duration, delay, velocity\n",
    "PARAM_LEN = 1 + ADDED_PARAM_LEN\n",
    "DROPOUT_RATE = 0.0001\n",
    "TOKEN_LEN = 128"
   ]
  },
  {
   "cell_type": "code",
   "execution_count": 3,
   "id": "3aff63cf-a906-4e18-b939-4302c6a44242",
   "metadata": {},
   "outputs": [],
   "source": [
    "track_paths = glob.glob('moonlight.tokens')\n",
    "#display(track_paths)\n",
    "tracks = []\n",
    "for path in track_paths:\n",
    "    with open(path, 'rb') as f:\n",
    "        track_data = cbor2.load(f)\n",
    "        if len(track_data) < 100:\n",
    "            print(\"too short:\", path)\n",
    "        tracks.append(track_data)"
   ]
  },
  {
   "cell_type": "code",
   "execution_count": 4,
   "id": "b2d10b79-a6f0-43e9-9675-2b85c7cd9afa",
   "metadata": {},
   "outputs": [
    {
     "name": "stdout",
     "output_type": "stream",
     "text": [
      "[[2, 0.0, 0.0, 0.0], [37, 4.0, 0.0, 0.29133858267716534], [49, 4.0, 0.0, 0.2283464566929134], [56, 0.010416666666666666, 0.0, 0.36220472440944884], [61, 0.0, 0.3333333333333333, 0.23622047244094488]]\n",
      "1\n"
     ]
    }
   ],
   "source": [
    "print(tracks[0][0:5])\n",
    "print(len(tracks))"
   ]
  },
  {
   "cell_type": "code",
   "execution_count": 5,
   "id": "049fe1ac-2fda-4709-8948-88139476e1c8",
   "metadata": {},
   "outputs": [],
   "source": [
    "data = torch.tensor([event for track in tracks for event in track])\n",
    "split_n = int(0.9 * len(data))\n",
    "train_data = data[:split_n]\n",
    "eval_data = data[split_n:]"
   ]
  },
  {
   "cell_type": "code",
   "execution_count": 6,
   "id": "fb7f9cae-8dda-42b4-9bec-451f26b381ec",
   "metadata": {},
   "outputs": [],
   "source": [
    "def get_batch(split):\n",
    "    data = train_data if split == 'train' else eval_data\n",
    "    ix = torch.randint(len(data) - CONTEXT_LEN, (BATCH_SIZE,))\n",
    "    x = torch.stack([data[i:i+CONTEXT_LEN] for i in ix])\n",
    "    y = torch.stack([data[i+1:i+CONTEXT_LEN+1] for i in ix])\n",
    "    return x.cuda(), y.cuda()"
   ]
  },
  {
   "cell_type": "code",
   "execution_count": 7,
   "id": "07a08b27-4403-4603-b45c-9275af874383",
   "metadata": {},
   "outputs": [
    {
     "data": {
      "text/plain": [
       "torch.Size([32, 1024, 4])"
      ]
     },
     "execution_count": 7,
     "metadata": {},
     "output_type": "execute_result"
    }
   ],
   "source": [
    "get_batch('train')[0].shape"
   ]
  },
  {
   "cell_type": "code",
   "execution_count": 8,
   "id": "4d97a66e-bdd2-4567-8bf9-31a37b88e134",
   "metadata": {},
   "outputs": [],
   "source": [
    "class SelfAttention(nn.Module):\n",
    "    def __init__(self, head_size, n_embed=(EMBED_LEN + ADDED_PARAM_LEN)):\n",
    "        super().__init__()\n",
    "        self.key = nn.Linear(n_embed, head_size, bias=False)\n",
    "        self.query = nn.Linear(n_embed, head_size, bias=False)\n",
    "        self.value = nn.Linear(n_embed, head_size, bias=False)\n",
    "        self.dropout = nn.Dropout(DROPOUT_RATE)\n",
    "        self.register_buffer('tril', torch.tril(torch.ones(CONTEXT_LEN, CONTEXT_LEN)))\n",
    "\n",
    "    def forward(self, x):\n",
    "        B, T, C = x.shape\n",
    "        k = self.key(x)\n",
    "        q = self.query(x)\n",
    "        w = q @ k.transpose(-2, -1) * C**-0.5\n",
    "        w = w.masked_fill(self.tril[:T, :T] == 0, float('-inf'))\n",
    "        w = F.softmax(w, dim=-1)\n",
    "        w = self.dropout(w)\n",
    "        v = self.value(x)\n",
    "        out = w @ v\n",
    "        return out\n",
    "\n",
    "class MultiHeadAttention(nn.Module):\n",
    "    def __init__(self, num_heads, head_size, n_embed=(EMBED_LEN + ADDED_PARAM_LEN)):\n",
    "        super().__init__()\n",
    "        self.heads = nn.ModuleList([SelfAttention(head_size) for _ in range(num_heads)])\n",
    "        self.projection = nn.Linear(num_heads * head_size, n_embed, bias=False)\n",
    "        self.dropout = nn.Dropout(DROPOUT_RATE)\n",
    "    def forward(self, x):\n",
    "        out = torch.cat([h(x) for h in self.heads], dim=-1)\n",
    "        out = self.projection(out)\n",
    "        out = self.dropout(out)\n",
    "        return out\n",
    "\n",
    "class FeedForward(nn.Module):\n",
    "    def __init__(self, n_embed):\n",
    "        super().__init__()\n",
    "        self.net = nn.Sequential(\n",
    "            nn.Linear(n_embed, 4 * n_embed),\n",
    "            nn.ReLU(),\n",
    "            nn.Linear(4 * n_embed, n_embed),\n",
    "            nn.Dropout(DROPOUT_RATE),\n",
    "        )\n",
    "    def forward(self, x):\n",
    "        return self.net(x)\n",
    "\n",
    "class SABlock(nn.Module):\n",
    "    def __init__(self, n_embed, n_head, n_added=ADDED_PARAM_LEN):\n",
    "        super().__init__()\n",
    "        head_size = (n_embed + n_added) // n_head\n",
    "        self.sa = MultiHeadAttention(n_head, head_size)\n",
    "        self.ffwd = FeedForward(n_embed + n_added)\n",
    "        self.ln1 = nn.LayerNorm(n_embed + n_added)\n",
    "        self.ln2 = nn.LayerNorm(n_embed + n_added)\n",
    "\n",
    "    def forward(self, x):\n",
    "        x = x + self.sa(self.ln1(x))\n",
    "        x = x + self.ffwd(self.ln2(x))\n",
    "        return x"
   ]
  },
  {
   "cell_type": "code",
   "execution_count": null,
   "id": "e88efede-b487-49c3-969f-af286715054d",
   "metadata": {},
   "outputs": [],
   "source": [
    "@dataclass\n",
    "class ModelConfig:\n",
    "    context_len: int = 1024\n",
    "    "
   ]
  },
  {
   "cell_type": "code",
   "execution_count": 9,
   "id": "4823ed7d-46c4-4d71-88a9-e8400508dbee",
   "metadata": {},
   "outputs": [],
   "source": [
    "class Model(nn.Module):\n",
    "    def __init__(self, n_hidden_neurons, n_sa_heads=4):\n",
    "        super().__init__()\n",
    "        self.token_embedding_table = nn.Embedding(TOKEN_LEN, EMBED_LEN)\n",
    "        self.position_embedding_table = nn.Embedding(CONTEXT_LEN, EMBED_LEN)\n",
    "        # self.sa_head = SelfAttention(EMBED_LEN)\n",
    "        self.blocks = nn.Sequential(\n",
    "            SABlock(EMBED_LEN, 4),\n",
    "            SABlock(EMBED_LEN, 4),\n",
    "            SABlock(EMBED_LEN, 4),\n",
    "            SABlock(EMBED_LEN, 4),\n",
    "            SABlock(EMBED_LEN, 4),\n",
    "            SABlock(EMBED_LEN, 4),\n",
    "            SABlock(EMBED_LEN, 4),\n",
    "            SABlock(EMBED_LEN, 4),\n",
    "            SABlock(EMBED_LEN, 4),\n",
    "            SABlock(EMBED_LEN, 4),\n",
    "            SABlock(EMBED_LEN, 4),\n",
    "            SABlock(EMBED_LEN, 4),\n",
    "            SABlock(EMBED_LEN, 4),\n",
    "            SABlock(EMBED_LEN, 4),\n",
    "            SABlock(EMBED_LEN, 4),\n",
    "            SABlock(EMBED_LEN, 4),\n",
    "        )\n",
    "        self.lm_head = nn.Linear(EMBED_LEN + ADDED_PARAM_LEN, TOKEN_LEN + ADDED_PARAM_LEN, bias=False)\n",
    "        \n",
    "    def forward(self, x, targets=None):\n",
    "        B, T, C = x.shape\n",
    "        tokens = x[:,:,0].long()\n",
    "        added = x[:,:,1:].view(-1, CONTEXT_LEN, ADDED_PARAM_LEN)\n",
    "        tok_emb = self.token_embedding_table(tokens)\n",
    "        pos_emb = self.position_embedding_table(torch.arange(T, device='cuda'))\n",
    "        x = tok_emb + pos_emb\n",
    "        x = torch.cat((x, added), dim=2)\n",
    "        x = self.blocks(x)\n",
    "        logits = self.lm_head(x)\n",
    "        if targets is None:\n",
    "            return logits, None, None, None\n",
    "        B, T, C = logits.shape\n",
    "        classes = targets[:, :, 0].long()\n",
    "        added_params = targets[:, :, 1:]\n",
    "        label_loss = F.cross_entropy(logits.view(B*T, C), classes.view(B*T))\n",
    "        sq_err = ((added_params[:, :, -ADDED_PARAM_LEN:] - logits[:, :, -ADDED_PARAM_LEN:]) ** 2)\n",
    "        added_param_loss = sq_err.mean(dim=1).mean(dim=0).sum()\n",
    "        loss = label_loss + added_param_loss\n",
    "        return logits, loss, label_loss, added_param_loss\n",
    "    \n",
    "    @torch.no_grad()\n",
    "    def generate(self, idx, max_new_tokens):\n",
    "        model.eval()\n",
    "        out = []\n",
    "        for _ in range(max_new_tokens):\n",
    "            idx = idx[:, -CONTEXT_LEN:] # truncate context\n",
    "            logits, loss, _, _ = self(idx)\n",
    "            probs = F.softmax(logits[:, -1, :TOKEN_LEN], dim=-1)\n",
    "            next_token = torch.multinomial(probs, num_samples=1) # B, 1\n",
    "            token = next_token.int().item()\n",
    "            added_params = logits[:,-1,-ADDED_PARAM_LEN:].view(1, ADDED_PARAM_LEN)\n",
    "            next_idx = torch.cat((next_token, added_params), dim=-1) # B, 3\n",
    "            out.append([token] + added_params.tolist()[0])\n",
    "            idx = torch.cat((idx, next_idx.view(1, -1, PARAM_LEN)), dim=1)\n",
    "            if next_token.item() == 3:\n",
    "                break\n",
    "        return out\n"
   ]
  },
  {
   "cell_type": "code",
   "execution_count": 10,
   "id": "59797891-dff7-4de0-932c-2771dffae70c",
   "metadata": {},
   "outputs": [],
   "source": [
    "model = Model(BATCH_SIZE).cuda()\n",
    "summary.add_graph(model, get_batch('train'))\n",
    "global_training_steps = 0"
   ]
  },
  {
   "cell_type": "code",
   "execution_count": 11,
   "id": "ad5e7acd-d020-4e22-b3cd-5189603fdb05",
   "metadata": {},
   "outputs": [
    {
     "name": "stderr",
     "output_type": "stream",
     "text": [
      "/home/bob/src/midi-tokenizer/.venv/lib/python3.11/site-packages/torch/optim/lr_scheduler.py:136: UserWarning: Detected call of `lr_scheduler.step()` before `optimizer.step()`. In PyTorch 1.1.0 and later, you should call them in the opposite order: `optimizer.step()` before `lr_scheduler.step()`.  Failure to do this will result in PyTorch skipping the first value of the learning rate schedule. See more details at https://pytorch.org/docs/stable/optim.html#how-to-adjust-learning-rate\n",
      "  warnings.warn(\"Detected call of `lr_scheduler.step()` before `optimizer.step()`. \"\n"
     ]
    },
    {
     "name": "stdout",
     "output_type": "stream",
     "text": [
      "      0/ 100000: 10.4021, lr=[0.01]\n",
      "    100/ 100000: 3.3648, lr=[0.01]\n",
      "    200/ 100000: 2.3629, lr=[0.01]\n",
      "    300/ 100000: 1.4017, lr=[0.01]\n",
      "    400/ 100000: 0.7763, lr=[0.01]\n",
      "    500/ 100000: 0.5198, lr=[0.002]\n",
      "    600/ 100000: 0.3261, lr=[0.002]\n",
      "    700/ 100000: 0.3094, lr=[0.002]\n",
      "    800/ 100000: 0.2733, lr=[0.002]\n",
      "    900/ 100000: 0.2114, lr=[0.002]\n",
      "   1000/ 100000: 0.1722, lr=[0.0004]\n",
      "   1100/ 100000: 0.1775, lr=[0.0004]\n",
      "   1200/ 100000: 0.1490, lr=[0.0004]\n",
      "   1300/ 100000: 0.1550, lr=[0.0004]\n",
      "   1400/ 100000: 0.1346, lr=[0.0004]\n",
      "   1500/ 100000: 0.1415, lr=[8e-05]\n",
      "   1600/ 100000: 0.1404, lr=[8e-05]\n",
      "   1700/ 100000: 0.1178, lr=[8e-05]\n",
      "   1800/ 100000: 0.1189, lr=[8e-05]\n",
      "   1900/ 100000: 0.1122, lr=[8e-05]\n",
      "   2000/ 100000: 0.1431, lr=[1.6000000000000003e-05]\n",
      "   2100/ 100000: 0.1174, lr=[1.6000000000000003e-05]\n",
      "   2200/ 100000: 0.1269, lr=[1.6000000000000003e-05]\n",
      "   2300/ 100000: 0.1365, lr=[1.6000000000000003e-05]\n"
     ]
    },
    {
     "ename": "KeyboardInterrupt",
     "evalue": "",
     "output_type": "error",
     "traceback": [
      "\u001b[1;31m---------------------------------------------------------------------------\u001b[0m",
      "\u001b[1;31mKeyboardInterrupt\u001b[0m                         Traceback (most recent call last)",
      "Cell \u001b[1;32mIn[11], line 19\u001b[0m\n\u001b[0;32m     17\u001b[0m     summary\u001b[38;5;241m.\u001b[39madd_scalar(\u001b[38;5;124m'\u001b[39m\u001b[38;5;124madded_param_loss\u001b[39m\u001b[38;5;124m'\u001b[39m, added_param_loss\u001b[38;5;241m.\u001b[39mitem(), global_training_steps)\n\u001b[0;32m     18\u001b[0m scaler\u001b[38;5;241m.\u001b[39mscale(loss)\u001b[38;5;241m.\u001b[39mbackward()\n\u001b[1;32m---> 19\u001b[0m \u001b[40mscaler\u001b[49m\u001b[38;5;241;40m.\u001b[39;49m\u001b[40mstep\u001b[49m\u001b[40m(\u001b[49m\u001b[40moptimizer\u001b[49m\u001b[40m)\u001b[49m\n\u001b[0;32m     20\u001b[0m scaler\u001b[38;5;241m.\u001b[39mupdate()\n\u001b[0;32m     21\u001b[0m \u001b[38;5;66;03m# loss.backward()\u001b[39;00m\n\u001b[0;32m     22\u001b[0m \u001b[38;5;66;03m# optimizer.step()\u001b[39;00m\n\u001b[0;32m     23\u001b[0m \u001b[38;5;66;03m# track\u001b[39;00m\n",
      "File \u001b[1;32m~/src/midi-tokenizer/.venv/lib/python3.11/site-packages/torch/cuda/amp/grad_scaler.py:416\u001b[0m, in \u001b[0;36mGradScaler.step\u001b[1;34m(self, optimizer, *args, **kwargs)\u001b[0m\n\u001b[0;32m    410\u001b[0m     \u001b[38;5;28mself\u001b[39m\u001b[38;5;241m.\u001b[39munscale_(optimizer)\n\u001b[0;32m    412\u001b[0m \u001b[38;5;28;01massert\u001b[39;00m (\n\u001b[0;32m    413\u001b[0m     \u001b[38;5;28mlen\u001b[39m(optimizer_state[\u001b[38;5;124m\"\u001b[39m\u001b[38;5;124mfound_inf_per_device\u001b[39m\u001b[38;5;124m\"\u001b[39m]) \u001b[38;5;241m>\u001b[39m \u001b[38;5;241m0\u001b[39m\n\u001b[0;32m    414\u001b[0m ), \u001b[38;5;124m\"\u001b[39m\u001b[38;5;124mNo inf checks were recorded for this optimizer.\u001b[39m\u001b[38;5;124m\"\u001b[39m\n\u001b[1;32m--> 416\u001b[0m retval \u001b[38;5;241m=\u001b[39m \u001b[38;5;28;40mself\u001b[39;49m\u001b[38;5;241;40m.\u001b[39;49m\u001b[40m_maybe_opt_step\u001b[49m\u001b[40m(\u001b[49m\u001b[40moptimizer\u001b[49m\u001b[40m,\u001b[49m\u001b[40m \u001b[49m\u001b[40moptimizer_state\u001b[49m\u001b[40m,\u001b[49m\u001b[40m \u001b[49m\u001b[38;5;241;40m*\u001b[39;49m\u001b[40margs\u001b[49m\u001b[40m,\u001b[49m\u001b[40m \u001b[49m\u001b[38;5;241;40m*\u001b[39;49m\u001b[38;5;241;40m*\u001b[39;49m\u001b[40mkwargs\u001b[49m\u001b[40m)\u001b[49m\n\u001b[0;32m    418\u001b[0m optimizer_state[\u001b[38;5;124m\"\u001b[39m\u001b[38;5;124mstage\u001b[39m\u001b[38;5;124m\"\u001b[39m] \u001b[38;5;241m=\u001b[39m OptState\u001b[38;5;241m.\u001b[39mSTEPPED\n\u001b[0;32m    420\u001b[0m \u001b[38;5;28;01mreturn\u001b[39;00m retval\n",
      "File \u001b[1;32m~/src/midi-tokenizer/.venv/lib/python3.11/site-packages/torch/cuda/amp/grad_scaler.py:314\u001b[0m, in \u001b[0;36mGradScaler._maybe_opt_step\u001b[1;34m(self, optimizer, optimizer_state, *args, **kwargs)\u001b[0m\n\u001b[0;32m    312\u001b[0m \u001b[38;5;28;01mdef\u001b[39;00m \u001b[38;5;21m_maybe_opt_step\u001b[39m(\u001b[38;5;28mself\u001b[39m, optimizer, optimizer_state, \u001b[38;5;241m*\u001b[39margs, \u001b[38;5;241m*\u001b[39m\u001b[38;5;241m*\u001b[39mkwargs):\n\u001b[0;32m    313\u001b[0m     retval \u001b[38;5;241m=\u001b[39m \u001b[38;5;28;01mNone\u001b[39;00m\n\u001b[1;32m--> 314\u001b[0m     \u001b[38;5;28;01mif\u001b[39;00m \u001b[38;5;129;01mnot\u001b[39;00m \u001b[38;5;28msum\u001b[39m(v\u001b[38;5;241m.\u001b[39mitem() \u001b[38;5;28;01mfor\u001b[39;00m v \u001b[38;5;129;01min\u001b[39;00m optimizer_state[\u001b[38;5;124m\"\u001b[39m\u001b[38;5;124mfound_inf_per_device\u001b[39m\u001b[38;5;124m\"\u001b[39m]\u001b[38;5;241m.\u001b[39mvalues()):\n\u001b[0;32m    315\u001b[0m         retval \u001b[38;5;241m=\u001b[39m optimizer\u001b[38;5;241m.\u001b[39mstep(\u001b[38;5;241m*\u001b[39margs, \u001b[38;5;241m*\u001b[39m\u001b[38;5;241m*\u001b[39mkwargs)\n\u001b[0;32m    316\u001b[0m     \u001b[38;5;28;01mreturn\u001b[39;00m retval\n",
      "File \u001b[1;32m~/src/midi-tokenizer/.venv/lib/python3.11/site-packages/torch/cuda/amp/grad_scaler.py:314\u001b[0m, in \u001b[0;36m<genexpr>\u001b[1;34m(.0)\u001b[0m\n\u001b[0;32m    312\u001b[0m \u001b[38;5;28;01mdef\u001b[39;00m \u001b[38;5;21m_maybe_opt_step\u001b[39m(\u001b[38;5;28mself\u001b[39m, optimizer, optimizer_state, \u001b[38;5;241m*\u001b[39margs, \u001b[38;5;241m*\u001b[39m\u001b[38;5;241m*\u001b[39mkwargs):\n\u001b[0;32m    313\u001b[0m     retval \u001b[38;5;241m=\u001b[39m \u001b[38;5;28;01mNone\u001b[39;00m\n\u001b[1;32m--> 314\u001b[0m     \u001b[38;5;28;01mif\u001b[39;00m \u001b[38;5;129;01mnot\u001b[39;00m \u001b[38;5;28msum\u001b[39m(\u001b[40mv\u001b[49m\u001b[38;5;241;40m.\u001b[39;49m\u001b[40mitem\u001b[49m\u001b[40m(\u001b[49m\u001b[40m)\u001b[49m \u001b[38;5;28;01mfor\u001b[39;00m v \u001b[38;5;129;01min\u001b[39;00m optimizer_state[\u001b[38;5;124m\"\u001b[39m\u001b[38;5;124mfound_inf_per_device\u001b[39m\u001b[38;5;124m\"\u001b[39m]\u001b[38;5;241m.\u001b[39mvalues()):\n\u001b[0;32m    315\u001b[0m         retval \u001b[38;5;241m=\u001b[39m optimizer\u001b[38;5;241m.\u001b[39mstep(\u001b[38;5;241m*\u001b[39margs, \u001b[38;5;241m*\u001b[39m\u001b[38;5;241m*\u001b[39mkwargs)\n\u001b[0;32m    316\u001b[0m     \u001b[38;5;28;01mreturn\u001b[39;00m retval\n",
      "\u001b[1;31mKeyboardInterrupt\u001b[0m: "
     ]
    }
   ],
   "source": [
    "lossi = []\n",
    "model.train()\n",
    "optimizer = torch.optim.AdamW(model.parameters(), lr=1e-2)\n",
    "scheduler = torch.optim.lr_scheduler.StepLR(optimizer, step_size=500, gamma=0.2)\n",
    "scaler = torch.cuda.amp.GradScaler()\n",
    "max_steps = 100_000\n",
    "\n",
    "for i in range(max_steps+1):\n",
    "    global_training_steps += 1\n",
    "    Xb, Yb = get_batch('train')\n",
    "    optimizer.zero_grad(set_to_none=True)\n",
    "    with torch.autocast(device_type='cuda', dtype=torch.float16):\n",
    "        logits, loss, label_loss, added_param_loss = model(Xb, Yb)\n",
    "    if i % 10 == 0:\n",
    "        summary.add_scalar('loss', loss.item(), global_training_steps)\n",
    "        summary.add_scalar('label_loss', label_loss.item(), global_training_steps)\n",
    "        summary.add_scalar('added_param_loss', added_param_loss.item(), global_training_steps)\n",
    "    scaler.scale(loss).backward()\n",
    "    scaler.step(optimizer)\n",
    "    scaler.update()\n",
    "    # loss.backward()\n",
    "    # optimizer.step()\n",
    "    # track\n",
    "    scheduler.step()\n",
    "    if i % 100 == 0:\n",
    "        print(f\"{i:7d}/{max_steps:7d}: {loss.item():.4f}, lr={scheduler.get_last_lr()}\")\n",
    "    lossi.append(loss.log10().item())"
   ]
  },
  {
   "cell_type": "code",
   "execution_count": 12,
   "id": "36f1bbef-28fb-4770-871d-e89eb09e9ef8",
   "metadata": {},
   "outputs": [
    {
     "data": {
      "text/plain": [
       "[<matplotlib.lines.Line2D at 0x7fc87d12f410>]"
      ]
     },
     "execution_count": 12,
     "metadata": {},
     "output_type": "execute_result"
    },
    {
     "data": {
      "image/png": "[encoded data removed]",
      "text/plain": [
       "<Figure size 1600x600 with 1 Axes>"
      ]
     },
     "metadata": {},
     "output_type": "display_data"
    }
   ],
   "source": [
    "plt.figure(figsize=(16, 6))\n",
    "# instead, average across 1_000 points\n",
    "r = (len(lossi) // 100) * 100\n",
    "plt.plot(torch.tensor(lossi)[:r].view(-1, 100).mean(1))\n"
   ]
  },
  {
   "cell_type": "code",
   "execution_count": 13,
   "id": "cc6531a8-93c7-4044-9415-30a04ee4f954",
   "metadata": {},
   "outputs": [
    {
     "name": "stdout",
     "output_type": "stream",
     "text": [
      "wrote sample-0.tokens\n"
     ]
    }
   ],
   "source": [
    "for sample in range(1):\n",
    "    gen_ctx = torch.tensor([[[1, 0.0, 0.0, 0.0]] * (CONTEXT_LEN - 1) + [[2, 0.0, 0.0, 0.0]]], device='cuda')\n",
    "    generated = model.generate(gen_ctx, max_new_tokens=1_000)\n",
    "    with open(f\"sample-{sample}.tokens\", 'wb') as f:\n",
    "        cbor2.dump(generated, f)\n",
    "        print(\"wrote\", f.name)"
   ]
  },
  {
   "cell_type": "code",
   "execution_count": 14,
   "id": "e955a731-5552-4b8c-a1be-5b7c3e33047a",
   "metadata": {},
   "outputs": [
    {
     "data": {
      "text/plain": [
       "tensor([[2.0000e+00, 0.0000e+00, 0.0000e+00, 0.0000e+00],\n",
       "        [3.7000e+01, 4.0000e+00, 0.0000e+00, 2.9134e-01],\n",
       "        [4.9000e+01, 4.0000e+00, 0.0000e+00, 2.2835e-01],\n",
       "        [5.6000e+01, 1.0417e-02, 0.0000e+00, 3.6220e-01],\n",
       "        [6.1000e+01, 0.0000e+00, 3.3333e-01, 2.3622e-01],\n",
       "        [6.4000e+01, 6.6667e-01, 3.3333e-01, 3.3858e-01],\n",
       "        [5.6000e+01, 0.0000e+00, 3.3333e-01, 2.9921e-01],\n",
       "        [6.1000e+01, 0.0000e+00, 3.3333e-01, 2.2835e-01],\n",
       "        [6.4000e+01, 6.6667e-01, 3.3333e-01, 2.5197e-01],\n",
       "        [5.6000e+01, 0.0000e+00, 3.3333e-01, 2.5197e-01],\n",
       "        [6.1000e+01, 0.0000e+00, 3.3333e-01, 1.9685e-01],\n",
       "        [6.4000e+01, 6.6667e-01, 3.3333e-01, 1.9685e-01],\n",
       "        [5.6000e+01, 0.0000e+00, 3.3333e-01, 2.5984e-01],\n",
       "        [6.1000e+01, 0.0000e+00, 3.3333e-01, 2.2835e-01],\n",
       "        [6.4000e+01, 3.5417e-01, 3.3333e-01, 2.2835e-01],\n",
       "        [3.5000e+01, 4.0000e+00, 3.3333e-01, 3.3071e-01],\n",
       "        [4.7000e+01, 4.0000e+00, 0.0000e+00, 2.9921e-01],\n",
       "        [5.6000e+01, 2.5000e-01, 0.0000e+00, 1.9685e-01],\n",
       "        [6.1000e+01, 0.0000e+00, 3.3333e-01, 2.1260e-01],\n",
       "        [6.4000e+01, 6.6667e-01, 3.3333e-01, 2.1260e-01]])"
      ]
     },
     "metadata": {},
     "output_type": "display_data"
    }
   ],
   "source": [
    "display(data[:20])"
   ]
  },
  {
   "cell_type": "code",
   "execution_count": null,
   "id": "6661ae5a-db53-495d-93ca-27f63bfb7249",
   "metadata": {
    "scrolled": true
   },
   "outputs": [],
   "source": [
    "@torch.no_grad()\n",
    "def split_loss(split):\n",
    "    model.eval()\n",
    "    data = {\n",
    "        \"train\": train_data,\n",
    "        \"eval\": eval_data,\n",
    "    }[split]\n",
    "    ix = torch.randint(len(data) - CONTEXT_LEN, (BATCH_SIZE,))\n",
    "    x = torch.stack([data[i:i+CONTEXT_LEN] for i in ix]).cuda()\n",
    "    y = torch.stack([data[i+1:i+CONTEXT_LEN+1] for i in ix]).cuda()\n",
    "    logits, loss = model(x, y)\n",
    "    print(split, loss.item())\n",
    "    model.train()\n",
    "\n",
    "split_loss(\"train\")\n",
    "split_loss(\"eval\")"
   ]
  },
  {
   "cell_type": "code",
   "execution_count": 84,
   "id": "80577faf-3600-40d2-8e5a-1a38293716dc",
   "metadata": {},
   "outputs": [],
   "source": [
    "torch.save(model, \"\")"
   ]
  },
  {
   "cell_type": "code",
   "execution_count": 17,
   "id": "9a9e3406-855e-43d4-822c-e4b03a0d7a28",
   "metadata": {},
   "outputs": [],
   "source": [
    "torch.cuda.empty_cache()"
   ]
  },
  {
   "cell_type": "code",
   "execution_count": null,
   "id": "a7f0f043-50af-4818-bc4d-c6071aa6c915",
   "metadata": {},
   "outputs": [],
   "source": []
  }
 ],
 "metadata": {
  "kernelspec": {
   "display_name": "Python 3 (ipykernel)",
   "language": "python",
   "name": "python3"
  },
  "language_info": {
   "codemirror_mode": {
    "name": "ipython",
    "version": 3
   },
   "file_extension": ".py",
   "mimetype": "text/x-python",
   "name": "python",
   "nbconvert_exporter": "python",
   "pygments_lexer": "ipython3",
   "version": "3.11.5"
  }
 },
 "nbformat": 4,
 "nbformat_minor": 5
}
