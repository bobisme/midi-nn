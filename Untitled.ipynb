{
 "cells": [
  {
   "cell_type": "code",
   "execution_count": 1,
   "id": "ce61c533-2231-4f2c-8f4a-d5fd077f9905",
   "metadata": {},
   "outputs": [
    {
     "data": {
      "text/plain": [
       "<torch._C.Generator at 0x7fb3af7818b0>"
      ]
     },
     "execution_count": 1,
     "metadata": {},
     "output_type": "execute_result"
    }
   ],
   "source": [
    "import random\n",
    "import torch\n",
    "import torch.nn as nn\n",
    "import torch.nn.functional as F\n",
    "import matplotlib.pyplot as plt\n",
    "\n",
    "assert torch.cuda.is_available()\n",
    "random.seed(42)\n",
    "torch.manual_seed(42)"
   ]
  },
  {
   "cell_type": "code",
   "execution_count": 2,
   "id": "5ee65534-6984-41ce-8299-bdf67ac2cd22",
   "metadata": {},
   "outputs": [],
   "source": [
    "# CONSTANTS\n",
    "CONTEXT_LEN = 8\n",
    "BATCH_SIZE = 32\n",
    "EMBED_LEN = 64\n",
    "ADDED_PARAM_LEN = 1 # duration"
   ]
  },
  {
   "cell_type": "code",
   "execution_count": 3,
   "id": "3aff63cf-a906-4e18-b939-4302c6a44242",
   "metadata": {},
   "outputs": [],
   "source": [
    "import cbor2\n",
    "with open('embed-table-900-64.cbor', 'rb') as f:\n",
    "    table = cbor2.load(f)\n",
    "with open('moonlight.tokens', 'rb') as f:\n",
    "    moonlight = cbor2.load(f)"
   ]
  },
  {
   "cell_type": "code",
   "execution_count": 4,
   "id": "b2d10b79-a6f0-43e9-9675-2b85c7cd9afa",
   "metadata": {},
   "outputs": [
    {
     "name": "stdout",
     "output_type": "stream",
     "text": [
      "[[2, 0.0], [264, 4.0], [348, 4.0], [397, 0.0], [432, 0.0]]\n",
      "4164\n"
     ]
    }
   ],
   "source": [
    "VOCAB_SIZE =len(table)\n",
    "print(moonlight[0:5])\n",
    "print(len(moonlight))"
   ]
  },
  {
   "cell_type": "code",
   "execution_count": 5,
   "id": "2ad2370e-5199-4764-b0f5-fea3f7ebc65f",
   "metadata": {},
   "outputs": [],
   "source": [
    "def build_dataset(track):\n",
    "    X, Y = [], []\n",
    "    for event in track:\n",
    "        # print(w)\n",
    "        context: list[int] = [1, 0.0] * CONTEXT_LEN\n",
    "        # context = [1] * CONTEXT_LENGTH\n",
    "        for token, beats in track:\n",
    "            # ix = stoi[ch]\n",
    "            X.append(context)\n",
    "            Y.append(token)\n",
    "            Y.append(beats)\n",
    "            # print(\"\".join(itos[i] for i in context), \"-->\", itos[ix])\n",
    "            context = context[2:] + [token, beats]\n",
    "            # context = context[1:] + [token]\n",
    "            # context = context[1:] + [token, beats]\n",
    "            # print(context)\n",
    "    return torch.tensor(X).view(-1, CONTEXT_LEN, 2).cuda(), torch.tensor(Y).view(-1, 2).cuda()"
   ]
  },
  {
   "cell_type": "code",
   "execution_count": 6,
   "id": "049fe1ac-2fda-4709-8948-88139476e1c8",
   "metadata": {},
   "outputs": [],
   "source": [
    "track = moonlight\n",
    "# training split, dev/validation split (for hyperparameters), test\n",
    "# 80%, 10%, 10%\n",
    "Xtrain, Ytrain = build_dataset(track[: int(0.8 * len(track))])\n",
    "Xdev, Ydev = build_dataset(track[int(0.8 * len(track)) : int(0.9 * len(track))])\n",
    "Xtest, Ytest = build_dataset(track[int(0.9 * len(track)) :])"
   ]
  },
  {
   "cell_type": "code",
   "execution_count": 7,
   "id": "fb7f9cae-8dda-42b4-9bec-451f26b381ec",
   "metadata": {},
   "outputs": [
    {
     "data": {
      "text/plain": [
       "torch.Size([11095561, 8, 2])"
      ]
     },
     "execution_count": 7,
     "metadata": {},
     "output_type": "execute_result"
    }
   ],
   "source": [
    "Xtrain.shape"
   ]
  },
  {
   "cell_type": "code",
   "execution_count": 8,
   "id": "d4f152ee-d522-4fc9-98c3-bfc3e56eadff",
   "metadata": {},
   "outputs": [],
   "source": [
    "class Embedding:\n",
    "    def __init__(self, num_embeddings, embeddings_dim) -> None:\n",
    "        self.weight = torch.randn((num_embeddings, embeddings_dim), device=\"cuda\")\n",
    "\n",
    "    def __call__(self, IX):\n",
    "        # print(IX.shape)\n",
    "        ix = IX[:,:,0].int()\n",
    "        beats = IX[:,:,1].view(-1, CONTEXT_LEN, 1)\n",
    "        # print(f\"{ix=}\")\n",
    "        emb = self.weight[ix]\n",
    "        self.out = torch.cat((emb, beats), dim=2)\n",
    "        # print(f\"{self.out=}\")\n",
    "        # self.out = self.weight[IX]\n",
    "        return self.out\n",
    "\n",
    "    def parameters(self):\n",
    "        return [self.weight]\n",
    "\n",
    "class Linear:\n",
    "    def __init__( self, fan_in: int, fan_out: int, bias=True, device=\"cuda\"):\n",
    "        self.device = device\n",
    "        # Random initialization with kaiming-like normalization.\n",
    "        self.weight = (\n",
    "            torch.randn((fan_in, fan_out), device=device)\n",
    "            / fan_in**0.5\n",
    "        )\n",
    "        self.bias = torch.zeros(fan_out, device=device) if bias else None\n",
    "\n",
    "    def __call__(self, x):\n",
    "        self.out = x @ self.weight\n",
    "        if self.bias is not None:\n",
    "            self.out += self.bias\n",
    "        return self.out\n",
    "\n",
    "    def parameters(self):\n",
    "        return [self.weight] + ([] if self.bias is None else [self.bias])\n",
    "\n",
    "class BatchNorm1d:\n",
    "    \"\"\"\\\n",
    "    Batch Noemalization: Accelerating Deep Network Training by Reducing Internal\n",
    "    Covariant Shift\n",
    "    https://arxiv.org/abs/1502.03167\n",
    "\n",
    "    Same as torch.nn.BatchNorm1d with:\n",
    "        affine=True # will use beta and gamma\n",
    "        track_running_stats=True\n",
    "        device=whatever\n",
    "        dtype=float\n",
    "    \"\"\"\n",
    "\n",
    "    def __init__(self, dim, epsilon=1e-5, momentum=0.1, device=\"cuda\"):\n",
    "        self.device = device\n",
    "        self.eps = epsilon\n",
    "        self.momentum = momentum\n",
    "        self.training = True\n",
    "        self.gamma = torch.ones(dim, device=device)\n",
    "        self.beta = torch.zeros(dim, device=device)\n",
    "        # buffers, trained with running \"momentum update\" for smoothing\n",
    "        self.running_mean = torch.zeros(dim, device=device)\n",
    "        # tracking variance instead of stddev\n",
    "        self.running_var = torch.ones(dim, device=device)\n",
    "\n",
    "    def __call__(self, x):\n",
    "        if self.training:\n",
    "            if x.ndim == 2:\n",
    "                dim = 0\n",
    "            elif x.ndim == 3:\n",
    "                dim = (0, 1)\n",
    "            xmean = x.mean(0, keepdim=True)\n",
    "            xvar = x.var(0, keepdim=True)\n",
    "        else:\n",
    "            xmean = self.running_mean  # µB from paper\n",
    "            xvar = self.running_var  # σ^2B from paper\n",
    "        xhat = (x - xmean) / torch.sqrt(xvar + self.eps)\n",
    "        # used for statistic collection, not part of torch\n",
    "        self.out = self.gamma * xhat + self.beta\n",
    "        # update buffers\n",
    "        if self.training:\n",
    "            with torch.no_grad():\n",
    "                self.running_mean = (\n",
    "                    1 - self.momentum\n",
    "                ) * self.running_mean + self.momentum * xmean\n",
    "                self.running_var = (\n",
    "                    1 - self.momentum\n",
    "                ) * self.running_var + self.momentum * xvar\n",
    "        return self.out\n",
    "\n",
    "    def parameters(self):\n",
    "        return [self.gamma, self.beta]\n",
    "\n",
    "class Tanh:\n",
    "    \"\"\"Same as torch.nn.Tanh\"\"\"\n",
    "\n",
    "    def __call__(self, x):\n",
    "        self.out = torch.tanh(x)\n",
    "        return self.out\n",
    "\n",
    "    def parameters(self):\n",
    "        return []\n",
    "\n",
    "class Flatten:\n",
    "    def __call__(self, x):\n",
    "        self.out = x.view(x.shape[0], -1)\n",
    "        return self.out\n",
    "\n",
    "    def parameters(self):\n",
    "        return []\n",
    "\n",
    "class Sequential:\n",
    "    def __init__(self, *layers) -> None:\n",
    "        self.layers = layers\n",
    "\n",
    "    def __call__(self, x):\n",
    "        for layer in self.layers:\n",
    "            x = layer(x)\n",
    "        self.out = x\n",
    "        return self.out\n",
    "\n",
    "    def parameters(self):\n",
    "        return [p for layer in self.layers for p in layer.parameters()]"
   ]
  },
  {
   "cell_type": "code",
   "execution_count": 9,
   "id": "cf8b20bf-325b-4156-a2c1-9790ffa0e91e",
   "metadata": {},
   "outputs": [
    {
     "name": "stdout",
     "output_type": "stream",
     "text": [
      "240645\n",
      "Embedding: (32, 8, 65)\n",
      "Flatten: (32, 520)\n",
      "Linear: (32, 128)\n",
      "BatchNorm1d: (32, 128)\n",
      "Tanh: (32, 128)\n",
      "Linear: (32, 901)\n",
      "      0/  40000: 7.8828\n",
      "   1000/  40000: 1.1189\n",
      "   2000/  40000: 0.4172\n",
      "   3000/  40000: 0.1155\n",
      "   4000/  40000: 0.1399\n",
      "   5000/  40000: 0.0624\n",
      "   6000/  40000: 0.0870\n",
      "   7000/  40000: 0.0589\n",
      "   8000/  40000: 0.0592\n",
      "   9000/  40000: 0.0823\n",
      "  10000/  40000: 0.0954\n",
      "  11000/  40000: 0.0235\n",
      "  12000/  40000: 0.0411\n",
      "  13000/  40000: 0.0621\n",
      "  14000/  40000: 0.0388\n",
      "  15000/  40000: 0.0283\n",
      "  16000/  40000: 0.0662\n",
      "  17000/  40000: 0.0320\n",
      "  18000/  40000: 0.0619\n",
      "  19000/  40000: 0.0365\n",
      "  20000/  40000: 0.0284\n",
      "  21000/  40000: 0.0268\n",
      "  22000/  40000: 0.0419\n",
      "  23000/  40000: 0.0397\n",
      "  24000/  40000: 0.0244\n",
      "  25000/  40000: 0.0246\n",
      "  26000/  40000: 0.0196\n",
      "  27000/  40000: 0.0382\n",
      "  28000/  40000: 0.0177\n",
      "  29000/  40000: 0.0611\n",
      "  30000/  40000: 0.0457\n",
      "  31000/  40000: 0.0274\n",
      "  32000/  40000: 0.0420\n",
      "  33000/  40000: 0.1265\n",
      "  34000/  40000: 0.0320\n",
      "  35000/  40000: 0.0278\n",
      "  36000/  40000: 0.0280\n",
      "  37000/  40000: 0.0238\n",
      "  38000/  40000: 0.0557\n",
      "  39000/  40000: 0.0536\n"
     ]
    }
   ],
   "source": [
    "n_embed = EMBED_LEN\n",
    "n_hidden = 128\n",
    "model = Sequential(\n",
    "    Embedding(VOCAB_SIZE, EMBED_LEN),\n",
    "    Flatten(),\n",
    "    Linear((n_embed + ADDED_PARAM_LEN) * CONTEXT_LEN, n_hidden, bias=False),\n",
    "    BatchNorm1d(n_hidden),\n",
    "    Tanh(),\n",
    "    # Linear(n_hidden * 2, n_hidden, bias=False),\n",
    "    # BatchNorm1d(n_hidden),\n",
    "    # Tanh(),\n",
    "    # Linear(n_hidden * 2, n_hidden, bias=False),\n",
    "    # BatchNorm1d(n_hidden),\n",
    "    # Tanh(),\n",
    "    Linear(n_hidden, VOCAB_SIZE + ADDED_PARAM_LEN),\n",
    ")\n",
    "\n",
    "with torch.no_grad():\n",
    "    model.layers[-1].weight *= 0.1\n",
    "\n",
    "parameters = model.parameters()\n",
    "print(sum(p.nelement() for p in parameters))\n",
    "for p in parameters:\n",
    "    p.requires_grad = True\n",
    "max_steps = 40_000\n",
    "batch_size = BATCH_SIZE\n",
    "lossi = []\n",
    "\n",
    "for i in range(max_steps):\n",
    "    ix = torch.randint(0, Xtrain.shape[0], (batch_size,))\n",
    "    Xb, Yb = Xtrain[ix], Ytrain[ix]\n",
    "\n",
    "    # forward\n",
    "    logits = model(Xb)\n",
    "    #display(logits)\n",
    "    #print(f\"{logits.shape=}\")\n",
    "    #print(f\"{Yb.shape=}\")\n",
    "    \n",
    "    label_loss = F.cross_entropy(logits, Yb[:, 0].long())\n",
    "    #duration_loss = (logits[:, -1] - Yb[:, 1]) ** 2\n",
    "    duration_loss = ((logits[:, -1] - Yb[:, -1]) ** 2).mean()\n",
    "    loss = label_loss + duration_loss\n",
    "    # print(f\"{loss=} {loss.shape=} {duration_loss.shape=}\")\n",
    "\n",
    "    # back\n",
    "    for p in parameters:\n",
    "        p.grad = None\n",
    "    loss.backward()\n",
    "\n",
    "    lr = 0.1 if i < 10_000 else 0.01 if i < 20_000 else 0.001\n",
    "    for p in parameters:\n",
    "        p.data += -lr * p.grad\n",
    "\n",
    "    if i == 0:\n",
    "        for layer in model.layers:\n",
    "            print(f\"{layer.__class__.__name__}: {tuple(layer.out.shape)}\")\n",
    "\n",
    "    # track\n",
    "    if i % 1_000 == 0:\n",
    "        print(f\"{i:7d}/{max_steps:7d}: {loss.item():.4f}\")\n",
    "    lossi.append(loss.log10().item())"
   ]
  },
  {
   "cell_type": "code",
   "execution_count": 10,
   "id": "36f1bbef-28fb-4770-871d-e89eb09e9ef8",
   "metadata": {},
   "outputs": [
    {
     "data": {
      "text/plain": [
       "[<matplotlib.lines.Line2D at 0x7fb3c824abd0>]"
      ]
     },
     "execution_count": 10,
     "metadata": {},
     "output_type": "execute_result"
    },
    {
     "data": {
      "image/png": "[encoded data removed]",
      "text/plain": [
       "<Figure size 1600x600 with 1 Axes>"
      ]
     },
     "metadata": {},
     "output_type": "display_data"
    }
   ],
   "source": [
    "plt.figure(figsize=(16, 6))\n",
    "# plt.plot(lossi)\n",
    "# instead, average across 1_000 points\n",
    "plt.plot(torch.tensor(lossi).view(-1, 1000).mean(1))\n",
    "# plt.savefig(\"plot.svg\", format=\"svg\")"
   ]
  },
  {
   "cell_type": "code",
   "execution_count": 11,
   "id": "6661ae5a-db53-495d-93ca-27f63bfb7249",
   "metadata": {},
   "outputs": [
    {
     "ename": "OutOfMemoryError",
     "evalue": "CUDA out of memory. Tried to allocate 21.16 GiB. GPU 0 has a total capacty of 23.66 GiB of which 20.40 GiB is free. Including non-PyTorch memory, this process has 2.09 GiB memory in use. Of the allocated memory 1.78 GiB is allocated by PyTorch, and 8.52 MiB is reserved by PyTorch but unallocated. If reserved but unallocated memory is large try setting max_split_size_mb to avoid fragmentation.  See documentation for Memory Management and PYTORCH_CUDA_ALLOC_CONF",
     "output_type": "error",
     "traceback": [
      "\u001b[1;31m---------------------------------------------------------------------------\u001b[0m",
      "\u001b[1;31mOutOfMemoryError\u001b[0m                          Traceback (most recent call last)",
      "Cell \u001b[1;32mIn[11], line 15\u001b[0m\n\u001b[0;32m     12\u001b[0m     loss \u001b[38;5;241m=\u001b[39m F\u001b[38;5;241m.\u001b[39mcross_entropy(logits, y)\n\u001b[0;32m     13\u001b[0m     \u001b[38;5;28mprint\u001b[39m(split, loss\u001b[38;5;241m.\u001b[39mitem())\n\u001b[1;32m---> 15\u001b[0m \u001b[40msplit_loss\u001b[49m\u001b[40m(\u001b[49m\u001b[38;5;124;40m\"\u001b[39;49m\u001b[38;5;124;40mtrain\u001b[39;49m\u001b[38;5;124;40m\"\u001b[39;49m\u001b[40m)\u001b[49m\n\u001b[0;32m     16\u001b[0m split_loss(\u001b[38;5;124m\"\u001b[39m\u001b[38;5;124meval\u001b[39m\u001b[38;5;124m\"\u001b[39m)\n",
      "File \u001b[1;32m~/src/midi-tokenizer/.venv/lib/python3.11/site-packages/torch/utils/_contextlib.py:115\u001b[0m, in \u001b[0;36mcontext_decorator.<locals>.decorate_context\u001b[1;34m(*args, **kwargs)\u001b[0m\n\u001b[0;32m    112\u001b[0m \u001b[38;5;129m@functools\u001b[39m\u001b[38;5;241m.\u001b[39mwraps(func)\n\u001b[0;32m    113\u001b[0m \u001b[38;5;28;01mdef\u001b[39;00m \u001b[38;5;21mdecorate_context\u001b[39m(\u001b[38;5;241m*\u001b[39margs, \u001b[38;5;241m*\u001b[39m\u001b[38;5;241m*\u001b[39mkwargs):\n\u001b[0;32m    114\u001b[0m     \u001b[38;5;28;01mwith\u001b[39;00m ctx_factory():\n\u001b[1;32m--> 115\u001b[0m         \u001b[38;5;28;01mreturn\u001b[39;00m \u001b[40mfunc\u001b[49m\u001b[40m(\u001b[49m\u001b[38;5;241;40m*\u001b[39;49m\u001b[40margs\u001b[49m\u001b[40m,\u001b[49m\u001b[40m \u001b[49m\u001b[38;5;241;40m*\u001b[39;49m\u001b[38;5;241;40m*\u001b[39;49m\u001b[40mkwargs\u001b[49m\u001b[40m)\u001b[49m\n",
      "Cell \u001b[1;32mIn[11], line 11\u001b[0m, in \u001b[0;36msplit_loss\u001b[1;34m(split)\u001b[0m\n\u001b[0;32m      4\u001b[0m \u001b[38;5;129m@torch\u001b[39m\u001b[38;5;241m.\u001b[39mno_grad()\n\u001b[0;32m      5\u001b[0m \u001b[38;5;28;01mdef\u001b[39;00m \u001b[38;5;21msplit_loss\u001b[39m(split):\n\u001b[0;32m      6\u001b[0m     x, y \u001b[38;5;241m=\u001b[39m {\n\u001b[0;32m      7\u001b[0m         \u001b[38;5;124m\"\u001b[39m\u001b[38;5;124mtrain\u001b[39m\u001b[38;5;124m\"\u001b[39m: (Xtrain, Ytrain),\n\u001b[0;32m      8\u001b[0m         \u001b[38;5;124m\"\u001b[39m\u001b[38;5;124meval\u001b[39m\u001b[38;5;124m\"\u001b[39m: (Xdev, Ydev),\n\u001b[0;32m      9\u001b[0m         \u001b[38;5;124m\"\u001b[39m\u001b[38;5;124mtest\u001b[39m\u001b[38;5;124m\"\u001b[39m: (Xtest, Ytest),\n\u001b[0;32m     10\u001b[0m     }[split]\n\u001b[1;32m---> 11\u001b[0m     logits \u001b[38;5;241m=\u001b[39m \u001b[40mmodel\u001b[49m\u001b[40m(\u001b[49m\u001b[40mx\u001b[49m\u001b[40m)\u001b[49m\n\u001b[0;32m     12\u001b[0m     loss \u001b[38;5;241m=\u001b[39m F\u001b[38;5;241m.\u001b[39mcross_entropy(logits, y)\n\u001b[0;32m     13\u001b[0m     \u001b[38;5;28mprint\u001b[39m(split, loss\u001b[38;5;241m.\u001b[39mitem())\n",
      "Cell \u001b[1;32mIn[8], line 115\u001b[0m, in \u001b[0;36mSequential.__call__\u001b[1;34m(self, x)\u001b[0m\n\u001b[0;32m    113\u001b[0m \u001b[38;5;28;01mdef\u001b[39;00m \u001b[38;5;21m__call__\u001b[39m(\u001b[38;5;28mself\u001b[39m, x):\n\u001b[0;32m    114\u001b[0m     \u001b[38;5;28;01mfor\u001b[39;00m layer \u001b[38;5;129;01min\u001b[39;00m \u001b[38;5;28mself\u001b[39m\u001b[38;5;241m.\u001b[39mlayers:\n\u001b[1;32m--> 115\u001b[0m         x \u001b[38;5;241m=\u001b[39m \u001b[40mlayer\u001b[49m\u001b[40m(\u001b[49m\u001b[40mx\u001b[49m\u001b[40m)\u001b[49m\n\u001b[0;32m    116\u001b[0m     \u001b[38;5;28mself\u001b[39m\u001b[38;5;241m.\u001b[39mout \u001b[38;5;241m=\u001b[39m x\n\u001b[0;32m    117\u001b[0m     \u001b[38;5;28;01mreturn\u001b[39;00m \u001b[38;5;28mself\u001b[39m\u001b[38;5;241m.\u001b[39mout\n",
      "Cell \u001b[1;32mIn[8], line 10\u001b[0m, in \u001b[0;36mEmbedding.__call__\u001b[1;34m(self, IX)\u001b[0m\n\u001b[0;32m      8\u001b[0m beats \u001b[38;5;241m=\u001b[39m IX[:,:,\u001b[38;5;241m1\u001b[39m]\u001b[38;5;241m.\u001b[39mview(\u001b[38;5;241m-\u001b[39m\u001b[38;5;241m1\u001b[39m, CONTEXT_LEN, \u001b[38;5;241m1\u001b[39m)\n\u001b[0;32m      9\u001b[0m \u001b[38;5;66;03m# print(f\"{ix=}\")\u001b[39;00m\n\u001b[1;32m---> 10\u001b[0m emb \u001b[38;5;241m=\u001b[39m \u001b[38;5;28;40mself\u001b[39;49m\u001b[38;5;241;40m.\u001b[39;49m\u001b[40mweight\u001b[49m\u001b[40m[\u001b[49m\u001b[40mix\u001b[49m\u001b[40m]\u001b[49m\n\u001b[0;32m     11\u001b[0m \u001b[38;5;28mself\u001b[39m\u001b[38;5;241m.\u001b[39mout \u001b[38;5;241m=\u001b[39m torch\u001b[38;5;241m.\u001b[39mcat((emb, beats), dim\u001b[38;5;241m=\u001b[39m\u001b[38;5;241m2\u001b[39m)\n\u001b[0;32m     12\u001b[0m \u001b[38;5;66;03m# print(f\"{self.out=}\")\u001b[39;00m\n\u001b[0;32m     13\u001b[0m \u001b[38;5;66;03m# self.out = self.weight[IX]\u001b[39;00m\n",
      "\u001b[1;31mOutOfMemoryError\u001b[0m: CUDA out of memory. Tried to allocate 21.16 GiB. GPU 0 has a total capacty of 23.66 GiB of which 20.40 GiB is free. Including non-PyTorch memory, this process has 2.09 GiB memory in use. Of the allocated memory 1.78 GiB is allocated by PyTorch, and 8.52 MiB is reserved by PyTorch but unallocated. If reserved but unallocated memory is large try setting max_split_size_mb to avoid fragmentation.  See documentation for Memory Management and PYTORCH_CUDA_ALLOC_CONF"
     ]
    }
   ],
   "source": [
    "for layer in model.layers:\n",
    "    layer.training = False\n",
    "\n",
    "@torch.no_grad()\n",
    "def split_loss(split):\n",
    "    x, y = {\n",
    "        \"train\": (Xtrain, Ytrain),\n",
    "        \"eval\": (Xdev, Ydev),\n",
    "        \"test\": (Xtest, Ytest),\n",
    "    }[split]\n",
    "    logits = model(x)\n",
    "    loss = F.cross_entropy(logits, y)\n",
    "    print(split, loss.item())\n",
    "\n",
    "split_loss(\"train\")\n",
    "split_loss(\"eval\")"
   ]
  },
  {
   "cell_type": "code",
   "execution_count": 25,
   "id": "72a12527-12ac-4210-b528-fbd7774a00fc",
   "metadata": {},
   "outputs": [
    {
     "name": "stdout",
     "output_type": "stream",
     "text": [
      "[[344, -0.012677907943725586], [264, 1.914576768875122], [348, 2.3187859058380127], [566, 1.5990321636199951], [376, 0.7197113037109375], [503, 0.07557868957519531], [559, 0.444394588470459], [467, 0.6738336086273193], [552, 0.6869025826454163], [488, 0.9039056897163391], [573, 1.612706184387207], [24, 0.6330113410949707], [517, -0.24396812915802002], [518, -0.6273200511932373], [433, -0.3083183765411377], [552, -0.0012323856353759766], [377, 1.4639626741409302], [398, 0.31737077236175537], [349, 0.7152422070503235], [350, 0.5238001346588135], [111, 1.218285083770752], [150, 0.576520562171936], [418, 0.4299492835998535], [503, 0.2722684144973755], [397, -0.577806830406189], [432, 0.1810983419418335], [516, 0.47440028190612793], [120, 0.29688167572021484], [615, -0.12308406829833984], [510, 0.01963043212890625], [594, 1.002538800239563], [362, 1.3004026412963867], [397, 0.38852858543395996], [425, 0.46344631910324097], [552, 0.6951111555099487], [532, 0.5821333527565002], [432, -0.1272345781326294], [453, 1.2893993854522705], [382, 0.8266359567642212], [411, 0.5945154428482056], [432, 0.3160109519958496], [552, 1.068095088005066], [126, 0.6814404726028442], [597, 0.46038150787353516], [502, 0.26729846000671387], [516, 2.67242693901062], [680, 0.6211220026016235], [289, 0.13227617740631104], [538, -0.4758847951889038], [460, 0.14230728149414062], [481, 1.427042007446289], [439, 1.0798346996307373], [397, 0.3592848777770996], [467, 0.12387025356292725], [360, 0.2853245139122009], [516, -0.4894380569458008], [397, -0.06941032409667969], [482, 0.8437070250511169], [467, 0.5317167043685913], [432, 0.4827525019645691], [481, 1.0734037160873413], [397, 1.4282772541046143], [397, 0.5081374645233154], [482, 0.5618116855621338], [432, 0.4877965450286865], [453, 0.3659477233886719], [397, 0.3218120336532593], [431, 0.8014208078384399], [453, 0.5857783555984497], [397, 1.054309606552124], [432, 0.5875515937805176], [453, 0.4944925308227539], [236, 2.0236074924468994], [320, 2.033811092376709], [404, -0.04368281364440918], [431, -0.0032973289489746094], [453, 0.7416344285011292], [404, -0.07839453220367432], [432, -0.055474042892456055], [453, 0.6871036291122437], [215, 1.681810736656189], [299, 2.036410093307495], [404, 0.2899523973464966], [439, 0.268454372882843], [467, 0.6967270970344543], [404, -0.011708617210388184], [439, -0.045583367347717285], [467, 0.6404041051864624], [229, 1.7479662895202637], [313, 2.0447723865509033], [397, -0.012031793594360352], [425, -0.010340452194213867], [467, 0.6579673290252686], [397, -0.10660910606384277], [432, -0.029477715492248535], [453, 0.6768988370895386], [229, 0.7241870760917664], [313, 0.9557337164878845], [397, -0.0054509639739990234], [432, -0.045522451400756836], [446, 0.7330254316329956], [383, -0.01631033420562744], [425, -0.05853462219238281], [445, 0.7155711650848389], [263, 4.206343650817871], [313, 4.228268623352051], [347, 4.277626991271973], [369, 0.008294105529785156], [397, 0.0063402652740478516], [432, 0.690315842628479], [397, 0.05118834972381592], [431, 0.011144638061523438], [452, 0.7354943156242371], [397, 0.038443565368652344], [432, -0.04143357276916504], [453, 0.39703595638275146], [397, 0.11410129070281982], [482, 0.7026883363723755], [432, 0.026241421699523926], [453, 0.3150491714477539], [481, 0.2727128267288208], [257, 3.8217761516571045], [313, 4.192071437835693], [341, 4.124956130981445], [397, -0.045791029930114746], [482, 3.1071221828460693], [446, 0.016744375228881836], [467, 0.7316262722015381], [397, -0.03647255897521973], [446, -0.010346531867980957], [467, 0.7198588252067566], [397, 0.02021622657775879], [446, 0.0033235549926757812], [467, 0.3365321755409241], [397, 0.30410975217819214], [481, 0.7185843586921692], [453, -0.030643463134765625], [397, 0.7490981817245483], [482, 1.0744750499725342], [432, 0.2113434076309204], [453, 0.9602194428443909], [397, 0.27886825799942017], [257, 1.2055504322052002], [453, 1.8338994979858398], [250, 2.427433967590332], [333, 1.747778058052063], [404, 0.31145626306533813], [468, 0.8230252265930176], [418, 0.09020841121673584], [446, 0.16716063022613525], [404, 0.31605643033981323], [503, 1.3429505825042725], [418, -0.04277658462524414], [446, 0.339591383934021], [285, 4.197521686553955], [369, 4.230310440063477], [396, 0.01122581958770752], [453, 0.6864953637123108], [419, -0.08044815063476562], [453, 0.7058084011077881], [419, 0.04348468780517578], [453, -0.010323286056518555], [481, 0.692120373249054], [419, -0.06507670879364014], [453, -0.07552599906921387], [481, 0.2996063232421875], [419, -0.046149253845214844], [503, 0.7138455510139465], [453, 0.0039560794830322266], [481, 0.31796425580978394], [502, 0.18324124813079834], [278, 3.9171643257141113], [362, 4.207683563232422], [418, -0.022232770919799805], [503, 3.140629291534424], [467, -0.04776906967163086], [487, 0.6652381420135498], [418, -0.08825385570526123], [466, -0.05293464660644531], [488, 0.6637765169143677], [418, -0.0906980037689209], [466, -0.07678937911987305], [488, 0.32619380950927734], [418, -0.00039064884185791016], [503, 0.7358770370483398], [467, -0.027878999710083008], [488, 0.28099942207336426], [502, 0.22786349058151245], [285, 2.049750566482544], [369, 2.0999836921691895], [418, -0.01694178581237793], [503, 2.120223045349121], [453, -0.03317606449127197], [481, 0.675290584564209], [418, -0.07114481925964355], [453, -0.038048624992370605], [481, 0.3231242895126343], [279, 1.0095239877700806], [363, 0.9847093820571899], [426, 0.027031898498535156], [510, 1.0035489797592163], [467, -0.014815211296081543], [482, 0.37567025423049927], [265, 1.022328495979309], [349, 1.0020731687545776], [432, -0.05235719680786133], [518, 1.0446910858154297], [454, 0.007423281669616699], [482, 0.3808751106262207], [258, 1.777351975440979], [313, 2.08406925201416], [342, 2.0667202472686768], [447, 0.03956669569015503], [532, 2.052215576171875], [467, 0.030647993087768555], [481, 0.7099184989929199], [446, -0.07349324226379395], [467, -0.05688643455505371], [481, 0.29903125762939453], [264, 0.6271171569824219], [313, 0.9368606805801392], [348, 1.0319726467132568], [454, 0.01058197021484375], [539, 2.4098904132843018], [481, -0.03369402885437012], [516, 0.6741596460342407], [453, -0.0028247833251953125], [481, -0.013120412826538086], [516, 0.36022210121154785], [215, 1.765066385269165], [298, 2.0693063735961914], [439, -0.03433573246002197], [524, 2.441574811935425], [466, -0.0012636184692382812], [487, 0.6588854789733887], [439, -0.017640352249145508], [467, -0.028084397315979004], [487, 0.3463122844696045], [229, 1.7015798091888428], [313, 2.093161106109619], [425, 0.052326083183288574], [509, 2.0714244842529297], [466, -0.0773007869720459], [481, 0.6807330846786499], [425, 0.012529611587524414], [467, 0.003025054931640625], [481, 0.2835366725921631], [264, 4.8895697593688965], [347, 5.281696319580078], [432, 0.03951293230056763], [517, 3.137261152267456], [453, -0.04355359077453613], [481, 0.656456470489502], [432, -0.025252819061279297], [453, -0.09655404090881348], [481, 0.7410116195678711], [432, 0.008107781410217285], [459, 0.012721896171569824], [481, 0.40520477294921875], [432, -0.01981830596923828], [517, 1.054260015487671], [460, 0.05611467361450195], [481, 0.23988181352615356], [432, 0.012202978134155273], [524, 3.4915733337402344], [467, 0.005395412445068359], [488, 0.6280120015144348], [299, 0.6568076014518738], [383, 0.9752345681190491], [432, -0.05301618576049805], [467, -0.029302358627319336], [487, 0.7163177728652954], [322, 1.0359464883804321], [405, 0.9926837086677551], [433, 0.05554080009460449], [467, 0.0007292032241821289], [488, 0.29028403759002686], [299, 0.9955659508705139], [383, 1.0042001008987427], [432, -0.05160391330718994], [510, 0.9589645862579346], [467, -0.024265050888061523], [488, 0.332114577293396], [264, 3.5977752208709717], [348, 3.9560434818267822], [432, -0.2737138271331787], [516, 2.9609527587890625], [460, 0.028774142265319824], [481, 0.7922283411026001], [432, 0.06617236137390137], [460, 0.046480417251586914], [481, 0.7490613460540771], [432, 0.04347562789916992], [460, -0.015757441520690918], [481, 0.2906063199043274], [432, -0.07471513748168945], [517, 1.0102388858795166], [460, -0.020800113677978516], [481, 0.20722341537475586], [432, 0.017372846603393555], [525, 3.3980791568756104], [467, 0.01805746555328369], [488, 0.6454600691795349], [299, 0.6855665445327759], [383, 1.0468779802322388], [432, 0.00670778751373291], [466, -0.014760017395019531], [488, 0.7429572343826294], [321, 1.1080257892608643], [405, 1.0339303016662598], [433, -0.016290903091430664], [467, -0.03606534004211426], [488, 0.3510357737541199], [299, 1.0060151815414429], [383, 0.9634993076324463], [432, -0.09078073501586914], [510, 0.9854456186294556], [467, -0.014172792434692383], [488, 0.33802086114883423], [264, 3.5984604358673096], [348, 3.9506237506866455], [432, -0.2753099203109741], [516, 2.9637205600738525], [460, 0.02816927433013916], [481, 0.7914387583732605], [432, 0.0652666687965393], [460, 0.04637187719345093], [481, 0.7494888305664062], [432, 0.044072508811950684], [460, -0.01569533348083496], [481, 0.29059600830078125], [432, -0.07461345195770264], [517, 1.0103360414505005], [460, -0.02080833911895752], [481, 0.20720815658569336], [432, 0.017321109771728516], [525, 3.398037910461426], [467, 0.01803278923034668], [488, 0.6454563736915588], [299, 0.6855658888816833], [383, 1.0468804836273193], [432, 0.006709456443786621], [466, -0.014756560325622559], [488, 0.7429594397544861], [321, 1.1080302000045776], [405, 1.0339313745498657], [433, -0.016290903091430664], [467, -0.03606581687927246], [488, 0.35103559494018555], [299, 1.0060151815414429], [383, 0.9634994268417358], [432, -0.09078073501586914], [510, 0.985445499420166], [467, -0.014172792434692383], [488, 0.33802080154418945], [264, 3.5984601974487305], [348, 3.9506237506866455], [432, -0.2753099203109741], [516, 2.9637205600738525], [460, 0.02816927433013916], [481, 0.7914387583732605], [432, 0.0652666687965393], [460, 0.0463719367980957], [481, 0.7494888305664062], [432, 0.044072508811950684], [460, -0.01569533348083496], [481, 0.290596067905426], [432, -0.07461345195770264], [517, 1.0103360414505005], [460, -0.02080833911895752], [481, 0.20720815658569336], [432, 0.017321109771728516], [525, 3.398037910461426], [467, 0.01803278923034668], [488, 0.6454563736915588], [299, 0.6855658888816833], [383, 1.0468804836273193], [432, 0.006709456443786621], [466, -0.014756560325622559], [488, 0.7429594397544861], [321, 1.1080302000045776], [405, 1.0339313745498657], [433, -0.016290903091430664], [467, -0.03606581687927246], [488, 0.35103559494018555], [299, 1.0060151815414429], [383, 0.9634994268417358], [432, -0.09078073501586914], [510, 0.985445499420166], [467, -0.014172792434692383], [488, 0.33802080154418945], [264, 3.5984601974487305], [347, 3.9506237506866455], [432, 0.3684200644493103], [516, 2.3580172061920166], [460, -0.08670365810394287], [481, 0.5690121054649353], [432, -0.0032613277435302734], [460, -0.11929011344909668], [481, 0.2933952808380127], [215, 1.5549383163452148], [299, 1.9970453977584839], [431, -0.07944798469543457], [517, 2.426485061645508], [467, 0.01392817497253418], [488, 0.6720160245895386], [431, -0.011705279350280762], [467, -0.023474931716918945], [488, 0.3496718406677246], [278, 2.7551183700561523], [362, 3.1390292644500732], [418, -0.02419281005859375], [503, 3.1115334033966064], [466, -0.08756768703460693], [487, 0.6785382032394409], [418, -0.037264108657836914], [466, -0.021551132202148438], [488, 0.6620798110961914], [418, -0.041030168533325195], [466, -0.08165514469146729], [488, 0.33083897829055786], [285, 1.0332151651382446], [368, 0.9580870270729065], [418, -0.034076690673828125], [503, 1.384873867034912], [453, 0.004955887794494629], [481, 0.3424992561340332], [264, 0.6082990765571594], [348, 0.9689297676086426], [405, -0.004845857620239258], [489, 1.0386601686477661], [453, -0.008255720138549805], [481, 0.30627280473709106], [278, 1.0251809358596802], [362, 1.0103991031646729], [404, 0.021806836128234863], [489, 1.3565963506698608], [446, -0.05905258655548096], [467, 0.3482167720794678], [257, 0.6932114958763123], [341, 1.052168607711792], [397, 0.01656198501586914], [482, 0.9987881183624268], [446, -0.046422719955444336], [467, 0.37024152278900146], [264, 1.0592141151428223], [348, 1.0256634950637817], [397, -0.05159938335418701], [482, 1.354304313659668], [432, -0.038569092750549316], [453, 0.28953295946121216], [236, 2.0679593086242676], [320, 2.0569303035736084], [383, 0.0005426406860351562], [468, 2.10919189453125], [432, 0.014959454536437988], [446, 0.7629822492599487], [383, -0.028812170028686523], [432, -0.08703768253326416], [446, 0.25128650665283203], [229, 1.0203367471694946], [313, 0.9856554865837097], [398, 0.007085323333740234], [482, 1.1170819997787476], [432, 0.07257235050201416], [446, 0.34104955196380615], [215, 0.6597318649291992], [299, 1.0513272285461426], [405, -0.004796743392944336], [489, 1.3129746913909912], [432, -0.019507288932800293], [446, 0.31421494483947754], [229, 1.7619881629943848], [313, 2.064410924911499], [397, -0.027169466018676758], [482, 2.075993061065674], [432, 0.03190481662750244], [453, 0.6817015409469604], [397, -0.005353212356567383], [432, 0.01008749008178711], [453, 0.301763653755188], [229, 1.6757949590682983], [313, 2.044551134109497], [382, -0.042482852935791016], [481, 1.3495151996612549], [424, 0.007254362106323242], [446, 0.3549482226371765], [383, -0.07716727256774902], [425, -0.0511476993560791], [446, 0.666951060295105], [264, 4.14917516708374], [313, 2.7451906204223633], [369, -0.0355534553527832], [432, 0.747786819934845], [397, -0.0069113969802856445], [432, 0.7047013640403748], [397, 0.016740798950195312], [432, -0.020413875579833984], [453, 0.6588224172592163], [397, -0.033304691314697266], [432, -0.08987855911254883], [453, 0.5991736650466919], [314, 0.6919554471969604], [397, -0.04377090930938721], [432, -0.01331949234008789], [453, 0.7258380651473999], [314, 0.21402984857559204], [258, 3.8731234073638916], [313, 2.788715124130249], [398, 0.0009070634841918945], [446, -0.09162306785583496], [467, 0.6263903975486755], [397, -0.0389707088470459], [446, -0.009870290756225586], [467, 0.7443578243255615], [397, -0.02707850933074951], [446, -0.025983095169067383], [467, 0.7142451405525208], [397, 0.4032999277114868], [481, 0.7363376021385193], [446, -0.020014047622680664], [467, 0.2713109254837036], [482, 0.15932226181030273], [264, 2.105682373046875], [348, 2.049980401992798], [398, -0.07266175746917725], [482, 2.0728015899658203], [432, -0.011661767959594727], [453, 0.6285422444343567], [396, 0.0032192468643188477], [431, 0.0015414953231811523], [453, 0.3645061254501343], [215, 1.7202692031860352], [299, 2.0344254970550537], [404, -0.05876636505126953], [489, 2.3529491424560547], [432, -0.03760838508605957], [467, 0.6623971462249756], [404, -0.008882522583007812], [432, 0.005917549133300781], [467, 0.29998624324798584], [250, 1.707909345626831], [333, 2.058980941772461], [396, -0.03430485725402832], [482, 2.4711477756500244], [419, 0.01579904556274414], [453, 0.6636142134666443], [396, -0.06400299072265625], [417, 0.013836860656738281], [453, 0.35546815395355225], [249, 1.7647385597229004], [333, 2.08243989944458], [404, -0.05669426918029785], [468, 0.5194332599639893], [418, 0.01732659339904785], [445, 0.35393333435058594], [404, 0.031821489334106445], [502, 1.349144697189331], [418, -0.0004374980926513672], [446, 0.2971828579902649], [285, 3.7770073413848877], [368, 4.205813407897949], [396, 0.0344465970993042], [454, 0.7083896994590759], [418, -0.00913691520690918], [452, 0.7430827617645264], [396, -0.08124005794525146], [417, -0.0016682147979736328], [453, 0.6859215497970581], [396, -0.08480536937713623], [417, -0.03497767448425293], [453, 0.6417015790939331], [397, -0.011364936828613281], [418, 0.03196072578430176], [453, 0.6705847978591919], [285, 4.146405220031738], [369, 4.19793701171875], [390, 0.00604403018951416], [418, -0.07663893699645996], [453, 0.6594682335853577], [390, -0.09148514270782471], [417, -0.01504659652709961], [453, 0.7083805799484253], [390, 0.017618894577026367], [417, -0.010600447654724121], [452, 0.33312785625457764], [390, 0.016249537467956543], [475, 0.7404544949531555], [418, 0.010953783988952637], [453, 0.26001930236816406], [474, 0.19062000513076782], [270, 4.154172897338867], [354, 4.17052698135376], [390, 0.042512357234954834], [474, 3.0962798595428467], [418, -0.079750657081604], [460, 0.6699475049972534], [389, -0.02765488624572754], [417, -0.0404362678527832], [460, 0.7142558693885803], [390, -0.05381155014038086], [417, -0.026889681816101074], [460, 0.3469463586807251], [390, -0.026717543601989746], [475, 0.695787250995636], [418, 0.021761178970336914], [460, 0.32081174850463867], [475, 0.24376142024993896], [257, 1.0401543378829956], [341, 0.9365141987800598], [390, -0.08184671401977539], [475, 3.4386343955993652], [425, -0.044226884841918945], [453, 0.6567089557647705], [250, 0.9765625], [334, 1.0454764366149902], [390, 0.048519253730773926], [418, -0.11998367309570312], [453, 0.6849513053894043], [243, 1.7137818336486816], [327, 2.066073179244995], [391, 0.03065204620361328], [432, -0.03611445426940918], [453, 0.30103862285614014], [383, -0.0560985803604126], [468, 0.9982697367668152], [432, -0.07020688056945801], [453, 0.2824960947036743], [250, 1.790939450263977], [334, 2.110536575317383], [383, 0.0356176495552063], [467, 2.034982442855835], [418, -0.0193021297454834], [438, 0.6828577518463135], [383, -0.027899861335754395], [418, 0.005163431167602539], [439, 0.3002544045448303], [285, 0.6228820085525513], [390, -0.06646251678466797], [475, 1.4096481800079346], [418, 0.010952353477478027], [432, 0.3238260746002197], [306, 0.003638029098510742], [369, 1.0510025024414062], [454, 1.0588492155075073], [418, 0.028641939163208008], [433, 0.3286150097846985], [299, 2.056519031524658], [383, -0.01138162612915039], [468, 2.0492634773254395], [418, 0.04196745157241821], [439, 0.7230360507965088], [383, 1.059412956237793], [418, -0.01634681224822998], [439, 0.35935187339782715], [215, 1.7668037414550781], [299, 2.0603785514831543], [383, -0.02803504467010498], [467, 2.4398512840270996], [411, -0.0497591495513916], [432, 0.6502713561058044], [383, -0.04881739616394043], [411, -0.0287168025970459], [432, 0.34464991092681885], [250, 4.90336799621582], [334, 5.229509353637695], [418, 0.00046634674072265625], [438, 0.042402565479278564], [467, 0.6482369899749756], [418, 0.00048601627349853516], [439, -0.014828205108642578], [467, 0.7046048641204834], [418, -0.06628918647766113], [446, -0.07411789894104004], [467, 0.35543280839920044], [419, -0.005239009857177734], [503, 1.0503422021865845], [446, 0.005625367164611816], [467, 0.23163533210754395], [418, 0.07421070337295532], [511, 3.4646084308624268], [454, -0.023190021514892578], [474, 0.6976548433303833], [286, 0.7872489094734192], [370, 1.022395372390747], [418, 0.9319151043891907], [453, -0.07891583442687988], [473, 0.6838690638542175], [308, 0.9175902009010315], [392, 0.9755100011825562], [419, -0.02594780921936035], [453, -0.03275597095489502], [475, 0.3015878200531006], [285, 1.0914366245269775], [370, 1.0383681058883667], [418, -0.05685758590698242], [496, 1.0020980834960938], [453, 0.01218116283416748], [474, 0.30386996269226074], [250, 4.151426315307617], [334, 4.47012186050415], [417, -0.028989553451538086], [502, 3.104860544204712], [446, 0.025903820991516113], [467, 0.6823529005050659], [418, -0.011446833610534668], [445, -0.021730542182922363], [467, 0.7208454608917236], [417, -0.034816741943359375], [446, -0.04312443733215332], [467, 0.33245617151260376], [418, -0.043883323669433594], [503, 0.9487248659133911], [446, 0.46146851778030396], [467, 0.0708545446395874], [418, 0.3624216318130493], [511, 3.442578077316284], [453, -0.126839280128479], [474, 0.6864854097366333], [285, 0.6763227581977844], [369, 1.0444482564926147], [418, -0.06324660778045654], [453, -0.0325775146484375], [474, 0.6730940937995911], [307, 1.0523515939712524], [391, 1.0375158786773682], [419, -0.04793691635131836], [453, 0.005269169807434082], [474, 0.32726263999938965], [285, 0.9931172728538513], [369, 1.010427713394165], [418, -0.0005137920379638672], [496, 0.9713044762611389], [452, -0.03016817569732666], [473, 0.2968348264694214], [251, 2.046553373336792], [334, 2.144211769104004], [418, -0.04198896884918213], [502, 2.011378288269043], [446, -0.04023241996765137], [467, 0.7166904807090759], [418, -0.03626525402069092], [446, -0.04042375087738037], [467, 0.31636208295822144], [229, 2.1202356815338135], [313, 2.074190139770508], [418, 0.0005689859390258789], [502, 2.052856922149658], [438, -0.07850897312164307], [460, 0.6377109289169312], [418, -0.06151318550109863], [439, -0.0023456811904907227], [460, 0.2983471751213074], [208, 1.6924540996551514], [292, 2.1906909942626953], [418, -0.026508212089538574], [502, 2.463656425476074], [432, -0.05858409404754639], [481, 0.6709128618240356], [417, -0.0017116069793701172], [432, 0.024492859840393066], [480, 0.42595261335372925], [215, 1.6568303108215332], [299, 2.1029345989227295], [404, 0.04210102558135986], [489, 2.3727684020996094], [431, 0.01862812042236328], [467, 0.7165186405181885], [404, 0.02696084976196289], [431, 0.010179758071899414], [467, 0.36161506175994873], [250, 1.710005283355713], [335, 2.0501527786254883], [390, -0.04733586311340332], [475, 2.3965470790863037], [418, -0.11052703857421875], [439, 0.6903748512268066], [390, -0.10007452964782715], [418, -0.008825302124023438], [440, 0.34741050004959106], [257, 1.7979072332382202], [341, 2.1465320587158203], [383, -0.011536121368408203], [468, 2.393486499786377], [404, -0.06112837791442871], [447, 0.6586395502090454], [383, -0.05925178527832031], [403, -0.018085718154907227], [446, 0.3123071789741516], [264, 1.6822092533111572], [348, -0.07529997825622559], [432, 2.007934331893921], [382, -0.0349959135055542], [404, 0.6778391599655151], [348, -0.018329381942749023], [383, -0.030447959899902344], [404, 0.30996716022491455], [264, 0.6482599377632141], [347, -0.04919099807739258], [432, 0.9641563296318054], [382, -0.018520832061767578], [397, 0.3718717098236084], [264, -0.003764033317565918], [347, 0.32254207134246826], [432, 1.390307903289795], [376, -0.032279253005981445], [397, 0.3693423271179199], [215, 3.974703311920166], [263, 4.190716743469238], [299, 4.197508811950684], [383, -0.026172995567321777], [403, -0.010028958320617676], [432, 0.7022980451583862], [404, 0.006441473960876465], [432, 0.05788552761077881], [467, 0.6136730313301086], [432, -0.027437448501586914], [467, -0.11311078071594238], [488, 0.31153661012649536], [433, -0.061800241470336914], [517, 0.6334595084190369], [467, -0.022605419158935547], [488, 0.3446173667907715], [517, 0.2769813537597656], [292, 3.930638551712036], [348, 4.176146507263184], [376, 4.184469223022461], [432, -0.03219199180603027], [517, 2.4160311222076416], [481, -0.002146005630493164], [502, 0.6963214874267578], [432, -0.019490718841552734], [481, -0.11519074440002441], [502, 0.3637595772743225], [432, -0.08089673519134521], [481, -0.09172403812408447], [501, 0.3274984359741211], [432, 0.04902249574661255], [517, 0.7158685922622681], [481, 0.015777111053466797], [502, 0.42336004972457886], [516, 0.2552356719970703], [299, 2.058037757873535], [382, 2.026960849761963], [432, -0.06774413585662842], [517, 2.395367383956909], [467, -0.023857474327087402], [488, 0.6413866281509399], [432, 1.0036647319793701], [467, -0.08996033668518066], [488, 0.3173646330833435], [279, 1.0076899528503418], [363, 0.9871326684951782], [426, -0.012185454368591309], [510, 1.0193606615066528], [467, 0.06033492088317871], [488, 0.3753897547721863], [264, 1.0155224800109863], [349, 0.96946120262146], [433, -0.015544652938842773], [518, 0.9925493001937866], [467, -0.022516250610351562], [488, 0.3558160066604614], [258, 2.8129029273986816], [313, 3.2429308891296387], [342, 3.0832862854003906], [447, -0.03880906105041504], [532, 3.139930486679077], [467, -0.022057056427001953], [481, 0.6422572731971741], [447, -0.04021263122558594], [466, -0.06958353519439697], [481, 0.6069825291633606], [446, -0.09470725059509277], [467, -0.0626136064529419], [481, 0.32479655742645264], [258, 0.6737467050552368], [313, 1.085753321647644], [342, 1.020724892616272], [447, -0.06856489181518555], [531, 0.9482933282852173], [467, 0.03380382061004639], [481, 0.27685749530792236], [264, 2.053253173828125], [313, 2.0893774032592773], [348, 2.1516356468200684], [454, -0.018463492393493652], [538, 3.446056604385376], [481, -0.0024760961532592773], [516, 0.7656344175338745], [453, -0.07575976848602295], [480, -0.07421493530273438], [516, 0.28573817014694214], [215, 0.6101399660110474], [299, 0.9645509719848633], [446, 0.00564122200012207], [531, 1.0095207691192627], [467, -0.031560659408569336], [488, 0.2696055769920349], [222, 0.6840565204620361], [306, 1.0470634698867798], [432, -0.04482436180114746], [517, 1.3901216983795166], [454, 0.007877826690673828], [496, 0.34780430793762207], [229, 3.8679511547088623], [313, 4.192381858825684], [509, 1.4203546047210693], [424, 0.0007309913635253906], [446, 0.048288583755493164], [482, 1.0482251644134521], [425, 0.036549925804138184], [446, -0.0738217830657959], [489, 1.300358772277832], [425, -0.02211630344390869], [446, 0.00721895694732666], [467, 1.3059827089309692], [425, -0.012729763984680176], [446, 0.3805590271949768], [229, 3.831146001815796], [313, 4.198073387145996], [341, 0.05075591802597046], [362, 0.07403111457824707], [398, 1.0217013359069824], [341, -0.010540008544921875], [363, 0.0015517473220825195], [405, 1.3775427341461182], [342, -0.006947040557861328], [362, -0.06449735164642334], [383, 1.3888922929763794], [341, -0.014557600021362305], [362, 0.3443191647529602], [229, 3.7980098724365234], [313, 4.167491912841797], [370, -0.03986978530883789], [453, -0.04827773571014404], [481, -0.11105597019195557], [517, 1.011616587638855], [453, 0.012812972068786621], [481, 0.037714242935180664], [538, 1.388174057006836], [452, -0.008290767669677734], [481, -0.024865150451660156], [517, 1.3356776237487793], [453, -0.033611178398132324], [481, 0.3240472674369812], [229, 3.776202440261841], [313, 4.104362487792969], [369, 0.014905810356140137], [397, -0.032714247703552246], [433, 1.0409489870071411], [369, 0.041081249713897705], [398, 0.04533255100250244], [454, 1.4388270378112793], [369, -0.027876973152160645], [397, -0.030429840087890625], [432, 1.328139066696167], [369, -0.06589531898498535], [397, 0.41653120517730713], [229, 3.8522565364837646], [312, 4.187342643737793], [362, 0.020632147789001465], [404, 0.7894045114517212], [383, 0.03532969951629639], [426, 0.6603533625602722], [404, -0.060312867164611816], [447, 0.6901839971542358], [426, -0.08886432647705078], [467, 0.6808810830116272], [446, -0.039327383041381836], [489, 0.6140422821044922], [467, -0.07727932929992676], [510, 0.6388508081436157], [229, 3.8708364963531494], [313, 4.1848649978637695], [369, -0.046802639961242676], [432, 0.680128276348114], [397, 0.03643143177032471], [454, 0.7353965044021606], [432, -0.04588794708251953], [482, 0.6331093311309814], [453, -0.07490038871765137], [517, 0.6821893453598022], [481, -0.037863850593566895], [538, 0.6216198205947876], [516, 0.640062689781189], [481, 0.7286291718482971], [229, 3.8333921432495117], [313, 4.185959815979004], [432, 0.009196877479553223], [475, 0.6509263515472412], [454, -0.07186532020568848], [496, 0.7561382055282593], [474, 0.013042926788330078], [517, 0.6846490502357483], [495, 0.010786294937133789], [538, 0.6965197920799255], [516, -0.036396145820617676], [559, 0.7172274589538574], [537, -0.06349015235900879]]\n",
      "wrote sample-0.tokens\n"
     ]
    }
   ],
   "source": [
    "for sample in range(1):\n",
    "    out = []\n",
    "    context = [1, 0.0] * CONTEXT_LEN\n",
    "    for i in range(1000):\n",
    "        logits = model(torch.tensor([context]).cuda().view(-1, CONTEXT_LEN, 2))\n",
    "        # print(f\"{logits.shape=}\")\n",
    "        probs = F.softmax(logits[:, :VOCAB_SIZE], dim=1)\n",
    "        ix = torch.multinomial(probs, num_samples=1).item()\n",
    "        # shift the context window and track samples\n",
    "        beat = logits[0][-1].item()\n",
    "        context = context[2:] + [ix, beat]\n",
    "        out.append([ix, beat])\n",
    "        if ix == 3:\n",
    "            break\n",
    "    with open(f\"sample-{sample}.tokens\", 'wb') as f:\n",
    "        print(out)\n",
    "        cbor2.dump(out, f)\n",
    "        print(\"wrote\", f.name)"
   ]
  },
  {
   "cell_type": "code",
   "execution_count": null,
   "id": "cc6531a8-93c7-4044-9415-30a04ee4f954",
   "metadata": {},
   "outputs": [],
   "source": []
  }
 ],
 "metadata": {
  "kernelspec": {
   "display_name": "Python 3 (ipykernel)",
   "language": "python",
   "name": "python3"
  },
  "language_info": {
   "codemirror_mode": {
    "name": "ipython",
    "version": 3
   },
   "file_extension": ".py",
   "mimetype": "text/x-python",
   "name": "python",
   "nbconvert_exporter": "python",
   "pygments_lexer": "ipython3",
   "version": "3.11.5"
  }
 },
 "nbformat": 4,
 "nbformat_minor": 5
}
