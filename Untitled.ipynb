{
 "cells": [
  {
   "cell_type": "code",
   "execution_count": 1,
   "id": "ce61c533-2231-4f2c-8f4a-d5fd077f9905",
   "metadata": {},
   "outputs": [
    {
     "data": {
      "text/plain": [
       "<torch._C.Generator at 0x7f453b7918b0>"
      ]
     },
     "execution_count": 1,
     "metadata": {},
     "output_type": "execute_result"
    }
   ],
   "source": [
    "import random\n",
    "import glob\n",
    "import torch\n",
    "import torch.nn as nn\n",
    "import torch.nn.functional as F\n",
    "import matplotlib.pyplot as plt\n",
    "\n",
    "assert torch.cuda.is_available()\n",
    "random.seed(42)\n",
    "torch.manual_seed(42)"
   ]
  },
  {
   "cell_type": "code",
   "execution_count": 57,
   "id": "5ee65534-6984-41ce-8299-bdf67ac2cd22",
   "metadata": {},
   "outputs": [],
   "source": [
    "# CONSTANTS\n",
    "CONTEXT_LEN = 256\n",
    "BATCH_SIZE = 512\n",
    "EMBED_LEN = 64\n",
    "ADDED_PARAM_LEN = 2 # duration\n",
    "PARAM_LEN = 1 + ADDED_PARAM_LEN"
   ]
  },
  {
   "cell_type": "code",
   "execution_count": 6,
   "id": "3aff63cf-a906-4e18-b939-4302c6a44242",
   "metadata": {},
   "outputs": [],
   "source": [
    "import cbor2\n",
    "with open('embed-table-900-64.cbor', 'rb') as f:\n",
    "    table = cbor2.load(f)\n",
    "track_paths = glob.glob('/home/bob/vmshare/**/*.mid.tokens')\n",
    "# display(track_paths)\n",
    "tracks = []\n",
    "for path in track_paths:\n",
    "    with open(path, 'rb') as f:\n",
    "        tracks.append(cbor2.load(f))"
   ]
  },
  {
   "cell_type": "code",
   "execution_count": 7,
   "id": "b2d10b79-a6f0-43e9-9675-2b85c7cd9afa",
   "metadata": {},
   "outputs": [
    {
     "name": "stdout",
     "output_type": "stream",
     "text": [
      "[[2, 0.0, 0.0], [3, 0.0, 0.0]]\n",
      "145\n"
     ]
    }
   ],
   "source": [
    "VOCAB_SIZE =len(table)\n",
    "print(tracks[0][0:5])\n",
    "print(len(tracks))"
   ]
  },
  {
   "cell_type": "code",
   "execution_count": 58,
   "id": "2ad2370e-5199-4764-b0f5-fea3f7ebc65f",
   "metadata": {},
   "outputs": [],
   "source": [
    "def build_dataset(tracks):\n",
    "    X, Y = [], []\n",
    "    for track in tracks:\n",
    "        # print(w)\n",
    "        context: list[int] = [1, 0.0, 0.0] * CONTEXT_LEN\n",
    "        # context = [1] * CONTEXT_LENGTH\n",
    "        for token, beats, delay in track:\n",
    "            # ix = stoi[ch]\n",
    "            X.append(context)\n",
    "            Y.append(token)\n",
    "            Y.append(beats)\n",
    "            Y.append(delay)\n",
    "            # print(\"\".join(itos[i] for i in context), \"-->\", itos[ix])\n",
    "            context = context[PARAM_LEN:] + [token, beats, delay]\n",
    "            # context = context[1:] + [token]\n",
    "            # context = context[1:] + [token, beats]\n",
    "    return torch.tensor(X).view(-1, CONTEXT_LEN, PARAM_LEN).cuda(), torch.tensor(Y).view(-1, PARAM_LEN).cuda()"
   ]
  },
  {
   "cell_type": "code",
   "execution_count": 59,
   "id": "049fe1ac-2fda-4709-8948-88139476e1c8",
   "metadata": {},
   "outputs": [],
   "source": [
    "# training split, dev/validation split (for hyperparameters), test\n",
    "# 80%, 10%, 10%\n",
    "Xtrain, Ytrain = build_dataset(tracks[: int(0.8 * len(tracks))])\n",
    "Xdev, Ydev = build_dataset(tracks[int(0.8 * len(tracks)) : int(0.9 * len(tracks))])\n",
    "Xtest, Ytest = build_dataset(tracks[int(0.9 * len(tracks)) :])"
   ]
  },
  {
   "cell_type": "code",
   "execution_count": 60,
   "id": "fb7f9cae-8dda-42b4-9bec-451f26b381ec",
   "metadata": {},
   "outputs": [],
   "source": [
    "#Xtrain"
   ]
  },
  {
   "cell_type": "code",
   "execution_count": 61,
   "id": "d4f152ee-d522-4fc9-98c3-bfc3e56eadff",
   "metadata": {},
   "outputs": [],
   "source": [
    "class Embedding:\n",
    "    def __init__(self, num_embeddings, embeddings_dim) -> None:\n",
    "        self.weight = torch.randn((num_embeddings, embeddings_dim), device=\"cuda\")\n",
    "\n",
    "    def __call__(self, IX):\n",
    "        # print(IX.shape)\n",
    "        ix = IX[:,:,0].int()\n",
    "        added = IX[:,:,1:].view(-1, CONTEXT_LEN, ADDED_PARAM_LEN)\n",
    "        # print(f\"{ix=}\")\n",
    "        emb = self.weight[ix]\n",
    "        self.out = torch.cat((emb, added), dim=2)\n",
    "        # print(f\"{self.out=}\")\n",
    "        # self.out = self.weight[IX]\n",
    "        return self.out\n",
    "\n",
    "    def parameters(self):\n",
    "        return [self.weight]\n",
    "\n",
    "class Linear:\n",
    "    def __init__( self, fan_in: int, fan_out: int, bias=True, device=\"cuda\"):\n",
    "        self.device = device\n",
    "        # Random initialization with kaiming-like normalization.\n",
    "        self.weight = (\n",
    "            torch.randn((fan_in, fan_out), device=device)\n",
    "            / fan_in**0.5\n",
    "        )\n",
    "        self.bias = torch.zeros(fan_out, device=device) if bias else None\n",
    "\n",
    "    def __call__(self, x):\n",
    "        self.out = x @ self.weight\n",
    "        if self.bias is not None:\n",
    "            self.out += self.bias\n",
    "        return self.out\n",
    "\n",
    "    def parameters(self):\n",
    "        return [self.weight] + ([] if self.bias is None else [self.bias])\n",
    "\n",
    "class BatchNorm1d:\n",
    "    \"\"\"\\\n",
    "    Batch Noemalization: Accelerating Deep Network Training by Reducing Internal\n",
    "    Covariant Shift\n",
    "    https://arxiv.org/abs/1502.03167\n",
    "\n",
    "    Same as torch.nn.BatchNorm1d with:\n",
    "        affine=True # will use beta and gamma\n",
    "        track_running_stats=True\n",
    "        device=whatever\n",
    "        dtype=float\n",
    "    \"\"\"\n",
    "\n",
    "    def __init__(self, dim, epsilon=1e-5, momentum=0.1, device=\"cuda\"):\n",
    "        self.device = device\n",
    "        self.eps = epsilon\n",
    "        self.momentum = momentum\n",
    "        self.training = True\n",
    "        self.gamma = torch.ones(dim, device=device)\n",
    "        self.beta = torch.zeros(dim, device=device)\n",
    "        # buffers, trained with running \"momentum update\" for smoothing\n",
    "        self.running_mean = torch.zeros(dim, device=device)\n",
    "        # tracking variance instead of stddev\n",
    "        self.running_var = torch.ones(dim, device=device)\n",
    "\n",
    "    def __call__(self, x):\n",
    "        if self.training:\n",
    "            if x.ndim == 2:\n",
    "                dim = 0\n",
    "            elif x.ndim == 3:\n",
    "                dim = (0, 1)\n",
    "            xmean = x.mean(0, keepdim=True)\n",
    "            xvar = x.var(0, keepdim=True)\n",
    "        else:\n",
    "            xmean = self.running_mean  # µB from paper\n",
    "            xvar = self.running_var  # σ^2B from paper\n",
    "        xhat = (x - xmean) / torch.sqrt(xvar + self.eps)\n",
    "        # used for statistic collection, not part of torch\n",
    "        self.out = self.gamma * xhat + self.beta\n",
    "        # update buffers\n",
    "        if self.training:\n",
    "            with torch.no_grad():\n",
    "                self.running_mean = (\n",
    "                    1 - self.momentum\n",
    "                ) * self.running_mean + self.momentum * xmean\n",
    "                self.running_var = (\n",
    "                    1 - self.momentum\n",
    "                ) * self.running_var + self.momentum * xvar\n",
    "        return self.out\n",
    "\n",
    "    def parameters(self):\n",
    "        return [self.gamma, self.beta]\n",
    "\n",
    "class Tanh:\n",
    "    \"\"\"Same as torch.nn.Tanh\"\"\"\n",
    "\n",
    "    def __call__(self, x):\n",
    "        self.out = torch.tanh(x)\n",
    "        return self.out\n",
    "\n",
    "    def parameters(self):\n",
    "        return []\n",
    "\n",
    "class Flatten:\n",
    "    def __call__(self, x):\n",
    "        self.out = x.view(x.shape[0], -1)\n",
    "        return self.out\n",
    "\n",
    "    def parameters(self):\n",
    "        return []\n",
    "\n",
    "class Sequential:\n",
    "    def __init__(self, *layers) -> None:\n",
    "        self.layers = layers\n",
    "\n",
    "    def __call__(self, x):\n",
    "        for layer in self.layers:\n",
    "            x = layer(x)\n",
    "        self.out = x\n",
    "        return self.out\n",
    "\n",
    "    def parameters(self):\n",
    "        return [p for layer in self.layers for p in layer.parameters()]"
   ]
  },
  {
   "cell_type": "code",
   "execution_count": 62,
   "id": "cf8b20bf-325b-4156-a2c1-9790ffa0e91e",
   "metadata": {},
   "outputs": [
    {
     "name": "stdout",
     "output_type": "stream",
     "text": [
      "2353542\n",
      "Embedding: (512, 256, 66)\n",
      "Flatten: (512, 16896)\n",
      "Linear: (512, 128)\n",
      "BatchNorm1d: (512, 128)\n",
      "Tanh: (512, 128)\n",
      "Linear: (512, 128)\n",
      "BatchNorm1d: (512, 128)\n",
      "Tanh: (512, 128)\n",
      "Linear: (512, 902)\n",
      "      0/  40000: 7.6107\n",
      "   1000/  40000: 0.8690\n",
      "   2000/  40000: 0.2771\n",
      "   3000/  40000: 0.0895\n",
      "   4000/  40000: 0.0739\n",
      "   5000/  40000: 0.0528\n",
      "   6000/  40000: 0.0266\n",
      "   7000/  40000: 0.0301\n",
      "   8000/  40000: 0.0348\n",
      "   9000/  40000: 0.0224\n",
      "  10000/  40000: 0.0264\n",
      "  11000/  40000: 0.0289\n",
      "  12000/  40000: 0.0300\n",
      "  13000/  40000: 0.0651\n",
      "  14000/  40000: 0.0194\n",
      "  15000/  40000: 0.0168\n",
      "  16000/  40000: 0.0100\n",
      "  17000/  40000: 0.0108\n",
      "  18000/  40000: 0.0108\n",
      "  19000/  40000: 0.0142\n",
      "  20000/  40000: 0.0134\n",
      "  21000/  40000: 0.0164\n",
      "  22000/  40000: 0.0071\n",
      "  23000/  40000: 0.0079\n",
      "  24000/  40000: 0.0232\n",
      "  25000/  40000: 0.0137\n",
      "  26000/  40000: 0.0054\n",
      "  27000/  40000: 0.0109\n",
      "  28000/  40000: 0.0061\n",
      "  29000/  40000: 0.0090\n",
      "  30000/  40000: 0.0175\n",
      "  31000/  40000: 0.0189\n",
      "  32000/  40000: 0.0303\n",
      "  33000/  40000: 0.0072\n",
      "  34000/  40000: 0.0059\n",
      "  35000/  40000: 0.0189\n",
      "  36000/  40000: 0.0054\n",
      "  37000/  40000: 0.0065\n",
      "  38000/  40000: 0.0080\n",
      "  39000/  40000: 0.0246\n"
     ]
    }
   ],
   "source": [
    "n_embed = EMBED_LEN\n",
    "n_hidden = 128\n",
    "model = Sequential(\n",
    "    Embedding(VOCAB_SIZE, EMBED_LEN),\n",
    "    Flatten(),\n",
    "    Linear((n_embed + ADDED_PARAM_LEN) * CONTEXT_LEN, n_hidden, bias=False),\n",
    "    BatchNorm1d(n_hidden),\n",
    "    Tanh(),\n",
    "    Linear(n_hidden, n_hidden, bias=False),\n",
    "    BatchNorm1d(n_hidden),\n",
    "    Tanh(),\n",
    "    # Linear(n_hidden * 2, n_hidden, bias=False),\n",
    "    # BatchNorm1d(n_hidden),\n",
    "    # Tanh(),\n",
    "    Linear(n_hidden, VOCAB_SIZE + ADDED_PARAM_LEN),\n",
    ")\n",
    "\n",
    "with torch.no_grad():\n",
    "    model.layers[-1].weight *= 0.1\n",
    "\n",
    "parameters = model.parameters()\n",
    "print(sum(p.nelement() for p in parameters))\n",
    "for p in parameters:\n",
    "    p.requires_grad = True\n",
    "max_steps = 40_000\n",
    "batch_size = BATCH_SIZE\n",
    "lossi = []\n",
    "\n",
    "for i in range(max_steps):\n",
    "    ix = torch.randint(0, Xtrain.shape[0], (batch_size,))\n",
    "    Xb, Yb = Xtrain[ix], Ytrain[ix]\n",
    "    # print(Xb, Xb.shape, Yb); break\n",
    "    # forward\n",
    "    logits = model(Xb)\n",
    "    if logits.isnan().any():\n",
    "        print(\"FUCKING NAN\")\n",
    "        break\n",
    "    #display(logits)\n",
    "    #print(f\"{logits.shape=}\")\n",
    "    #print(f\"{Yb.shape=}\")\n",
    "    \n",
    "    label_loss = F.cross_entropy(logits, Yb[:, 0].long())\n",
    "    added_param_loss = ((Yb[:, -ADDED_PARAM_LEN:] - logits[:, -ADDED_PARAM_LEN:]) ** 2).mean(dim=0).sum()\n",
    "    loss = label_loss + added_param_loss\n",
    "    # print(f\"{loss=} {loss.shape=} {duration_loss.shape=}\")\n",
    "\n",
    "    # back\n",
    "    for p in parameters:\n",
    "        p.grad = None\n",
    "    loss.backward()\n",
    "\n",
    "    lr = 0.1 if i < 20_000 else 0.01 if i < 40_000 else 0.001 if i < 60_000 else 0.0001\n",
    "    for p in parameters:\n",
    "        p.data += -lr * p.grad\n",
    "\n",
    "    if i == 0:\n",
    "        for layer in model.layers:\n",
    "            print(f\"{layer.__class__.__name__}: {tuple(layer.out.shape)}\")\n",
    "\n",
    "    # track\n",
    "    if i % 1_000 == 0:\n",
    "        print(f\"{i:7d}/{max_steps:7d}: {loss.item():.4f}\")\n",
    "    lossi.append(loss.log10().item())\n",
    "    #print(Xb)\n",
    "    #break"
   ]
  },
  {
   "cell_type": "code",
   "execution_count": 63,
   "id": "36f1bbef-28fb-4770-871d-e89eb09e9ef8",
   "metadata": {},
   "outputs": [
    {
     "data": {
      "text/plain": [
       "[<matplotlib.lines.Line2D at 0x7f444c0f3450>]"
      ]
     },
     "execution_count": 63,
     "metadata": {},
     "output_type": "execute_result"
    },
    {
     "data": {
      "image/png": "[encoded data removed]",
      "text/plain": [
       "<Figure size 1600x600 with 1 Axes>"
      ]
     },
     "metadata": {},
     "output_type": "display_data"
    }
   ],
   "source": [
    "plt.figure(figsize=(16, 6))\n",
    "# plt.plot(lossi)\n",
    "# instead, average across 1_000 points\n",
    "plt.plot(torch.tensor(lossi).view(-1, 1000).mean(1))\n",
    "# plt.savefig(\"plot.svg\", format=\"svg\")"
   ]
  },
  {
   "cell_type": "code",
   "execution_count": 64,
   "id": "6661ae5a-db53-495d-93ca-27f63bfb7249",
   "metadata": {
    "scrolled": true
   },
   "outputs": [
    {
     "name": "stdout",
     "output_type": "stream",
     "text": [
      "train 0.0109581109136343\n",
      "eval 0.05093478783965111\n"
     ]
    }
   ],
   "source": [
    "for layer in model.layers:\n",
    "    layer.training = False\n",
    "\n",
    "@torch.no_grad()\n",
    "def split_loss(split):\n",
    "    x, y = {\n",
    "        \"train\": (Xtrain, Ytrain),\n",
    "        \"eval\": (Xdev, Ydev),\n",
    "        \"test\": (Xtest, Ytest),\n",
    "    }[split]\n",
    "    logits = model(x)\n",
    "    label_loss = F.cross_entropy(logits, y[:, 0].long())\n",
    "    added_param_loss = ((y[:, -ADDED_PARAM_LEN:] - logits[:, -ADDED_PARAM_LEN:]) ** 2).mean(dim=0).sum()\n",
    "    loss = label_loss + added_param_loss\n",
    "    print(split, loss.item())\n",
    "\n",
    "split_loss(\"train\")\n",
    "split_loss(\"eval\")"
   ]
  },
  {
   "cell_type": "code",
   "execution_count": 65,
   "id": "72a12527-12ac-4210-b528-fbd7774a00fc",
   "metadata": {},
   "outputs": [
    {
     "name": "stdout",
     "output_type": "stream",
     "text": [
      "wrote sample-0.tokens\n"
     ]
    }
   ],
   "source": [
    "for layer in model.layers:\n",
    "    layer.training = False\n",
    "    \n",
    "for sample in range(1):\n",
    "    out = []\n",
    "    context = [1, 0.0, 0.0] * (CONTEXT_LEN - 1) + [2, 0.0, 0.0]\n",
    "    for i in range(1000):\n",
    "        x = torch.tensor(context).cuda()\n",
    "        #print(x)\n",
    "        x = x.view(1, CONTEXT_LEN, 1 + ADDED_PARAM_LEN)\n",
    "        #print(x.shape)\n",
    "        logits = model(x)\n",
    "        #print(f\"{logits=}\")\n",
    "        probs = F.softmax(logits[:, :VOCAB_SIZE], dim=1)\n",
    "        ix = torch.multinomial(probs, num_samples=1).item()\n",
    "        # shift the context window and track samples\n",
    "        beat = logits[0][-2].item()\n",
    "        delay = logits[0][-1].item()\n",
    "        context = context[1 + ADDED_PARAM_LEN:] + [ix, beat, delay]\n",
    "        out.append([ix, beat, delay])\n",
    "        #if ix == 3:\n",
    "        #    break\n",
    "    with open(f\"sample-{sample}.tokens\", 'wb') as f:\n",
    "        # print(out)\n",
    "        cbor2.dump(out, f)\n",
    "        print(\"wrote\", f.name)"
   ]
  },
  {
   "cell_type": "code",
   "execution_count": null,
   "id": "cc6531a8-93c7-4044-9415-30a04ee4f954",
   "metadata": {},
   "outputs": [],
   "source": []
  }
 ],
 "metadata": {
  "kernelspec": {
   "display_name": "Python 3 (ipykernel)",
   "language": "python",
   "name": "python3"
  },
  "language_info": {
   "codemirror_mode": {
    "name": "ipython",
    "version": 3
   },
   "file_extension": ".py",
   "mimetype": "text/x-python",
   "name": "python",
   "nbconvert_exporter": "python",
   "pygments_lexer": "ipython3",
   "version": "3.11.5"
  }
 },
 "nbformat": 4,
 "nbformat_minor": 5
}
