{
 "cells": [
  {
   "cell_type": "code",
   "execution_count": 1,
   "id": "ce61c533-2231-4f2c-8f4a-d5fd077f9905",
   "metadata": {},
   "outputs": [
    {
     "data": {
      "text/plain": [
       "<torch._C.Generator at 0x7fb3af7818b0>"
      ]
     },
     "execution_count": 1,
     "metadata": {},
     "output_type": "execute_result"
    }
   ],
   "source": [
    "import random\n",
    "import torch\n",
    "import torch.nn as nn\n",
    "import torch.nn.functional as F\n",
    "import matplotlib.pyplot as plt\n",
    "\n",
    "assert torch.cuda.is_available()\n",
    "random.seed(42)\n",
    "torch.manual_seed(42)"
   ]
  },
  {
   "cell_type": "code",
   "execution_count": 185,
   "id": "5ee65534-6984-41ce-8299-bdf67ac2cd22",
   "metadata": {},
   "outputs": [],
   "source": [
    "# CONSTANTS\n",
    "CONTEXT_LEN = 16\n",
    "BATCH_SIZE = 32\n",
    "EMBED_LEN = 64\n",
    "ADDED_PARAM_LEN = 2 # duration\n",
    "PARAM_LEN = 1 + ADDED_PARAM_LEN"
   ]
  },
  {
   "cell_type": "code",
   "execution_count": 186,
   "id": "3aff63cf-a906-4e18-b939-4302c6a44242",
   "metadata": {},
   "outputs": [],
   "source": [
    "import cbor2\n",
    "with open('embed-table-900-64.cbor', 'rb') as f:\n",
    "    table = cbor2.load(f)\n",
    "with open('moonlight.tokens', 'rb') as f:\n",
    "    track_1 = cbor2.load(f)"
   ]
  },
  {
   "cell_type": "code",
   "execution_count": 187,
   "id": "b2d10b79-a6f0-43e9-9675-2b85c7cd9afa",
   "metadata": {},
   "outputs": [
    {
     "name": "stdout",
     "output_type": "stream",
     "text": [
      "[[2, 0.0, 0.0], [264, 4.0, 0.0], [348, 4.0, 0.0], [398, 0.010416666666666666, 0.0], [432, 0.0, 0.3333333333333333]]\n",
      "2198\n"
     ]
    }
   ],
   "source": [
    "VOCAB_SIZE =len(table)\n",
    "print(track_1[0:5])\n",
    "print(len(track_1))"
   ]
  },
  {
   "cell_type": "code",
   "execution_count": 188,
   "id": "2ad2370e-5199-4764-b0f5-fea3f7ebc65f",
   "metadata": {},
   "outputs": [],
   "source": [
    "def build_dataset(track):\n",
    "    X, Y = [], []\n",
    "    #for track in tracks:\n",
    "        # print(w)\n",
    "    context: list[int] = [1, 0.0, 0.0] * CONTEXT_LEN\n",
    "    # context = [1] * CONTEXT_LENGTH\n",
    "    for token, beats, delay in track:\n",
    "        # ix = stoi[ch]\n",
    "        X.append(context)\n",
    "        Y.append(token)\n",
    "        Y.append(beats)\n",
    "        Y.append(delay)\n",
    "        # print(\"\".join(itos[i] for i in context), \"-->\", itos[ix])\n",
    "        context = context[PARAM_LEN:] + [token, beats, delay]\n",
    "        # context = context[1:] + [token]\n",
    "        # context = context[1:] + [token, beats]\n",
    "    return torch.tensor(X).view(-1, CONTEXT_LEN, PARAM_LEN).cuda(), torch.tensor(Y).view(-1, PARAM_LEN).cuda()"
   ]
  },
  {
   "cell_type": "code",
   "execution_count": 189,
   "id": "049fe1ac-2fda-4709-8948-88139476e1c8",
   "metadata": {},
   "outputs": [],
   "source": [
    "track = track_1\n",
    "# training split, dev/validation split (for hyperparameters), test\n",
    "# 80%, 10%, 10%\n",
    "Xtrain, Ytrain = build_dataset(track[: int(0.8 * len(track))])\n",
    "Xdev, Ydev = build_dataset(track[int(0.8 * len(track)) : int(0.9 * len(track))])\n",
    "Xtest, Ytest = build_dataset(track[int(0.9 * len(track)) :])"
   ]
  },
  {
   "cell_type": "code",
   "execution_count": 190,
   "id": "fb7f9cae-8dda-42b4-9bec-451f26b381ec",
   "metadata": {},
   "outputs": [],
   "source": [
    "# Xtrain"
   ]
  },
  {
   "cell_type": "code",
   "execution_count": 191,
   "id": "d4f152ee-d522-4fc9-98c3-bfc3e56eadff",
   "metadata": {},
   "outputs": [],
   "source": [
    "class Embedding:\n",
    "    def __init__(self, num_embeddings, embeddings_dim) -> None:\n",
    "        self.weight = torch.randn((num_embeddings, embeddings_dim), device=\"cuda\")\n",
    "\n",
    "    def __call__(self, IX):\n",
    "        # print(IX.shape)\n",
    "        ix = IX[:,:,0].int()\n",
    "        added = IX[:,:,1:].view(-1, CONTEXT_LEN, ADDED_PARAM_LEN)\n",
    "        # print(f\"{ix=}\")\n",
    "        emb = self.weight[ix]\n",
    "        self.out = torch.cat((emb, added), dim=2)\n",
    "        # print(f\"{self.out=}\")\n",
    "        # self.out = self.weight[IX]\n",
    "        return self.out\n",
    "\n",
    "    def parameters(self):\n",
    "        return [self.weight]\n",
    "\n",
    "class Linear:\n",
    "    def __init__( self, fan_in: int, fan_out: int, bias=True, device=\"cuda\"):\n",
    "        self.device = device\n",
    "        # Random initialization with kaiming-like normalization.\n",
    "        self.weight = (\n",
    "            torch.randn((fan_in, fan_out), device=device)\n",
    "            / fan_in**0.5\n",
    "        )\n",
    "        self.bias = torch.zeros(fan_out, device=device) if bias else None\n",
    "\n",
    "    def __call__(self, x):\n",
    "        self.out = x @ self.weight\n",
    "        if self.bias is not None:\n",
    "            self.out += self.bias\n",
    "        return self.out\n",
    "\n",
    "    def parameters(self):\n",
    "        return [self.weight] + ([] if self.bias is None else [self.bias])\n",
    "\n",
    "class BatchNorm1d:\n",
    "    \"\"\"\\\n",
    "    Batch Noemalization: Accelerating Deep Network Training by Reducing Internal\n",
    "    Covariant Shift\n",
    "    https://arxiv.org/abs/1502.03167\n",
    "\n",
    "    Same as torch.nn.BatchNorm1d with:\n",
    "        affine=True # will use beta and gamma\n",
    "        track_running_stats=True\n",
    "        device=whatever\n",
    "        dtype=float\n",
    "    \"\"\"\n",
    "\n",
    "    def __init__(self, dim, epsilon=1e-5, momentum=0.1, device=\"cuda\"):\n",
    "        self.device = device\n",
    "        self.eps = epsilon\n",
    "        self.momentum = momentum\n",
    "        self.training = True\n",
    "        self.gamma = torch.ones(dim, device=device)\n",
    "        self.beta = torch.zeros(dim, device=device)\n",
    "        # buffers, trained with running \"momentum update\" for smoothing\n",
    "        self.running_mean = torch.zeros(dim, device=device)\n",
    "        # tracking variance instead of stddev\n",
    "        self.running_var = torch.ones(dim, device=device)\n",
    "\n",
    "    def __call__(self, x):\n",
    "        if self.training:\n",
    "            if x.ndim == 2:\n",
    "                dim = 0\n",
    "            elif x.ndim == 3:\n",
    "                dim = (0, 1)\n",
    "            xmean = x.mean(0, keepdim=True)\n",
    "            xvar = x.var(0, keepdim=True)\n",
    "        else:\n",
    "            xmean = self.running_mean  # µB from paper\n",
    "            xvar = self.running_var  # σ^2B from paper\n",
    "        xhat = (x - xmean) / torch.sqrt(xvar + self.eps)\n",
    "        # used for statistic collection, not part of torch\n",
    "        self.out = self.gamma * xhat + self.beta\n",
    "        # update buffers\n",
    "        if self.training:\n",
    "            with torch.no_grad():\n",
    "                self.running_mean = (\n",
    "                    1 - self.momentum\n",
    "                ) * self.running_mean + self.momentum * xmean\n",
    "                self.running_var = (\n",
    "                    1 - self.momentum\n",
    "                ) * self.running_var + self.momentum * xvar\n",
    "        return self.out\n",
    "\n",
    "    def parameters(self):\n",
    "        return [self.gamma, self.beta]\n",
    "\n",
    "class Tanh:\n",
    "    \"\"\"Same as torch.nn.Tanh\"\"\"\n",
    "\n",
    "    def __call__(self, x):\n",
    "        self.out = torch.tanh(x)\n",
    "        return self.out\n",
    "\n",
    "    def parameters(self):\n",
    "        return []\n",
    "\n",
    "class Flatten:\n",
    "    def __call__(self, x):\n",
    "        self.out = x.view(x.shape[0], -1)\n",
    "        return self.out\n",
    "\n",
    "    def parameters(self):\n",
    "        return []\n",
    "\n",
    "class Sequential:\n",
    "    def __init__(self, *layers) -> None:\n",
    "        self.layers = layers\n",
    "\n",
    "    def __call__(self, x):\n",
    "        for layer in self.layers:\n",
    "            x = layer(x)\n",
    "        self.out = x\n",
    "        return self.out\n",
    "\n",
    "    def parameters(self):\n",
    "        return [p for layer in self.layers for p in layer.parameters()]"
   ]
  },
  {
   "cell_type": "code",
   "execution_count": 192,
   "id": "cf8b20bf-325b-4156-a2c1-9790ffa0e91e",
   "metadata": {},
   "outputs": [
    {
     "name": "stdout",
     "output_type": "stream",
     "text": [
      "309382\n",
      "Embedding: (32, 16, 66)\n",
      "Flatten: (32, 1056)\n",
      "Linear: (32, 128)\n",
      "BatchNorm1d: (32, 128)\n",
      "Tanh: (32, 128)\n",
      "Linear: (32, 902)\n",
      "      0/  40000: 13.7267\n",
      "   1000/  40000: 0.4159\n",
      "   2000/  40000: 0.1475\n",
      "   3000/  40000: 0.0906\n",
      "   4000/  40000: 0.0802\n",
      "   5000/  40000: 0.0735\n",
      "   6000/  40000: 0.0694\n",
      "   7000/  40000: 0.0504\n",
      "   8000/  40000: 0.0724\n",
      "   9000/  40000: 0.0585\n",
      "  10000/  40000: 0.0503\n",
      "  11000/  40000: 0.0447\n",
      "  12000/  40000: 0.0259\n",
      "  13000/  40000: 0.0364\n",
      "  14000/  40000: 0.0212\n",
      "  15000/  40000: 0.0167\n",
      "  16000/  40000: 0.0709\n",
      "  17000/  40000: 0.0269\n",
      "  18000/  40000: 0.0172\n",
      "  19000/  40000: 0.0204\n",
      "  20000/  40000: 0.0181\n",
      "  21000/  40000: 0.0173\n",
      "  22000/  40000: 0.0185\n",
      "  23000/  40000: 0.0116\n",
      "  24000/  40000: 0.0156\n",
      "  25000/  40000: 0.1474\n",
      "  26000/  40000: 0.0137\n",
      "  27000/  40000: 0.0887\n",
      "  28000/  40000: 0.0258\n",
      "  29000/  40000: 0.0299\n",
      "  30000/  40000: 0.0193\n",
      "  31000/  40000: 0.0218\n",
      "  32000/  40000: 0.0201\n",
      "  33000/  40000: 0.0190\n",
      "  34000/  40000: 0.0401\n",
      "  35000/  40000: 0.0164\n",
      "  36000/  40000: 0.0219\n",
      "  37000/  40000: 0.0849\n",
      "  38000/  40000: 0.0280\n",
      "  39000/  40000: 0.0162\n"
     ]
    }
   ],
   "source": [
    "n_embed = EMBED_LEN\n",
    "n_hidden = 128\n",
    "model = Sequential(\n",
    "    Embedding(VOCAB_SIZE, EMBED_LEN),\n",
    "    Flatten(),\n",
    "    Linear((n_embed + ADDED_PARAM_LEN) * CONTEXT_LEN, n_hidden, bias=False),\n",
    "    BatchNorm1d(n_hidden),\n",
    "    Tanh(),\n",
    "    # Linear(n_hidden * 2, n_hidden, bias=False),\n",
    "    # BatchNorm1d(n_hidden),\n",
    "    # Tanh(),\n",
    "    # Linear(n_hidden * 2, n_hidden, bias=False),\n",
    "    # BatchNorm1d(n_hidden),\n",
    "    # Tanh(),\n",
    "    Linear(n_hidden, VOCAB_SIZE + ADDED_PARAM_LEN),\n",
    ")\n",
    "\n",
    "with torch.no_grad():\n",
    "    model.layers[-1].weight *= 0.1\n",
    "\n",
    "parameters = model.parameters()\n",
    "print(sum(p.nelement() for p in parameters))\n",
    "for p in parameters:\n",
    "    p.requires_grad = True\n",
    "max_steps = 40_000\n",
    "batch_size = BATCH_SIZE\n",
    "lossi = []\n",
    "\n",
    "for i in range(max_steps):\n",
    "    ix = torch.randint(0, Xtrain.shape[0], (batch_size,))\n",
    "    Xb, Yb = Xtrain[ix], Ytrain[ix]\n",
    "    # print(Xb, Xb.shape, Yb); break\n",
    "    # forward\n",
    "    logits = model(Xb)\n",
    "    if logits.isnan().any():\n",
    "        print(\"FUCKING NAN\")\n",
    "    #display(logits)\n",
    "    #print(f\"{logits.shape=}\")\n",
    "    #print(f\"{Yb.shape=}\")\n",
    "    \n",
    "    label_loss = F.cross_entropy(logits, Yb[:, 0].long())\n",
    "    added_param_loss = ((Yb[:, -ADDED_PARAM_LEN:] - logits[:, -ADDED_PARAM_LEN:]) ** 2).mean(dim=0).sum()\n",
    "    loss = label_loss + added_param_loss\n",
    "    # print(f\"{loss=} {loss.shape=} {duration_loss.shape=}\")\n",
    "\n",
    "    # back\n",
    "    for p in parameters:\n",
    "        p.grad = None\n",
    "    loss.backward()\n",
    "\n",
    "    lr = 0.1 if i < 10_000 else 0.01 if i < 20_000 else 0.0001\n",
    "    for p in parameters:\n",
    "        p.data += -lr * p.grad\n",
    "\n",
    "    if i == 0:\n",
    "        for layer in model.layers:\n",
    "            print(f\"{layer.__class__.__name__}: {tuple(layer.out.shape)}\")\n",
    "\n",
    "    # track\n",
    "    if i % 1_000 == 0:\n",
    "        print(f\"{i:7d}/{max_steps:7d}: {loss.item():.4f}\")\n",
    "    lossi.append(loss.log10().item())\n",
    "    #print(Xb)\n",
    "    #break"
   ]
  },
  {
   "cell_type": "code",
   "execution_count": 193,
   "id": "36f1bbef-28fb-4770-871d-e89eb09e9ef8",
   "metadata": {},
   "outputs": [
    {
     "data": {
      "text/plain": [
       "[<matplotlib.lines.Line2D at 0x7fb11b0c9b50>]"
      ]
     },
     "execution_count": 193,
     "metadata": {},
     "output_type": "execute_result"
    },
    {
     "data": {
      "image/png": "[encoded data removed]",
      "text/plain": [
       "<Figure size 1600x600 with 1 Axes>"
      ]
     },
     "metadata": {},
     "output_type": "display_data"
    }
   ],
   "source": [
    "plt.figure(figsize=(16, 6))\n",
    "# plt.plot(lossi)\n",
    "# instead, average across 1_000 points\n",
    "plt.plot(torch.tensor(lossi).view(-1, 1000).mean(1))\n",
    "# plt.savefig(\"plot.svg\", format=\"svg\")"
   ]
  },
  {
   "cell_type": "code",
   "execution_count": 194,
   "id": "6661ae5a-db53-495d-93ca-27f63bfb7249",
   "metadata": {
    "scrolled": true
   },
   "outputs": [
    {
     "name": "stdout",
     "output_type": "stream",
     "text": [
      "train 0.016072098165750504\n",
      "eval 8.04848861694336\n"
     ]
    }
   ],
   "source": [
    "for layer in model.layers:\n",
    "    layer.training = False\n",
    "\n",
    "@torch.no_grad()\n",
    "def split_loss(split):\n",
    "    x, y = {\n",
    "        \"train\": (Xtrain, Ytrain),\n",
    "        \"eval\": (Xdev, Ydev),\n",
    "        \"test\": (Xtest, Ytest),\n",
    "    }[split]\n",
    "    logits = model(x)\n",
    "    label_loss = F.cross_entropy(logits, y[:, 0].long())\n",
    "    added_param_loss = ((y[:, -ADDED_PARAM_LEN:] - logits[:, -ADDED_PARAM_LEN:]) ** 2).mean(dim=0).sum()\n",
    "    loss = label_loss + added_param_loss\n",
    "    print(split, loss.item())\n",
    "\n",
    "split_loss(\"train\")\n",
    "split_loss(\"eval\")"
   ]
  },
  {
   "cell_type": "code",
   "execution_count": 195,
   "id": "72a12527-12ac-4210-b528-fbd7774a00fc",
   "metadata": {},
   "outputs": [
    {
     "name": "stdout",
     "output_type": "stream",
     "text": [
      "wrote sample-0.tokens\n"
     ]
    }
   ],
   "source": [
    "for layer in model.layers:\n",
    "    layer.training = False\n",
    "    \n",
    "for sample in range(1):\n",
    "    out = []\n",
    "    context = [1, 0.0, 0.0] * (CONTEXT_LEN - 1) + [2, 0.0, 0.0]\n",
    "    for i in range(1000):\n",
    "        x = torch.tensor(context).cuda()\n",
    "        #print(x)\n",
    "        x = x.view(1, CONTEXT_LEN, 1 + ADDED_PARAM_LEN)\n",
    "        #print(x.shape)\n",
    "        logits = model(x)\n",
    "        #print(f\"{logits=}\")\n",
    "        probs = F.softmax(logits[:, :VOCAB_SIZE], dim=1)\n",
    "        ix = torch.multinomial(probs, num_samples=1).item()\n",
    "        # shift the context window and track samples\n",
    "        beat = logits[0][-2].item()\n",
    "        delay = logits[0][-1].item()\n",
    "        context = context[1 + ADDED_PARAM_LEN:] + [ix, beat, delay]\n",
    "        out.append([ix, beat, delay])\n",
    "        if ix == 3:\n",
    "            break\n",
    "    with open(f\"sample-{sample}.tokens\", 'wb') as f:\n",
    "        # print(out)\n",
    "        cbor2.dump(out, f)\n",
    "        print(\"wrote\", f.name)"
   ]
  },
  {
   "cell_type": "code",
   "execution_count": null,
   "id": "cc6531a8-93c7-4044-9415-30a04ee4f954",
   "metadata": {},
   "outputs": [],
   "source": []
  }
 ],
 "metadata": {
  "kernelspec": {
   "display_name": "Python 3 (ipykernel)",
   "language": "python",
   "name": "python3"
  },
  "language_info": {
   "codemirror_mode": {
    "name": "ipython",
    "version": 3
   },
   "file_extension": ".py",
   "mimetype": "text/x-python",
   "name": "python",
   "nbconvert_exporter": "python",
   "pygments_lexer": "ipython3",
   "version": "3.11.5"
  }
 },
 "nbformat": 4,
 "nbformat_minor": 5
}
